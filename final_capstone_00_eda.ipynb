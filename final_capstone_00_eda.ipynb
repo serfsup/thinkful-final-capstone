{
 "cells": [
  {
   "cell_type": "markdown",
   "metadata": {
    "colab_type": "text",
    "id": "view-in-github"
   },
   "source": [
    "<a href=\"https://colab.research.google.com/github/serfsup/thinkful-final-capstone/blob/master/final_capstone_00_eda.ipynb\" target=\"_parent\"><img src=\"https://colab.research.google.com/assets/colab-badge.svg\" alt=\"Open In Colab\"/></a>"
   ]
  },
  {
   "cell_type": "code",
   "execution_count": 1,
   "metadata": {
    "colab": {
     "base_uri": "https://localhost:8080/",
     "height": 121
    },
    "colab_type": "code",
    "id": "xLETcZKF1GsV",
    "outputId": "f4ee088d-d53d-4cd2-848d-11e54ff9939a"
   },
   "outputs": [
    {
     "ename": "ModuleNotFoundError",
     "evalue": "No module named 'google.colab'",
     "output_type": "error",
     "traceback": [
      "\u001b[0;31m---------------------------------------------------------------------------\u001b[0m",
      "\u001b[0;31mModuleNotFoundError\u001b[0m                       Traceback (most recent call last)",
      "\u001b[0;32m<ipython-input-1-91874b305a32>\u001b[0m in \u001b[0;36m<module>\u001b[0;34m\u001b[0m\n\u001b[0;32m----> 1\u001b[0;31m \u001b[0;32mfrom\u001b[0m \u001b[0mgoogle\u001b[0m\u001b[0;34m.\u001b[0m\u001b[0mcolab\u001b[0m \u001b[0;32mimport\u001b[0m \u001b[0mdrive\u001b[0m\u001b[0;34m\u001b[0m\u001b[0;34m\u001b[0m\u001b[0m\n\u001b[0m\u001b[1;32m      2\u001b[0m \u001b[0mdrive\u001b[0m\u001b[0;34m.\u001b[0m\u001b[0mmount\u001b[0m\u001b[0;34m(\u001b[0m\u001b[0;34m'/content/drive/'\u001b[0m\u001b[0;34m)\u001b[0m\u001b[0;34m\u001b[0m\u001b[0;34m\u001b[0m\u001b[0m\n",
      "\u001b[0;31mModuleNotFoundError\u001b[0m: No module named 'google.colab'"
     ]
    }
   ],
   "source": [
    "from google.colab import drive\n",
    "drive.mount('/content/drive/')"
   ]
  },
  {
   "cell_type": "code",
   "execution_count": null,
   "metadata": {
    "colab": {
     "base_uri": "https://localhost:8080/",
     "height": 34
    },
    "colab_type": "code",
    "id": "REr1huxU7y-E",
    "outputId": "76b25d9d-91eb-45a6-aa09-d8e1aa4a769f"
   },
   "outputs": [],
   "source": [
    "cd 'drive/My Drive/Colab Datasets'"
   ]
  },
  {
   "cell_type": "code",
   "execution_count": null,
   "metadata": {
    "colab": {
     "base_uri": "https://localhost:8080/",
     "height": 67
    },
    "colab_type": "code",
    "id": "diecdAW0-Jvg",
    "outputId": "c314f9e7-dcd5-4b9a-e440-bd813518514b"
   },
   "outputs": [],
   "source": [
    "ls"
   ]
  },
  {
   "cell_type": "code",
   "execution_count": null,
   "metadata": {
    "colab": {
     "base_uri": "https://localhost:8080/",
     "height": 67
    },
    "colab_type": "code",
    "id": "EtjIAE4DAlvX",
    "outputId": "4ccef278-7839-438d-aceb-914cbb432d4b"
   },
   "outputs": [],
   "source": [
    "!pip install -q imgaug==0.2.6\n",
    "!pip install -q matplotlib==3.1.0  # 3.1.1 issues with seaborn heatmap."
   ]
  },
  {
   "cell_type": "code",
   "execution_count": null,
   "metadata": {
    "colab": {},
    "colab_type": "code",
    "id": "nOrajd_iLrMI"
   },
   "outputs": [],
   "source": [
    "# Import data science environment.\n",
    "import os\n",
    "import pickle\n",
    "import re\n",
    "\n",
    "import matplotlib.pyplot as plt\n",
    "import numpy as np\n",
    "import pandas as pd\n",
    "import scipy\n",
    "import seaborn as sns\n",
    "from sklearn.model_selection import train_test_split\n",
    "from sklearn.feature_extraction.text import CountVectorizer\n",
    "\n",
    "# Display preferences.\n",
    "%matplotlib inline\n",
    "pd.options.display.float_format = '{:.3f}'.format\n",
    "sns.set_style('white')"
   ]
  },
  {
   "cell_type": "code",
   "execution_count": null,
   "metadata": {
    "colab": {
     "base_uri": "https://localhost:8080/",
     "height": 67
    },
    "colab_type": "code",
    "id": "RAhuAceKBS9r",
    "outputId": "ae4b427a-3cdf-4a8d-9b8c-e711df2927e7"
   },
   "outputs": [],
   "source": [
    "print('pandas', pd.__version__)\n",
    "print('numpy', np.__version__)\n",
    "print('seaborn', sns.__version__)"
   ]
  },
  {
   "cell_type": "code",
   "execution_count": null,
   "metadata": {
    "colab": {
     "base_uri": "https://localhost:8080/",
     "height": 67
    },
    "colab_type": "code",
    "id": "hckFfNGuJ56F",
    "outputId": "96550d40-143d-4368-93fa-9c56f7a3bc32"
   },
   "outputs": [],
   "source": [
    "UK_df = pd.read_csv('./amazon_reviews_UK.tsv', sep='\\t', error_bad_lines=False,\n",
    "                    parse_dates=['review_date'])"
   ]
  },
  {
   "cell_type": "code",
   "execution_count": null,
   "metadata": {
    "colab": {
     "base_uri": "https://localhost:8080/",
     "height": 608
    },
    "colab_type": "code",
    "id": "zpizkRx2RE7t",
    "outputId": "e37c7e89-dafb-4015-8a60-227abcee0886"
   },
   "outputs": [],
   "source": [
    "US_df = pd.read_csv('./amazon_reviews_US.tsv', sep='\\t', error_bad_lines=False,\n",
    "                    parse_dates=['review_date'])"
   ]
  },
  {
   "cell_type": "code",
   "execution_count": null,
   "metadata": {
    "colab": {
     "base_uri": "https://localhost:8080/",
     "height": 34
    },
    "colab_type": "code",
    "id": "7ukk8jo0s1cT",
    "outputId": "e693965d-5a68-4d92-c242-036b7ad725f4"
   },
   "outputs": [],
   "source": [
    "UK_df.shape"
   ]
  },
  {
   "cell_type": "code",
   "execution_count": null,
   "metadata": {
    "colab": {
     "base_uri": "https://localhost:8080/",
     "height": 34
    },
    "colab_type": "code",
    "id": "eVQRzW7vs1oI",
    "outputId": "0fcd8516-fcad-4986-81e2-20506e29c170"
   },
   "outputs": [],
   "source": [
    "US_df.shape"
   ]
  },
  {
   "cell_type": "code",
   "execution_count": null,
   "metadata": {
    "colab": {
     "base_uri": "https://localhost:8080/",
     "height": 34
    },
    "colab_type": "code",
    "id": "vmSP2nxuKhwv",
    "outputId": "222c050f-06c8-48bf-ea28-531efc63b5de"
   },
   "outputs": [],
   "source": [
    "# Count lines in df.\n",
    "cat amazon_reviews_UK.tsv | wc -l"
   ]
  },
  {
   "cell_type": "code",
   "execution_count": null,
   "metadata": {
    "colab": {
     "base_uri": "https://localhost:8080/",
     "height": 34
    },
    "colab_type": "code",
    "id": "xlqPFTn9Gqfp",
    "outputId": "b30e8391-5d6b-4697-91fd-700083e45e33"
   },
   "outputs": [],
   "source": [
    "cat amazon_reviews_US.tsv | wc -l"
   ]
  },
  {
   "cell_type": "code",
   "execution_count": null,
   "metadata": {
    "colab": {
     "base_uri": "https://localhost:8080/",
     "height": 450
    },
    "colab_type": "code",
    "id": "7gfPDQGEwsKw",
    "outputId": "70db8e5d-b6c0-4e15-8ce1-c67d9887b6f8"
   },
   "outputs": [],
   "source": [
    "UK_df.head()"
   ]
  },
  {
   "cell_type": "code",
   "execution_count": null,
   "metadata": {
    "colab": {},
    "colab_type": "code",
    "id": "XfplKxjkovpw"
   },
   "outputs": [],
   "source": [
    "assert US_df.shape[1] == UK_df.shape[1]\n",
    "assert UK_df.columns.all() == US_df.columns.all()\n",
    "combined_df = pd.concat([UK_df.copy(), US_df.copy()])\n",
    "assert combined_df.shape[0] == US_df.shape[0] + UK_df.shape[0]"
   ]
  },
  {
   "cell_type": "code",
   "execution_count": null,
   "metadata": {
    "colab": {
     "base_uri": "https://localhost:8080/",
     "height": 450
    },
    "colab_type": "code",
    "id": "0heJLgXKKxjs",
    "outputId": "a5ebd937-0dee-4d88-e7ee-b4db1db8b856"
   },
   "outputs": [],
   "source": [
    "combined_df.reset_index(inplace=True)\n",
    "combined_df.head()"
   ]
  },
  {
   "cell_type": "code",
   "execution_count": null,
   "metadata": {
    "colab": {
     "base_uri": "https://localhost:8080/",
     "height": 302
    },
    "colab_type": "code",
    "id": "sYTRZKj9Btsz",
    "outputId": "c834c777-0199-4066-9fc2-14da68f49167"
   },
   "outputs": [],
   "source": [
    "combined_df.isnull().sum()"
   ]
  },
  {
   "cell_type": "code",
   "execution_count": 2,
   "metadata": {
    "colab": {},
    "colab_type": "code",
    "id": "tZ21zBOZPNC9"
   },
   "outputs": [
    {
     "ename": "NameError",
     "evalue": "name 'combined_df' is not defined",
     "output_type": "error",
     "traceback": [
      "\u001b[0;31m---------------------------------------------------------------------------\u001b[0m",
      "\u001b[0;31mNameError\u001b[0m                                 Traceback (most recent call last)",
      "\u001b[0;32m<ipython-input-2-0c3ed8f9b3ff>\u001b[0m in \u001b[0;36m<module>\u001b[0;34m\u001b[0m\n\u001b[0;32m----> 1\u001b[0;31m \u001b[0mcombined_df\u001b[0m \u001b[0;34m=\u001b[0m \u001b[0mcombined_df\u001b[0m\u001b[0;34m.\u001b[0m\u001b[0mdrop_duplicates\u001b[0m\u001b[0;34m(\u001b[0m\u001b[0;34m)\u001b[0m\u001b[0;34m\u001b[0m\u001b[0;34m\u001b[0m\u001b[0m\n\u001b[0m",
      "\u001b[0;31mNameError\u001b[0m: name 'combined_df' is not defined"
     ]
    }
   ],
   "source": [
    "combined_df = combined_df.drop_duplicates()"
   ]
  },
  {
   "cell_type": "code",
   "execution_count": null,
   "metadata": {
    "colab": {},
    "colab_type": "code",
    "id": "YzjNG73Zon5E"
   },
   "outputs": [],
   "source": [
    "# Drop rows with null values.\n",
    "combined_df = combined_df.dropna()"
   ]
  },
  {
   "cell_type": "code",
   "execution_count": null,
   "metadata": {
    "colab": {
     "base_uri": "https://localhost:8080/",
     "height": 302
    },
    "colab_type": "code",
    "id": "hzCND7Y3o3Bh",
    "outputId": "7d38d71c-0e58-42ac-f443-4b428b5c5dbc"
   },
   "outputs": [],
   "source": [
    "combined_df.isnull().sum()"
   ]
  },
  {
   "cell_type": "code",
   "execution_count": null,
   "metadata": {
    "colab": {
     "base_uri": "https://localhost:8080/",
     "height": 302
    },
    "colab_type": "code",
    "id": "Gv1_zo4Synkk",
    "outputId": "4db1eb19-aaec-4d41-8887-3fc1566c2b64"
   },
   "outputs": [],
   "source": [
    "combined_df.dtypes"
   ]
  },
  {
   "cell_type": "code",
   "execution_count": null,
   "metadata": {
    "colab": {},
    "colab_type": "code",
    "id": "tPhyCW358mSk"
   },
   "outputs": [],
   "source": [
    "# Change dtypes from float64 to int64.\n",
    "combined_df.star_rating = combined_df.star_rating.astype(int)\n",
    "combined_df.helpful_votes = combined_df.helpful_votes.astype(int)\n",
    "combined_df.total_votes = combined_df.total_votes.astype(int)"
   ]
  },
  {
   "cell_type": "code",
   "execution_count": null,
   "metadata": {
    "colab": {
     "base_uri": "https://localhost:8080/",
     "height": 302
    },
    "colab_type": "code",
    "id": "UIRJYv8a8mg9",
    "outputId": "7b51c436-9e9f-416f-b73f-2c59239be87d"
   },
   "outputs": [],
   "source": [
    "combined_df.dtypes"
   ]
  },
  {
   "cell_type": "code",
   "execution_count": null,
   "metadata": {
    "colab": {
     "base_uri": "https://localhost:8080/",
     "height": 118
    },
    "colab_type": "code",
    "id": "2AfrY-giueNJ",
    "outputId": "50bb11c1-0123-4505-edb5-ba2f535efed3"
   },
   "outputs": [],
   "source": [
    "combined_df.review_body.head()"
   ]
  },
  {
   "cell_type": "code",
   "execution_count": null,
   "metadata": {
    "colab": {},
    "colab_type": "code",
    "id": "0hPF2rOoXJrI"
   },
   "outputs": [],
   "source": [
    "cols_to_drop = ['customer_id', 'review_id', 'product_id', 'product_parent',\n",
    "                'product_title', 'review_headline', 'review_date']\n",
    "                \n",
    "combined_df = combined_df.drop(cols_to_drop, axis=1)"
   ]
  },
  {
   "cell_type": "code",
   "execution_count": null,
   "metadata": {
    "colab": {},
    "colab_type": "code",
    "id": "AZnR6ldX5BNR"
   },
   "outputs": [],
   "source": [
    "combined_df['helpful_rate'] = np.where(\n",
    "  combined_df['total_votes'] > 0,\n",
    "  combined_df['helpful_votes'] / combined_df['total_votes'], -1)"
   ]
  },
  {
   "cell_type": "code",
   "execution_count": null,
   "metadata": {
    "colab": {
     "base_uri": "https://localhost:8080/",
     "height": 269
    },
    "colab_type": "code",
    "id": "VAZTsUOSE3Rv",
    "outputId": "d10e97e9-4b56-47d7-fcc5-a7b752108854"
   },
   "outputs": [],
   "source": [
    "combined_df.info()"
   ]
  },
  {
   "cell_type": "code",
   "execution_count": null,
   "metadata": {
    "colab": {},
    "colab_type": "code",
    "id": "EqrPSDv_Loxz"
   },
   "outputs": [],
   "source": [
    "# Change objects to category types where appropriate.\n",
    "combined_df['marketplace'] = combined_df.marketplace.astype('category')\n",
    "combined_df['vine'] = combined_df.vine.astype('category')\n",
    "combined_df['verified_purchase'] = combined_df.verified_purchase.astype(\n",
    "    'category')\n",
    "combined_df['product_category'] = combined_df.product_category.astype(\n",
    "    'category')"
   ]
  },
  {
   "cell_type": "code",
   "execution_count": null,
   "metadata": {
    "colab": {
     "base_uri": "https://localhost:8080/",
     "height": 269
    },
    "colab_type": "code",
    "id": "OIdRgwNyFA6Z",
    "outputId": "acb6de10-beb1-45ea-86de-12a92949981a"
   },
   "outputs": [],
   "source": [
    "combined_df.info()"
   ]
  },
  {
   "cell_type": "code",
   "execution_count": null,
   "metadata": {
    "colab": {},
    "colab_type": "code",
    "id": "MGyjIUpyEy06"
   },
   "outputs": [],
   "source": [
    "# Split into train and eval/holdout groups.\n",
    "X = combined_df.drop('star_rating', axis=1)\n",
    "y = combined_df.star_rating\n",
    "X_train, X_eval_holdout, y_train, y_eval_holdout = train_test_split(\n",
    "    X, y, test_size=0.3, random_state=15)"
   ]
  },
  {
   "cell_type": "code",
   "execution_count": null,
   "metadata": {
    "colab": {},
    "colab_type": "code",
    "id": "taXXvxzSHP34"
   },
   "outputs": [],
   "source": [
    "# Split into eval and holdout groups.\n",
    "X_eval, X_holdout, y_eval, y_holdout = train_test_split(\n",
    "    X_eval_holdout, y_eval_holdout, test_size=0.5, random_state=15)"
   ]
  },
  {
   "cell_type": "code",
   "execution_count": null,
   "metadata": {
    "colab": {
     "base_uri": "https://localhost:8080/",
     "height": 185
    },
    "colab_type": "code",
    "id": "d8uicpvJSQOr",
    "outputId": "fff26af5-fdbf-425b-e792-82a4caa6633b"
   },
   "outputs": [],
   "source": [
    "X_train.nunique()"
   ]
  },
  {
   "cell_type": "code",
   "execution_count": null,
   "metadata": {
    "colab": {
     "base_uri": "https://localhost:8080/",
     "height": 729
    },
    "colab_type": "code",
    "id": "WdtL4X93HQz5",
    "outputId": "63422bd3-af6f-452e-e9b9-6706cf77954c"
   },
   "outputs": [],
   "source": [
    "# Run heatmap to check for variable correlations.\n",
    "fig, ax = plt.subplots(figsize=(12,10))\n",
    "sns.heatmap(X_train.corr(), annot=True, annot_kws={\"size\": 10})\n",
    "plt.tight_layout();"
   ]
  },
  {
   "cell_type": "markdown",
   "metadata": {
    "colab_type": "text",
    "id": "nhmNWSyhHhs0"
   },
   "source": [
    "It appears that total_votes and helpful_votes are highly correlated for both data sets. Therefore, we should drop one of them. Not sure which one to drop at this point, but will need to discuss it and decide."
   ]
  },
  {
   "cell_type": "code",
   "execution_count": null,
   "metadata": {
    "colab": {
     "base_uri": "https://localhost:8080/",
     "height": 67
    },
    "colab_type": "code",
    "id": "ZRn_inlAggh2",
    "outputId": "bb6419fa-d935-4dc2-ad58-2b61b601f5a5"
   },
   "outputs": [],
   "source": [
    "X_train.vine.value_counts()"
   ]
  },
  {
   "cell_type": "code",
   "execution_count": null,
   "metadata": {
    "colab": {
     "base_uri": "https://localhost:8080/",
     "height": 118
    },
    "colab_type": "code",
    "id": "YBfSi2XKiLtI",
    "outputId": "c81abc5e-fdea-476d-a768-32dcfb71c899"
   },
   "outputs": [],
   "source": [
    "y_train.value_counts().sort_index(ascending=False)"
   ]
  },
  {
   "cell_type": "code",
   "execution_count": null,
   "metadata": {
    "colab": {
     "base_uri": "https://localhost:8080/",
     "height": 295
    },
    "colab_type": "code",
    "id": "rrHxh2fO3jmR",
    "outputId": "080ae893-0909-4d2b-abb1-067b7ef1cad1"
   },
   "outputs": [],
   "source": [
    "sns.countplot(y_train).set_title(\n",
    "    \"Rating Totals for UK and US\")\n",
    "plt.xlabel('Star Rating')\n",
    "plt.ylabel('Count');"
   ]
  },
  {
   "cell_type": "code",
   "execution_count": null,
   "metadata": {
    "colab": {
     "base_uri": "https://localhost:8080/",
     "height": 601
    },
    "colab_type": "code",
    "id": "yXHg3QHDqnp4",
    "outputId": "735fc997-f481-4476-89a1-c0239509f661"
   },
   "outputs": [],
   "source": [
    "# Pie chart\n",
    "agg = y_train.value_counts().sort_index(ascending=False)\n",
    "labels = agg.index\n",
    "sizes = agg.values\n",
    "# only \"explode\" the largest slice\n",
    "explode = (0.1, 0, 0, 0, 0)  \n",
    "fig1, ax1 = plt.subplots(figsize=(8, 8))\n",
    "ax1.pie(sizes, explode=explode, labels=labels, autopct='%1.1f%%',\n",
    "        shadow=True, startangle=90) \n",
    "plt.tight_layout()\n",
    "plt.title('Review Star Rating Distribution')\n",
    "plt.show()"
   ]
  },
  {
   "cell_type": "code",
   "execution_count": null,
   "metadata": {
    "colab": {
     "base_uri": "https://localhost:8080/",
     "height": 1000
    },
    "colab_type": "code",
    "id": "mYTHgEEPY4YS",
    "outputId": "9325302f-f5d9-4b73-d4fd-d2cffbd4256a"
   },
   "outputs": [],
   "source": [
    "uk = X_train.loc[X_train.marketplace == 'UK', 'product_category'].value_counts()\n",
    "us = X_train.loc[X_train.marketplace == 'US', 'product_category'].value_counts()\n",
    "\n",
    "print(uk)\n",
    "print()\n",
    "print(us)"
   ]
  },
  {
   "cell_type": "code",
   "execution_count": null,
   "metadata": {
    "colab": {},
    "colab_type": "code",
    "id": "Imq853MlDOUm"
   },
   "outputs": [],
   "source": [
    "uk_length = (X_train.marketplace == 'UK').sum()\n",
    "us_length = (X_train.marketplace == 'US').sum()\n",
    "\n",
    "uk_percent = (uk / uk_length).sort_index()\n",
    "us_percent = (us / us_length).sort_index()"
   ]
  },
  {
   "cell_type": "code",
   "execution_count": null,
   "metadata": {
    "colab": {
     "base_uri": "https://localhost:8080/",
     "height": 749
    },
    "colab_type": "code",
    "id": "0UECQ-GVaSGK",
    "outputId": "a195da18-a081-4814-f3ba-f2b5393919aa"
   },
   "outputs": [],
   "source": [
    "fig, ax = plt.subplots(1, 2, figsize=(15, 10), sharey=True)\n",
    "\n",
    "ax[0].bar(uk_percent.index, uk_percent.values, color='r')\n",
    "ax[0].set_title('UK Product Category Percents')\n",
    "ax[0].set_xticklabels(uk_percent.index, rotation='vertical')\n",
    "ax[0].set_ylabel('Purchase Percent')\n",
    "ax[0].set_xlabel('Purchase Category')\n",
    "\n",
    "ax[1].bar(us_percent.index, us_percent.values, color='b')\n",
    "ax[1].set_title('US Product Category Percents')\n",
    "ax[1].set_xticklabels(us_percent.index, rotation='vertical')\n",
    "ax[1].set_xlabel('Purchase Category')\n",
    "\n",
    "plt.tight_layout()\n",
    "plt.show();"
   ]
  },
  {
   "cell_type": "code",
   "execution_count": 3,
   "metadata": {
    "colab": {
     "base_uri": "https://localhost:8080/",
     "height": 136
    },
    "colab_type": "code",
    "id": "RWPVWhZbK0VU",
    "outputId": "8170229b-928d-4346-c553-b0614eeba147"
   },
   "outputs": [
    {
     "ename": "NameError",
     "evalue": "name 'pd' is not defined",
     "output_type": "error",
     "traceback": [
      "\u001b[0;31m---------------------------------------------------------------------------\u001b[0m",
      "\u001b[0;31mNameError\u001b[0m                                 Traceback (most recent call last)",
      "\u001b[0;32m<ipython-input-3-2381e49e3b64>\u001b[0m in \u001b[0;36m<module>\u001b[0;34m\u001b[0m\n\u001b[0;32m----> 1\u001b[0;31m pd.concat(\n\u001b[0m\u001b[1;32m      2\u001b[0m   \u001b[0;34m[\u001b[0m\u001b[0mX_train\u001b[0m\u001b[0;34m,\u001b[0m \u001b[0my_train\u001b[0m\u001b[0;34m]\u001b[0m\u001b[0;34m,\u001b[0m \u001b[0maxis\u001b[0m\u001b[0;34m=\u001b[0m\u001b[0;36m1\u001b[0m\u001b[0;34m)\u001b[0m\u001b[0;34m.\u001b[0m\u001b[0mgroupby\u001b[0m\u001b[0;34m(\u001b[0m\u001b[0;34m\u001b[0m\u001b[0;34m\u001b[0m\u001b[0m\n\u001b[1;32m      3\u001b[0m     'marketplace')['star_rating'].agg(['mean', 'std'], axis=1)\n",
      "\u001b[0;31mNameError\u001b[0m: name 'pd' is not defined"
     ]
    }
   ],
   "source": [
    "pd.concat(\n",
    "  [X_train, y_train], axis=1).groupby(\n",
    "    'marketplace')['star_rating'].agg(['mean', 'std'], axis=1)"
   ]
  },
  {
   "cell_type": "code",
   "execution_count": null,
   "metadata": {
    "colab": {
     "base_uri": "https://localhost:8080/",
     "height": 431
    },
    "colab_type": "code",
    "id": "lSw8WdWLfRol",
    "outputId": "475a8e4c-b924-4f35-8302-498caf5e79e9"
   },
   "outputs": [],
   "source": [
    "pd.concat(\n",
    "  [X_train, y_train], axis=1).groupby(\n",
    "    ['product_category','marketplace'])['star_rating'].agg(\n",
    "      ['mean', 'std'], axis=1)"
   ]
  },
  {
   "cell_type": "code",
   "execution_count": null,
   "metadata": {
    "colab": {
     "base_uri": "https://localhost:8080/",
     "height": 633
    },
    "colab_type": "code",
    "id": "GcV-GF_ogg6G",
    "outputId": "81f5c570-f8e3-4b2e-bda2-7039741ddc13"
   },
   "outputs": [],
   "source": [
    "_ = pd.concat(\n",
    "  [X_train, y_train], axis=1).groupby(\n",
    "    ['product_category', 'marketplace'])['star_rating'].mean()\n",
    "_ = _.reset_index() # convert from multi-index series to df.\n",
    "\n",
    "plt.figure(figsize=(15, 8))\n",
    "plt.title('Star Ratings by Product Category and Marketplace')\n",
    "sns.barplot(x=_.product_category, y=_.star_rating, hue=_.marketplace,)\n",
    "plt.xlabel('Product Category')\n",
    "plt.ylabel('Star Rating')\n",
    "plt.xticks(rotation='vertical');"
   ]
  },
  {
   "cell_type": "code",
   "execution_count": null,
   "metadata": {
    "colab": {
     "base_uri": "https://localhost:8080/",
     "height": 517
    },
    "colab_type": "code",
    "id": "wQUfr1qL-fbd",
    "outputId": "6b1e840b-713d-473a-9608-31d11404303d"
   },
   "outputs": [],
   "source": [
    "_ = pd.concat([X_train, y_train], axis=1)\n",
    "_ = _[_.helpful_rate != -1]\n",
    "_.groupby(['marketplace', 'star_rating'])['helpful_rate'].mean()\n",
    "_ = _.reset_index()\n",
    "\n",
    "plt.figure(figsize=(15, 8))\n",
    "plt.title('Helpful Ratings by Star Ratings and Marketplace')\n",
    "sns.barplot(x=_.marketplace, y=_.helpful_rate, hue=_.star_rating)\n",
    "plt.xlabel('Marketplace')\n",
    "plt.ylabel('Helpful Rate')\n",
    "plt.xticks(rotation='vertical');"
   ]
  },
  {
   "cell_type": "code",
   "execution_count": null,
   "metadata": {
    "colab": {
     "base_uri": "https://localhost:8080/",
     "height": 633
    },
    "colab_type": "code",
    "id": "_JGtP7Saq_R2",
    "outputId": "82d3fc4c-8908-4ffa-a67e-13ac83cf25a3"
   },
   "outputs": [],
   "source": [
    "plt.figure(figsize=(15, 8))\n",
    "plt.xticks(rotation='vertical')\n",
    "sns.barplot(x='product_category',\n",
    "            y='helpful_votes',\n",
    "            hue='marketplace',\n",
    "            data=X_train, ci=None)\n",
    "plt.legend(labels=['UK', 'US'])\n",
    "plt.xlabel('Product Category')\n",
    "plt.ylabel('Helpful Votes')\n",
    "plt.title('Helpful Votes by Product Category and Marketplace');"
   ]
  },
  {
   "cell_type": "markdown",
   "metadata": {
    "colab_type": "text",
    "id": "3gqPJHAdEQqH"
   },
   "source": [
    "Why is UK Lawn and Garden such an extreme outlier? After looking into the data, it appears that only 186 of the reviews were from British Lawn & Garden customers. Of those, approximately eleven were helpful reviews, which yields such an extremely higher percentage. With more reviews in that category, there is great likelihood that the helpful vote percentage would even out."
   ]
  },
  {
   "cell_type": "code",
   "execution_count": null,
   "metadata": {
    "colab": {
     "base_uri": "https://localhost:8080/",
     "height": 67
    },
    "colab_type": "code",
    "id": "oQowcqRaFXu3",
    "outputId": "1a23b767-e5da-419c-b688-7a971be6c598"
   },
   "outputs": [],
   "source": [
    "X_train_L_and_G_count = X_train[(X_train.product_category == 'Lawn and Garden') &\n",
    "                                (X_train.marketplace == 'UK')].shape[0]\n",
    "\n",
    "X_train_L_and_G_positive_review_count = X_train[\n",
    "  (X_train.product_category == 'Lawn and Garden') &\n",
    "  (X_train.marketplace == 'UK') &\n",
    "  (X_train.helpful_votes == 1)].shape[0]\n",
    "\n",
    "print('Number of Lawn and Garden Reviews from the UK:', X_train_L_and_G_count)\n",
    "print('Helpful Reviews for UK Lawn & Garden:',\n",
    "    X_train_L_and_G_positive_review_count)\n",
    "print('Percent Helpful Review:', round(\n",
    "    (X_train_L_and_G_positive_review_count * 100 / X_train_L_and_G_count), 3))"
   ]
  },
  {
   "cell_type": "code",
   "execution_count": null,
   "metadata": {
    "colab": {
     "base_uri": "https://localhost:8080/",
     "height": 431
    },
    "colab_type": "code",
    "id": "jfJDjX06vB-G",
    "outputId": "adddb1f3-2bf1-4831-ec0d-39404d9e3c03"
   },
   "outputs": [],
   "source": [
    "X_train.groupby(['product_category', 'marketplace'])['helpful_votes'].agg(\n",
    "    ['mean', 'std'])"
   ]
  },
  {
   "cell_type": "code",
   "execution_count": null,
   "metadata": {
    "colab": {
     "base_uri": "https://localhost:8080/",
     "height": 195
    },
    "colab_type": "code",
    "id": "Rn3YAFFiOUa-",
    "outputId": "df7cddb0-1ed6-4018-8b35-c6c28c13a161"
   },
   "outputs": [],
   "source": [
    "# Group by Verified users only.\n",
    "X_train.groupby(\n",
    "    ['verified_purchase', 'marketplace'])['helpful_rate'].agg(['mean', 'std'])"
   ]
  },
  {
   "cell_type": "code",
   "execution_count": null,
   "metadata": {
    "colab": {
     "base_uri": "https://localhost:8080/",
     "height": 499
    },
    "colab_type": "code",
    "id": "eFH9yay6OU5N",
    "outputId": "78c721bc-f091-4d32-d30a-5f40ef657f64"
   },
   "outputs": [],
   "source": [
    "plt.figure(figsize=(15, 8))\n",
    "sns.barplot(x='verified_purchase',\n",
    "            y='helpful_votes',\n",
    "            hue='marketplace',\n",
    "            data=X_train, ci=None)\n",
    "plt.legend(['UK', 'US'])\n",
    "plt.xticks(labels=['Non-verified purchase', 'Verified purchase'], ticks=[0, 1])\n",
    "plt.title('Helpful Votes by Verified Purchase and Marketplace')\n",
    "plt.xlabel('')\n",
    "plt.ylabel('Helpful Votes');"
   ]
  },
  {
   "cell_type": "code",
   "execution_count": null,
   "metadata": {
    "colab": {
     "base_uri": "https://localhost:8080/",
     "height": 195
    },
    "colab_type": "code",
    "id": "yCQdUcU9OVJH",
    "outputId": "3fc7e0e7-bd6d-4289-e934-9afe9822f0af"
   },
   "outputs": [],
   "source": [
    "# Group by Vine users only.\n",
    "X_train.groupby(\n",
    "    ['vine', 'marketplace'])['helpful_rate'].agg(['mean', 'std'])"
   ]
  },
  {
   "cell_type": "code",
   "execution_count": null,
   "metadata": {
    "colab": {
     "base_uri": "https://localhost:8080/",
     "height": 513
    },
    "colab_type": "code",
    "id": "RlbjO9BqOVZT",
    "outputId": "abca90ff-dc30-464a-bdbc-8ccefcf71258"
   },
   "outputs": [],
   "source": [
    "plt.figure(figsize=(15, 8))\n",
    "sns.barplot(x='vine',\n",
    "            y='helpful_votes',\n",
    "            hue='marketplace',\n",
    "            data=X_train, ci=None)\n",
    "plt.legend(['UK', 'US'])\n",
    "plt.xticks(ticks=[0, 1], labels=['Non-Vine Review', 'Vine Review'])\n",
    "plt.title('Mean Helpful Vote Tags by Vine Reviewers and Marketplace')\n",
    "plt.xlabel('Vine Membership')\n",
    "plt.ylabel('Mean Helpful Vote Tag');"
   ]
  },
  {
   "cell_type": "code",
   "execution_count": null,
   "metadata": {
    "colab": {
     "base_uri": "https://localhost:8080/",
     "height": 67
    },
    "colab_type": "code",
    "id": "HiE5ByrEkWEw",
    "outputId": "e26a0800-5adb-4ded-8d00-9465c5849e95"
   },
   "outputs": [],
   "source": [
    "# Distribution of vine transactions.\n",
    "X_train.vine.value_counts()"
   ]
  },
  {
   "cell_type": "code",
   "execution_count": null,
   "metadata": {
    "colab": {
     "base_uri": "https://localhost:8080/",
     "height": 235
    },
    "colab_type": "code",
    "id": "r7_mnsttOV4A",
    "outputId": "a66337ae-b277-4115-e9fc-1f8145f4831a"
   },
   "outputs": [],
   "source": [
    "_ = pd.concat([X_train, y_train], axis=1)\n",
    "_.head()\n",
    "\n",
    "l_and_g = _[_['product_category'] == 'Lawn and Garden']\n",
    "l_and_g.groupby('marketplace')['helpful_votes'].value_counts().sort_index()"
   ]
  },
  {
   "cell_type": "code",
   "execution_count": null,
   "metadata": {
    "colab": {
     "base_uri": "https://localhost:8080/",
     "height": 295
    },
    "colab_type": "code",
    "id": "TlADLL2Rt-ep",
    "outputId": "159927a8-d574-4ecf-8e8e-893e8a376837"
   },
   "outputs": [],
   "source": [
    "X_train[X_train['helpful_rate'] > 0]['helpful_rate'].hist(bins=40)\n",
    "plt.xlabel('Helpful Percent')\n",
    "plt.ylabel('Review Count')\n",
    "plt.title('Helpful Percentage Counts with Reviews Present');"
   ]
  },
  {
   "cell_type": "markdown",
   "metadata": {
    "colab_type": "text",
    "id": "Pp5i5ao3yOqn"
   },
   "source": [
    "Upsample/downsample next? Use all UK data and upsample to US data, or upsample some and downsample some? If the latter, should the new data be jittered (upsampling only)?"
   ]
  },
  {
   "cell_type": "code",
   "execution_count": null,
   "metadata": {
    "colab": {
     "base_uri": "https://localhost:8080/",
     "height": 284
    },
    "colab_type": "code",
    "id": "9Xdh234HM-EY",
    "outputId": "8a85c974-3c72-4c83-bab4-b1a0c367e6bc"
   },
   "outputs": [],
   "source": [
    "X_train.describe()"
   ]
  },
  {
   "cell_type": "code",
   "execution_count": null,
   "metadata": {
    "colab": {
     "base_uri": "https://localhost:8080/",
     "height": 34
    },
    "colab_type": "code",
    "id": "dCwiyOT9RIIe",
    "outputId": "01e8a568-1835-4ed2-9d12-b7b937e97acc"
   },
   "outputs": [],
   "source": [
    "X_train.helpful_votes.mean()"
   ]
  },
  {
   "cell_type": "code",
   "execution_count": null,
   "metadata": {
    "colab": {
     "base_uri": "https://localhost:8080/",
     "height": 34
    },
    "colab_type": "code",
    "id": "xWY5BhG7bwdm",
    "outputId": "bcafedb6-d056-45d4-b15b-10699e72c3ee"
   },
   "outputs": [],
   "source": [
    "X_train.loc[X_train.helpful_votes > 0, 'helpful_votes'].std()"
   ]
  },
  {
   "cell_type": "code",
   "execution_count": null,
   "metadata": {
    "colab": {
     "base_uri": "https://localhost:8080/",
     "height": 284
    },
    "colab_type": "code",
    "id": "mxven40tSOj_",
    "outputId": "1dc21c32-e234-4d3d-8bc5-86f6ad0cb387"
   },
   "outputs": [],
   "source": [
    "X_train.describe()"
   ]
  },
  {
   "cell_type": "code",
   "execution_count": null,
   "metadata": {
    "colab": {},
    "colab_type": "code",
    "id": "QBngtRbTcxsS"
   },
   "outputs": [],
   "source": [
    "def shrink_outliers(feature: str, train_df: pd.DataFrame, eval_df: pd.DataFrame,\n",
    "                    holdout_df: pd.DataFrame):  \n",
    "  \"\"\"\n",
    "  Takes a feature and replaces values which are greater than three standard\n",
    "  deviations from the mean with the value at that point. \n",
    "  \n",
    "  Args:\n",
    "    feature: the column with outliers\n",
    "    train_df: DataFrame from which mean and standard deviation will be \n",
    "      calculated.\n",
    "    eval_df: DataFrame will have mean and standard deviation applied to feature\n",
    "      column.\n",
    "    holdout_df: DataFrame will have mean and standard deviation applied to\n",
    "      feature column.\n",
    "  Returns:\n",
    "    train_df: DataFrame with outliers replaced.\n",
    "    eval_df: DataFrame with outliers replaced.\n",
    "    holdout_df: DataFrame with outliers replaced.\n",
    "  \"\"\"\n",
    "\n",
    "  mean = train_df.loc[train_df[feature] != 0, feature].mean()\n",
    "  std = train_df.loc[train_df[feature] != 0, feature].std()\n",
    "  replacement_value = mean + (3 * std)\n",
    "\n",
    "  train_df[feature] = train_df[feature].apply(\n",
    "      lambda x: x if x < replacement_value else replacement_value).copy()\n",
    "  eval_df[feature] = eval_df[feature].apply(\n",
    "      lambda x: x if x < replacement_value else replacement_value).copy()\n",
    "  holdout_df[feature] = holdout_df[feature].apply(\n",
    "      lambda x: x if x < replacement_value else replacement_value).copy() \n",
    "  \n",
    "  return train_df, eval_df, holdout_df"
   ]
  },
  {
   "cell_type": "code",
   "execution_count": null,
   "metadata": {
    "colab": {},
    "colab_type": "code",
    "id": "OWlm0zfhFLx0"
   },
   "outputs": [],
   "source": [
    "X_train = X_train.copy()\n",
    "X_eval = X_eval.copy()\n",
    "X_holdout = X_holdout.copy()"
   ]
  },
  {
   "cell_type": "code",
   "execution_count": null,
   "metadata": {
    "colab": {},
    "colab_type": "code",
    "id": "78QFEPhl0gWj"
   },
   "outputs": [],
   "source": [
    "# Add column with length of review_body.\n",
    "X_eval['review_body_len'] = X_eval.review_body.str.split().apply(len)"
   ]
  },
  {
   "cell_type": "code",
   "execution_count": null,
   "metadata": {
    "colab": {},
    "colab_type": "code",
    "id": "A_B2dC8z0C3O"
   },
   "outputs": [],
   "source": [
    "X_holdout['review_body_len'] = X_holdout.review_body.str.split().apply(len)"
   ]
  },
  {
   "cell_type": "code",
   "execution_count": 4,
   "metadata": {
    "colab": {},
    "colab_type": "code",
    "id": "ga3VO6Fp-Hod"
   },
   "outputs": [
    {
     "ename": "NameError",
     "evalue": "name 'X_train' is not defined",
     "output_type": "error",
     "traceback": [
      "\u001b[0;31m---------------------------------------------------------------------------\u001b[0m",
      "\u001b[0;31mNameError\u001b[0m                                 Traceback (most recent call last)",
      "\u001b[0;32m<ipython-input-4-5f83bd560ac6>\u001b[0m in \u001b[0;36m<module>\u001b[0;34m\u001b[0m\n\u001b[1;32m      2\u001b[0m \u001b[0;31m# calculate lengths.\u001b[0m\u001b[0;34m\u001b[0m\u001b[0;34m\u001b[0m\u001b[0;34m\u001b[0m\u001b[0m\n\u001b[1;32m      3\u001b[0m \u001b[0mlengths\u001b[0m \u001b[0;34m=\u001b[0m \u001b[0;34m[\u001b[0m\u001b[0;34m]\u001b[0m\u001b[0;34m\u001b[0m\u001b[0;34m\u001b[0m\u001b[0m\n\u001b[0;32m----> 4\u001b[0;31m \u001b[0;32mfor\u001b[0m \u001b[0mi\u001b[0m\u001b[0;34m,\u001b[0m \u001b[0mtext\u001b[0m \u001b[0;32min\u001b[0m \u001b[0mX_train\u001b[0m\u001b[0;34m.\u001b[0m\u001b[0mreview_body\u001b[0m\u001b[0;34m.\u001b[0m\u001b[0miteritems\u001b[0m\u001b[0;34m(\u001b[0m\u001b[0;34m)\u001b[0m\u001b[0;34m:\u001b[0m\u001b[0;34m\u001b[0m\u001b[0;34m\u001b[0m\u001b[0m\n\u001b[0m\u001b[1;32m      5\u001b[0m   \u001b[0mlengths\u001b[0m\u001b[0;34m.\u001b[0m\u001b[0mappend\u001b[0m\u001b[0;34m(\u001b[0m\u001b[0mlen\u001b[0m\u001b[0;34m(\u001b[0m\u001b[0mtext\u001b[0m\u001b[0;34m.\u001b[0m\u001b[0msplit\u001b[0m\u001b[0;34m(\u001b[0m\u001b[0;34m)\u001b[0m\u001b[0;34m)\u001b[0m\u001b[0;34m)\u001b[0m\u001b[0;34m\u001b[0m\u001b[0;34m\u001b[0m\u001b[0m\n\u001b[1;32m      6\u001b[0m \u001b[0;34m\u001b[0m\u001b[0m\n",
      "\u001b[0;31mNameError\u001b[0m: name 'X_train' is not defined"
     ]
    }
   ],
   "source": [
    "# Ran into memory issues using vectorized methods. Switched to for loop to \n",
    "# calculate lengths.\n",
    "lengths = []\n",
    "for i, text in X_train.review_body.iteritems():\n",
    "  lengths.append(len(text.split()))\n",
    "\n",
    "assert X_train.shape[0] == len(lengths)\n",
    "X_train['review_body_len'] = lengths"
   ]
  },
  {
   "cell_type": "code",
   "execution_count": null,
   "metadata": {
    "colab": {},
    "colab_type": "code",
    "id": "zD0yZ2OFMa_5"
   },
   "outputs": [],
   "source": [
    "# pd.set_option('display.max_columns', None)  \n",
    "# pd.set_option('display.expand_frame_repr', False)\n",
    "# pd.set_option('max_colwidth', -1)"
   ]
  },
  {
   "cell_type": "code",
   "execution_count": null,
   "metadata": {
    "colab": {
     "base_uri": "https://localhost:8080/",
     "height": 195
    },
    "colab_type": "code",
    "id": "X6hhZtL6B6H6",
    "outputId": "82a0484f-7cfe-4958-d221-282ee44e5930"
   },
   "outputs": [],
   "source": [
    "X_train.loc[:, ['review_body', 'review_body_len']].head()"
   ]
  },
  {
   "cell_type": "code",
   "execution_count": null,
   "metadata": {
    "colab": {
     "base_uri": "https://localhost:8080/",
     "height": 284
    },
    "colab_type": "code",
    "id": "f3i4dRbxMXG8",
    "outputId": "bfd0654a-7d18-4d8a-a322-d25d6e0f1746"
   },
   "outputs": [],
   "source": [
    "X_train.describe()"
   ]
  },
  {
   "cell_type": "code",
   "execution_count": null,
   "metadata": {
    "colab": {
     "base_uri": "https://localhost:8080/",
     "height": 295
    },
    "colab_type": "code",
    "id": "D2aY3knFkPpo",
    "outputId": "e631930b-bb0e-4778-b999-0b79baa3d94e"
   },
   "outputs": [],
   "source": [
    "X_train.review_body_len.hist(bins=200)\n",
    "plt.xlabel('Raw Review Length')\n",
    "plt.ylabel('Count')\n",
    "plt.title('Distribution of Review Lengths for X_train');"
   ]
  },
  {
   "cell_type": "code",
   "execution_count": null,
   "metadata": {
    "colab": {},
    "colab_type": "code",
    "id": "xGdrqGbiyktS"
   },
   "outputs": [],
   "source": [
    "X_train, X_eval, X_holdout = shrink_outliers(\n",
    "    'review_body_len', X_train, X_eval, X_holdout)"
   ]
  },
  {
   "cell_type": "code",
   "execution_count": null,
   "metadata": {
    "colab": {
     "base_uri": "https://localhost:8080/",
     "height": 284
    },
    "colab_type": "code",
    "id": "b0cmsgyTORBl",
    "outputId": "66a1cfe9-57c1-4050-b774-6de7be06f161"
   },
   "outputs": [],
   "source": [
    "X_train.describe()"
   ]
  },
  {
   "cell_type": "code",
   "execution_count": null,
   "metadata": {
    "colab": {
     "base_uri": "https://localhost:8080/",
     "height": 295
    },
    "colab_type": "code",
    "id": "NLrtLCZ6OQdw",
    "outputId": "44921b19-e0d5-4e3b-a642-19490626e9e6"
   },
   "outputs": [],
   "source": [
    "X_train.review_body_len.hist(bins=200)\n",
    "plt.xlabel('Review Length Smoothed')\n",
    "plt.ylabel('Count')\n",
    "plt.title('Distribution of Review Lengths for X_train');"
   ]
  },
  {
   "cell_type": "code",
   "execution_count": null,
   "metadata": {
    "colab": {},
    "colab_type": "code",
    "id": "L2qAN94n-kB1"
   },
   "outputs": [],
   "source": [
    "# Text cleaning.\n",
    "def _strip_html(text):\n",
    "    soup = BeautifulSoup(text, \"html.parser\")\n",
    "    return soup.get_text()\n",
    "\n",
    "\n",
    "def _remove_between_square_brackets(text):\n",
    "    return re.sub('\\[[^]]*\\]', '', text)\n",
    "\n",
    "\n",
    "def denoise_text(text):\n",
    "    text = _strip_html(text)\n",
    "    text = _remove_between_square_brackets(text)\n",
    "    return text"
   ]
  },
  {
   "cell_type": "code",
   "execution_count": null,
   "metadata": {
    "colab": {},
    "colab_type": "code",
    "id": "osDeBT1RBA5u"
   },
   "outputs": [],
   "source": [
    "X_train['review_body'] = X_train.review_body.apply(denoise_text)"
   ]
  },
  {
   "cell_type": "code",
   "execution_count": null,
   "metadata": {
    "colab": {},
    "colab_type": "code",
    "id": "gU2iOW0MTKAP"
   },
   "outputs": [],
   "source": [
    "X_eval['review_body'] = X_eval.review_body.apply(denoise_text)"
   ]
  },
  {
   "cell_type": "code",
   "execution_count": null,
   "metadata": {
    "colab": {},
    "colab_type": "code",
    "id": "REJf3ks5TJXN"
   },
   "outputs": [],
   "source": [
    "X_holdout['review_body'] = X_holdout.review_body.apply(denoise_text)"
   ]
  },
  {
   "cell_type": "code",
   "execution_count": null,
   "metadata": {
    "colab": {
     "base_uri": "https://localhost:8080/",
     "height": 34
    },
    "colab_type": "code",
    "id": "KlZjELgsaP7Z",
    "outputId": "bfb96c4b-93de-455a-b0c2-a411da23e834"
   },
   "outputs": [],
   "source": [
    "os.getcwd()"
   ]
  },
  {
   "cell_type": "code",
   "execution_count": null,
   "metadata": {
    "colab": {},
    "colab_type": "code",
    "id": "x2LT2YDZgiqa"
   },
   "outputs": [],
   "source": [
    "vect = CountVectorizer(encoding='utf-8', lowercase=True, stop_words='english',\n",
    "                       ngram_range=(1,1), min_df=10, max_features=5_000,\n",
    "                       dtype=np.int32)"
   ]
  },
  {
   "cell_type": "code",
   "execution_count": null,
   "metadata": {
    "colab": {},
    "colab_type": "code",
    "id": "lMLZWUuZjepb"
   },
   "outputs": [],
   "source": [
    "X_train_text_vect = vect.fit_transform(X_train.review_body)"
   ]
  },
  {
   "cell_type": "code",
   "execution_count": null,
   "metadata": {
    "colab": {},
    "colab_type": "code",
    "id": "xrLKsTYrjeaU"
   },
   "outputs": [],
   "source": [
    "X_eval_text_vect = vect.transform(X_eval.review_body)"
   ]
  },
  {
   "cell_type": "code",
   "execution_count": null,
   "metadata": {
    "colab": {},
    "colab_type": "code",
    "id": "yg-pw9kykFdz"
   },
   "outputs": [],
   "source": [
    "X_holdout_text_vect = vect.transform(X_holdout.review_body)"
   ]
  },
  {
   "cell_type": "code",
   "execution_count": null,
   "metadata": {
    "colab": {
     "base_uri": "https://localhost:8080/",
     "height": 34
    },
    "colab_type": "code",
    "id": "GP-VuPJ77ZGn",
    "outputId": "84b8e3cd-1ec5-4cef-d312-30d7dba42d0c"
   },
   "outputs": [],
   "source": [
    "type(X_eval_text_vect)"
   ]
  },
  {
   "cell_type": "code",
   "execution_count": null,
   "metadata": {
    "colab": {},
    "colab_type": "code",
    "id": "_Z4O1pDy7qCD"
   },
   "outputs": [],
   "source": [
    "scipy.sparse.save_npz('X_train_text_sparse', X_train_text_vect)"
   ]
  },
  {
   "cell_type": "code",
   "execution_count": null,
   "metadata": {
    "colab": {},
    "colab_type": "code",
    "id": "x89E9XYWxwhC"
   },
   "outputs": [],
   "source": [
    "scipy.sparse.save_npz('X_eval_text_sparse', X_eval_text_vect)"
   ]
  },
  {
   "cell_type": "code",
   "execution_count": null,
   "metadata": {
    "colab": {},
    "colab_type": "code",
    "id": "7dpogEEA9Jfd"
   },
   "outputs": [],
   "source": [
    "scipy.sparse.save_npz('X_holdout_text_sparse', X_holdout_text_vect)"
   ]
  },
  {
   "cell_type": "code",
   "execution_count": null,
   "metadata": {
    "colab": {},
    "colab_type": "code",
    "id": "7fjhpsa9d1_i"
   },
   "outputs": [],
   "source": [
    "X_train['target'] = y_train\n",
    "X_eval['target'] = y_eval\n",
    "X_holdout['target'] = y_holdout"
   ]
  },
  {
   "cell_type": "code",
   "execution_count": null,
   "metadata": {
    "colab": {},
    "colab_type": "code",
    "id": "QNcjW1MaewRC"
   },
   "outputs": [],
   "source": [
    "X_train.to_csv('train_clean.tsv', index=False, sep='\\t')"
   ]
  },
  {
   "cell_type": "code",
   "execution_count": null,
   "metadata": {
    "colab": {},
    "colab_type": "code",
    "id": "epeu_-v5aipX"
   },
   "outputs": [],
   "source": [
    "X_eval.to_csv('eval_clean.tsv', index=False, sep='\\t')"
   ]
  },
  {
   "cell_type": "code",
   "execution_count": null,
   "metadata": {
    "colab": {},
    "colab_type": "code",
    "id": "-R45u2ZUaiKf"
   },
   "outputs": [],
   "source": [
    "X_holdout.to_csv('holdout_clean.tsv', index=False, sep='\\t')"
   ]
  },
  {
   "cell_type": "code",
   "execution_count": null,
   "metadata": {
    "colab": {},
    "colab_type": "code",
    "id": "xes-1o47a9eV"
   },
   "outputs": [],
   "source": [
    "text_col_names = vect.get_feature_names()"
   ]
  },
  {
   "cell_type": "code",
   "execution_count": null,
   "metadata": {
    "colab": {
     "base_uri": "https://localhost:8080/",
     "height": 34
    },
    "colab_type": "code",
    "id": "B75Y3rO3_Hbj",
    "outputId": "c79dda04-4070-47d1-e847-6bbc3dea8971"
   },
   "outputs": [],
   "source": [
    "len(text_col_names)"
   ]
  },
  {
   "cell_type": "code",
   "execution_count": null,
   "metadata": {
    "colab": {},
    "colab_type": "code",
    "id": "5_SZOsQ8_Nhx"
   },
   "outputs": [],
   "source": [
    "with open('text_col_names.csv', 'a') as f:\n",
    "  for col in text_col_names:\n",
    "    f.write('{}, '.format(col))"
   ]
  },
  {
   "cell_type": "code",
   "execution_count": null,
   "metadata": {
    "colab": {
     "base_uri": "https://localhost:8080/",
     "height": 185
    },
    "colab_type": "code",
    "id": "YChprtPqZWTa",
    "outputId": "f0de907b-3678-43df-a8e7-a5fc89f34711"
   },
   "outputs": [],
   "source": [
    "ls -lah"
   ]
  },
  {
   "cell_type": "markdown",
   "metadata": {
    "colab_type": "text",
    "id": "UmZRopjVp8g9"
   },
   "source": []
  }
 ],
 "metadata": {
  "accelerator": "GPU",
  "colab": {
   "collapsed_sections": [],
   "include_colab_link": true,
   "machine_shape": "hm",
   "name": "final_capstone_00_eda.ipynb",
   "provenance": []
  },
  "kernelspec": {
   "display_name": "Python 3",
   "language": "python",
   "name": "python3"
  },
  "language_info": {
   "codemirror_mode": {
    "name": "ipython",
    "version": 3
   },
   "file_extension": ".py",
   "mimetype": "text/x-python",
   "name": "python",
   "nbconvert_exporter": "python",
   "pygments_lexer": "ipython3",
   "version": "3.7.5"
  }
 },
 "nbformat": 4,
 "nbformat_minor": 1
}
