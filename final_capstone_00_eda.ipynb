{
  "nbformat": 4,
  "nbformat_minor": 0,
  "metadata": {
    "colab": {
      "name": "final_capstone_00_eda.ipynb",
      "provenance": [],
      "collapsed_sections": [],
      "machine_shape": "hm",
      "include_colab_link": true
    },
    "kernelspec": {
      "name": "python3",
      "display_name": "Python 3"
    },
    "accelerator": "GPU"
  },
  "cells": [
    {
      "cell_type": "markdown",
      "metadata": {
        "id": "view-in-github",
        "colab_type": "text"
      },
      "source": [
        "<a href=\"https://colab.research.google.com/github/serfsup/thinkful-final-capstone/blob/master/final_capstone_00_eda.ipynb\" target=\"_parent\"><img src=\"https://colab.research.google.com/assets/colab-badge.svg\" alt=\"Open In Colab\"/></a>"
      ]
    },
    {
      "cell_type": "code",
      "metadata": {
        "id": "xLETcZKF1GsV",
        "colab_type": "code",
        "outputId": "f4ee088d-d53d-4cd2-848d-11e54ff9939a",
        "colab": {
          "base_uri": "https://localhost:8080/",
          "height": 121
        }
      },
      "source": [
        "from google.colab import drive\n",
        "drive.mount('/content/drive/')"
      ],
      "execution_count": 0,
      "outputs": [
        {
          "output_type": "stream",
          "text": [
            "Go to this URL in a browser: https://accounts.google.com/o/oauth2/auth?client_id=947318989803-6bn6qk8qdgf4n4g3pfee6491hc0brc4i.apps.googleusercontent.com&redirect_uri=urn%3aietf%3awg%3aoauth%3a2.0%3aoob&response_type=code&scope=email%20https%3a%2f%2fwww.googleapis.com%2fauth%2fdocs.test%20https%3a%2f%2fwww.googleapis.com%2fauth%2fdrive%20https%3a%2f%2fwww.googleapis.com%2fauth%2fdrive.photos.readonly%20https%3a%2f%2fwww.googleapis.com%2fauth%2fpeopleapi.readonly\n",
            "\n",
            "Enter your authorization code:\n",
            "··········\n",
            "Mounted at /content/drive/\n"
          ],
          "name": "stdout"
        }
      ]
    },
    {
      "cell_type": "code",
      "metadata": {
        "id": "REr1huxU7y-E",
        "colab_type": "code",
        "outputId": "76b25d9d-91eb-45a6-aa09-d8e1aa4a769f",
        "colab": {
          "base_uri": "https://localhost:8080/",
          "height": 34
        }
      },
      "source": [
        "cd 'drive/My Drive/Colab Datasets'"
      ],
      "execution_count": 0,
      "outputs": [
        {
          "output_type": "stream",
          "text": [
            "/content/drive/My Drive/Colab Datasets\n"
          ],
          "name": "stdout"
        }
      ]
    },
    {
      "cell_type": "code",
      "metadata": {
        "id": "diecdAW0-Jvg",
        "colab_type": "code",
        "outputId": "c314f9e7-dcd5-4b9a-e440-bd813518514b",
        "colab": {
          "base_uri": "https://localhost:8080/",
          "height": 67
        }
      },
      "source": [
        "ls"
      ],
      "execution_count": 0,
      "outputs": [
        {
          "output_type": "stream",
          "text": [
            "amazon_reviews_UK.tsv  holdout_clean.tsv   X_eval_text_sparse.npz\n",
            "amazon_reviews_US.tsv  text_col_names.csv  X_holdout_text_sparse.npz\n",
            "eval_clean.tsv         train_clean.tsv     X_train_text_sparse.npz\n"
          ],
          "name": "stdout"
        }
      ]
    },
    {
      "cell_type": "code",
      "metadata": {
        "id": "EtjIAE4DAlvX",
        "colab_type": "code",
        "outputId": "4ccef278-7839-438d-aceb-914cbb432d4b",
        "colab": {
          "base_uri": "https://localhost:8080/",
          "height": 67
        }
      },
      "source": [
        "!pip install -q imgaug==0.2.6\n",
        "!pip install -q matplotlib==3.1.0  # 3.1.1 issues with seaborn heatmap."
      ],
      "execution_count": 0,
      "outputs": [
        {
          "output_type": "stream",
          "text": [
            "\u001b[?25l\r\u001b[K     |▌                               | 10kB 26.6MB/s eta 0:00:01\r\u001b[K     |█                               | 20kB 1.8MB/s eta 0:00:01\r\u001b[K     |█▋                              | 30kB 2.6MB/s eta 0:00:01\r\u001b[K     |██                              | 40kB 1.7MB/s eta 0:00:01\r\u001b[K     |██▋                             | 51kB 2.1MB/s eta 0:00:01\r\u001b[K     |███▏                            | 61kB 2.5MB/s eta 0:00:01\r\u001b[K     |███▋                            | 71kB 2.9MB/s eta 0:00:01\r\u001b[K     |████▏                           | 81kB 3.3MB/s eta 0:00:01\r\u001b[K     |████▊                           | 92kB 3.7MB/s eta 0:00:01\r\u001b[K     |█████▏                          | 102kB 2.8MB/s eta 0:00:01\r\u001b[K     |█████▊                          | 112kB 2.8MB/s eta 0:00:01\r\u001b[K     |██████▎                         | 122kB 2.8MB/s eta 0:00:01\r\u001b[K     |██████▊                         | 133kB 2.8MB/s eta 0:00:01\r\u001b[K     |███████▎                        | 143kB 2.8MB/s eta 0:00:01\r\u001b[K     |███████▉                        | 153kB 2.8MB/s eta 0:00:01\r\u001b[K     |████████▎                       | 163kB 2.8MB/s eta 0:00:01\r\u001b[K     |████████▉                       | 174kB 2.8MB/s eta 0:00:01\r\u001b[K     |█████████▍                      | 184kB 2.8MB/s eta 0:00:01\r\u001b[K     |█████████▉                      | 194kB 2.8MB/s eta 0:00:01\r\u001b[K     |██████████▍                     | 204kB 2.8MB/s eta 0:00:01\r\u001b[K     |███████████                     | 215kB 2.8MB/s eta 0:00:01\r\u001b[K     |███████████▍                    | 225kB 2.8MB/s eta 0:00:01\r\u001b[K     |████████████                    | 235kB 2.8MB/s eta 0:00:01\r\u001b[K     |████████████▌                   | 245kB 2.8MB/s eta 0:00:01\r\u001b[K     |█████████████                   | 256kB 2.8MB/s eta 0:00:01\r\u001b[K     |█████████████▌                  | 266kB 2.8MB/s eta 0:00:01\r\u001b[K     |██████████████                  | 276kB 2.8MB/s eta 0:00:01\r\u001b[K     |██████████████▌                 | 286kB 2.8MB/s eta 0:00:01\r\u001b[K     |███████████████                 | 296kB 2.8MB/s eta 0:00:01\r\u001b[K     |███████████████▋                | 307kB 2.8MB/s eta 0:00:01\r\u001b[K     |████████████████                | 317kB 2.8MB/s eta 0:00:01\r\u001b[K     |████████████████▋               | 327kB 2.8MB/s eta 0:00:01\r\u001b[K     |█████████████████▏              | 337kB 2.8MB/s eta 0:00:01\r\u001b[K     |█████████████████▋              | 348kB 2.8MB/s eta 0:00:01\r\u001b[K     |██████████████████▏             | 358kB 2.8MB/s eta 0:00:01\r\u001b[K     |██████████████████▊             | 368kB 2.8MB/s eta 0:00:01\r\u001b[K     |███████████████████▏            | 378kB 2.8MB/s eta 0:00:01\r\u001b[K     |███████████████████▊            | 389kB 2.8MB/s eta 0:00:01\r\u001b[K     |████████████████████▎           | 399kB 2.8MB/s eta 0:00:01\r\u001b[K     |████████████████████▊           | 409kB 2.8MB/s eta 0:00:01\r\u001b[K     |█████████████████████▎          | 419kB 2.8MB/s eta 0:00:01\r\u001b[K     |█████████████████████▉          | 430kB 2.8MB/s eta 0:00:01\r\u001b[K     |██████████████████████▎         | 440kB 2.8MB/s eta 0:00:01\r\u001b[K     |██████████████████████▉         | 450kB 2.8MB/s eta 0:00:01\r\u001b[K     |███████████████████████▍        | 460kB 2.8MB/s eta 0:00:01\r\u001b[K     |███████████████████████▉        | 471kB 2.8MB/s eta 0:00:01\r\u001b[K     |████████████████████████▍       | 481kB 2.8MB/s eta 0:00:01\r\u001b[K     |█████████████████████████       | 491kB 2.8MB/s eta 0:00:01\r\u001b[K     |█████████████████████████▍      | 501kB 2.8MB/s eta 0:00:01\r\u001b[K     |██████████████████████████      | 512kB 2.8MB/s eta 0:00:01\r\u001b[K     |██████████████████████████▌     | 522kB 2.8MB/s eta 0:00:01\r\u001b[K     |███████████████████████████     | 532kB 2.8MB/s eta 0:00:01\r\u001b[K     |███████████████████████████▌    | 542kB 2.8MB/s eta 0:00:01\r\u001b[K     |████████████████████████████    | 552kB 2.8MB/s eta 0:00:01\r\u001b[K     |████████████████████████████▌   | 563kB 2.8MB/s eta 0:00:01\r\u001b[K     |█████████████████████████████   | 573kB 2.8MB/s eta 0:00:01\r\u001b[K     |█████████████████████████████▋  | 583kB 2.8MB/s eta 0:00:01\r\u001b[K     |██████████████████████████████  | 593kB 2.8MB/s eta 0:00:01\r\u001b[K     |██████████████████████████████▋ | 604kB 2.8MB/s eta 0:00:01\r\u001b[K     |███████████████████████████████▏| 614kB 2.8MB/s eta 0:00:01\r\u001b[K     |███████████████████████████████▋| 624kB 2.8MB/s eta 0:00:01\r\u001b[K     |████████████████████████████████| 634kB 2.8MB/s \n",
            "\u001b[?25h  Building wheel for imgaug (setup.py) ... \u001b[?25l\u001b[?25hdone\n",
            "\u001b[K     |████████████████████████████████| 13.1MB 2.6MB/s \n",
            "\u001b[?25h"
          ],
          "name": "stdout"
        }
      ]
    },
    {
      "cell_type": "code",
      "metadata": {
        "id": "nOrajd_iLrMI",
        "colab_type": "code",
        "colab": {}
      },
      "source": [
        "# Import data science environment.\n",
        "import os\n",
        "import pickle\n",
        "import re\n",
        "\n",
        "import matplotlib.pyplot as plt\n",
        "import numpy as np\n",
        "import pandas as pd\n",
        "import scipy\n",
        "import seaborn as sns\n",
        "from sklearn.model_selection import train_test_split\n",
        "from sklearn.feature_extraction.text import CountVectorizer\n",
        "\n",
        "# Display preferences.\n",
        "%matplotlib inline\n",
        "pd.options.display.float_format = '{:.3f}'.format\n",
        "sns.set_style('white')"
      ],
      "execution_count": 0,
      "outputs": []
    },
    {
      "cell_type": "code",
      "metadata": {
        "id": "RAhuAceKBS9r",
        "colab_type": "code",
        "outputId": "ae4b427a-3cdf-4a8d-9b8c-e711df2927e7",
        "colab": {
          "base_uri": "https://localhost:8080/",
          "height": 67
        }
      },
      "source": [
        "print('pandas', pd.__version__)\n",
        "print('numpy', np.__version__)\n",
        "print('seaborn', sns.__version__)"
      ],
      "execution_count": 0,
      "outputs": [
        {
          "output_type": "stream",
          "text": [
            "pandas 0.25.3\n",
            "numpy 1.17.4\n",
            "seaborn 0.9.0\n"
          ],
          "name": "stdout"
        }
      ]
    },
    {
      "cell_type": "code",
      "metadata": {
        "id": "hckFfNGuJ56F",
        "colab_type": "code",
        "outputId": "96550d40-143d-4368-93fa-9c56f7a3bc32",
        "colab": {
          "base_uri": "https://localhost:8080/",
          "height": 67
        }
      },
      "source": [
        "UK_df = pd.read_csv('./amazon_reviews_UK.tsv', sep='\\t', error_bad_lines=False,\n",
        "                    parse_dates=['review_date'])"
      ],
      "execution_count": 0,
      "outputs": [
        {
          "output_type": "stream",
          "text": [
            "b'Skipping line 101882: expected 15 fields, saw 22\\nSkipping line 115512: expected 15 fields, saw 22\\n'\n",
            "b'Skipping line 328404: expected 15 fields, saw 22\\n'\n",
            "b'Skipping line 1412642: expected 15 fields, saw 22\\n'\n"
          ],
          "name": "stderr"
        }
      ]
    },
    {
      "cell_type": "code",
      "metadata": {
        "id": "zpizkRx2RE7t",
        "colab_type": "code",
        "outputId": "e37c7e89-dafb-4015-8a60-227abcee0886",
        "colab": {
          "base_uri": "https://localhost:8080/",
          "height": 608
        }
      },
      "source": [
        "US_df = pd.read_csv('./amazon_reviews_US.tsv', sep='\\t', error_bad_lines=False,\n",
        "                    parse_dates=['review_date'])"
      ],
      "execution_count": 0,
      "outputs": [
        {
          "output_type": "stream",
          "text": [
            "b'Skipping line 3231472: expected 15 fields, saw 22\\n'\n",
            "b'Skipping line 3509762: expected 15 fields, saw 22\\n'\n",
            "b'Skipping line 4018793: expected 15 fields, saw 22\\n'\n",
            "b'Skipping line 4280173: expected 15 fields, saw 22\\nSkipping line 4290596: expected 15 fields, saw 22\\n'\n",
            "b'Skipping line 4331421: expected 15 fields, saw 22\\nSkipping line 4340267: expected 15 fields, saw 22\\nSkipping line 4341665: expected 15 fields, saw 22\\nSkipping line 4386155: expected 15 fields, saw 22\\nSkipping line 4388098: expected 15 fields, saw 22\\n'\n",
            "b'Skipping line 4408027: expected 15 fields, saw 22\\nSkipping line 4442615: expected 15 fields, saw 22\\n'\n",
            "b'Skipping line 4519623: expected 15 fields, saw 22\\n'\n",
            "b'Skipping line 4525797: expected 15 fields, saw 22\\nSkipping line 4543519: expected 15 fields, saw 22\\n'\n",
            "b'Skipping line 4587726: expected 15 fields, saw 22\\nSkipping line 4589301: expected 15 fields, saw 22\\nSkipping line 4634393: expected 15 fields, saw 22\\n'\n",
            "b'Skipping line 4666168: expected 15 fields, saw 22\\n'\n",
            "b'Skipping line 4725035: expected 15 fields, saw 22\\nSkipping line 4741340: expected 15 fields, saw 22\\nSkipping line 4749515: expected 15 fields, saw 22\\nSkipping line 4760314: expected 15 fields, saw 22\\nSkipping line 4781100: expected 15 fields, saw 22\\n'\n",
            "b'Skipping line 4792732: expected 15 fields, saw 22\\n'\n",
            "b'Skipping line 4856383: expected 15 fields, saw 22\\nSkipping line 4866949: expected 15 fields, saw 22\\nSkipping line 4873905: expected 15 fields, saw 22\\nSkipping line 4882587: expected 15 fields, saw 22\\n'\n",
            "b'Skipping line 4984486: expected 15 fields, saw 22\\nSkipping line 4999513: expected 15 fields, saw 22\\nSkipping line 5042461: expected 15 fields, saw 22\\n'\n",
            "b'Skipping line 5084499: expected 15 fields, saw 22\\n'\n",
            "b'Skipping line 5118966: expected 15 fields, saw 22\\n'\n",
            "b'Skipping line 5242122: expected 15 fields, saw 22\\n'\n",
            "b'Skipping line 5267808: expected 15 fields, saw 22\\nSkipping line 5272340: expected 15 fields, saw 22\\n'\n",
            "b'Skipping line 5392789: expected 15 fields, saw 22\\nSkipping line 5401043: expected 15 fields, saw 22\\n'\n",
            "b'Skipping line 5558186: expected 15 fields, saw 22\\n'\n",
            "b'Skipping line 5789638: expected 15 fields, saw 22\\nSkipping line 5812305: expected 15 fields, saw 22\\nSkipping line 5817900: expected 15 fields, saw 22\\nSkipping line 5829969: expected 15 fields, saw 22\\n'\n",
            "b'Skipping line 5842003: expected 15 fields, saw 22\\nSkipping line 5876691: expected 15 fields, saw 22\\nSkipping line 5882689: expected 15 fields, saw 22\\n'\n",
            "b'Skipping line 5909437: expected 15 fields, saw 22\\n'\n",
            "b'Skipping line 6008511: expected 15 fields, saw 22\\nSkipping line 6024504: expected 15 fields, saw 22\\nSkipping line 6025541: expected 15 fields, saw 22\\n'\n",
            "b'Skipping line 6065764: expected 15 fields, saw 22\\nSkipping line 6077731: expected 15 fields, saw 22\\nSkipping line 6087087: expected 15 fields, saw 22\\n'\n",
            "b'Skipping line 6141216: expected 15 fields, saw 22\\n'\n",
            "b'Skipping line 6284307: expected 15 fields, saw 22\\n'\n",
            "b'Skipping line 6294536: expected 15 fields, saw 22\\nSkipping line 6343210: expected 15 fields, saw 22\\nSkipping line 6351051: expected 15 fields, saw 22\\nSkipping line 6356803: expected 15 fields, saw 22\\n'\n",
            "b'Skipping line 6359236: expected 15 fields, saw 22\\n'\n",
            "b'Skipping line 6461006: expected 15 fields, saw 22\\nSkipping line 6467831: expected 15 fields, saw 22\\nSkipping line 6469554: expected 15 fields, saw 22\\n'\n",
            "b'Skipping line 6492735: expected 15 fields, saw 22\\n'\n",
            "b'Skipping line 6570155: expected 15 fields, saw 22\\n'\n",
            "b'Skipping line 6657117: expected 15 fields, saw 22\\n'\n",
            "b'Skipping line 6743804: expected 15 fields, saw 22\\n'\n"
          ],
          "name": "stderr"
        }
      ]
    },
    {
      "cell_type": "code",
      "metadata": {
        "id": "7ukk8jo0s1cT",
        "colab_type": "code",
        "outputId": "e693965d-5a68-4d92-c242-036b7ad725f4",
        "colab": {
          "base_uri": "https://localhost:8080/",
          "height": 34
        }
      },
      "source": [
        "UK_df.shape"
      ],
      "execution_count": 0,
      "outputs": [
        {
          "output_type": "execute_result",
          "data": {
            "text/plain": [
              "(1705837, 15)"
            ]
          },
          "metadata": {
            "tags": []
          },
          "execution_count": 9
        }
      ]
    },
    {
      "cell_type": "code",
      "metadata": {
        "id": "eVQRzW7vs1oI",
        "colab_type": "code",
        "outputId": "0fcd8516-fcad-4986-81e2-20506e29c170",
        "colab": {
          "base_uri": "https://localhost:8080/",
          "height": 34
        }
      },
      "source": [
        "US_df.shape"
      ],
      "execution_count": 0,
      "outputs": [
        {
          "output_type": "execute_result",
          "data": {
            "text/plain": [
              "(6900886, 15)"
            ]
          },
          "metadata": {
            "tags": []
          },
          "execution_count": 10
        }
      ]
    },
    {
      "cell_type": "code",
      "metadata": {
        "id": "vmSP2nxuKhwv",
        "colab_type": "code",
        "outputId": "222c050f-06c8-48bf-ea28-531efc63b5de",
        "colab": {
          "base_uri": "https://localhost:8080/",
          "height": 34
        }
      },
      "source": [
        "# Count lines in df.\n",
        "cat amazon_reviews_UK.tsv | wc -l"
      ],
      "execution_count": 0,
      "outputs": [
        {
          "output_type": "stream",
          "text": [
            "1707495\n"
          ],
          "name": "stdout"
        }
      ]
    },
    {
      "cell_type": "code",
      "metadata": {
        "id": "xlqPFTn9Gqfp",
        "colab_type": "code",
        "outputId": "b30e8391-5d6b-4697-91fd-700083e45e33",
        "colab": {
          "base_uri": "https://localhost:8080/",
          "height": 34
        }
      },
      "source": [
        "cat amazon_reviews_US.tsv | wc -l"
      ],
      "execution_count": 0,
      "outputs": [
        {
          "output_type": "stream",
          "text": [
            "6931167\n"
          ],
          "name": "stdout"
        }
      ]
    },
    {
      "cell_type": "code",
      "metadata": {
        "id": "7gfPDQGEwsKw",
        "colab_type": "code",
        "outputId": "70db8e5d-b6c0-4e15-8ce1-c67d9887b6f8",
        "colab": {
          "base_uri": "https://localhost:8080/",
          "height": 450
        }
      },
      "source": [
        "UK_df.head()"
      ],
      "execution_count": 0,
      "outputs": [
        {
          "output_type": "execute_result",
          "data": {
            "text/html": [
              "<div>\n",
              "<style scoped>\n",
              "    .dataframe tbody tr th:only-of-type {\n",
              "        vertical-align: middle;\n",
              "    }\n",
              "\n",
              "    .dataframe tbody tr th {\n",
              "        vertical-align: top;\n",
              "    }\n",
              "\n",
              "    .dataframe thead th {\n",
              "        text-align: right;\n",
              "    }\n",
              "</style>\n",
              "<table border=\"1\" class=\"dataframe\">\n",
              "  <thead>\n",
              "    <tr style=\"text-align: right;\">\n",
              "      <th></th>\n",
              "      <th>marketplace</th>\n",
              "      <th>customer_id</th>\n",
              "      <th>review_id</th>\n",
              "      <th>product_id</th>\n",
              "      <th>product_parent</th>\n",
              "      <th>product_title</th>\n",
              "      <th>product_category</th>\n",
              "      <th>star_rating</th>\n",
              "      <th>helpful_votes</th>\n",
              "      <th>total_votes</th>\n",
              "      <th>vine</th>\n",
              "      <th>verified_purchase</th>\n",
              "      <th>review_headline</th>\n",
              "      <th>review_body</th>\n",
              "      <th>review_date</th>\n",
              "    </tr>\n",
              "  </thead>\n",
              "  <tbody>\n",
              "    <tr>\n",
              "      <th>0</th>\n",
              "      <td>UK</td>\n",
              "      <td>10349</td>\n",
              "      <td>R2YVNBBMXD8KVJ</td>\n",
              "      <td>B00MWK7BWG</td>\n",
              "      <td>307651059</td>\n",
              "      <td>My Favourite Faded Fantasy</td>\n",
              "      <td>Music</td>\n",
              "      <td>5</td>\n",
              "      <td>0</td>\n",
              "      <td>0</td>\n",
              "      <td>N</td>\n",
              "      <td>Y</td>\n",
              "      <td>Five Stars</td>\n",
              "      <td>The best album ever!</td>\n",
              "      <td>2014-12-29</td>\n",
              "    </tr>\n",
              "    <tr>\n",
              "      <th>1</th>\n",
              "      <td>UK</td>\n",
              "      <td>10629</td>\n",
              "      <td>R2K4BOL8MN1TTY</td>\n",
              "      <td>B006CHML4I</td>\n",
              "      <td>835010224</td>\n",
              "      <td>Seiko 5 Men's Automatic Watch with Black Dial ...</td>\n",
              "      <td>Watches</td>\n",
              "      <td>4</td>\n",
              "      <td>0</td>\n",
              "      <td>0</td>\n",
              "      <td>N</td>\n",
              "      <td>Y</td>\n",
              "      <td>Great watch from casio.</td>\n",
              "      <td>What a great watch. Both watches and strap is ...</td>\n",
              "      <td>2013-10-24</td>\n",
              "    </tr>\n",
              "    <tr>\n",
              "      <th>2</th>\n",
              "      <td>UK</td>\n",
              "      <td>12136</td>\n",
              "      <td>R3P40IEALROVCH</td>\n",
              "      <td>B00IIFCJX0</td>\n",
              "      <td>271687675</td>\n",
              "      <td>Dexter Season 8</td>\n",
              "      <td>Digital_Video_Download</td>\n",
              "      <td>5</td>\n",
              "      <td>0</td>\n",
              "      <td>0</td>\n",
              "      <td>N</td>\n",
              "      <td>Y</td>\n",
              "      <td>fantastic</td>\n",
              "      <td>love watching all the episodes of Dexter, when...</td>\n",
              "      <td>2014-05-09</td>\n",
              "    </tr>\n",
              "    <tr>\n",
              "      <th>3</th>\n",
              "      <td>UK</td>\n",
              "      <td>12268</td>\n",
              "      <td>R25XL1WWYRDLA9</td>\n",
              "      <td>B000W7JWUA</td>\n",
              "      <td>211383699</td>\n",
              "      <td>The Settlers of Catan Board Game - discontinue...</td>\n",
              "      <td>Toys</td>\n",
              "      <td>5</td>\n",
              "      <td>0</td>\n",
              "      <td>0</td>\n",
              "      <td>N</td>\n",
              "      <td>Y</td>\n",
              "      <td>Five Stars</td>\n",
              "      <td>Excellent game!!!</td>\n",
              "      <td>2014-09-19</td>\n",
              "    </tr>\n",
              "    <tr>\n",
              "      <th>4</th>\n",
              "      <td>UK</td>\n",
              "      <td>12677</td>\n",
              "      <td>RVTVB9YDXSFYH</td>\n",
              "      <td>B005JTAP4S</td>\n",
              "      <td>182965893</td>\n",
              "      <td>Peter: A Darkened Fairytale (Vol 1)</td>\n",
              "      <td>Digital_Ebook_Purchase</td>\n",
              "      <td>5</td>\n",
              "      <td>12</td>\n",
              "      <td>12</td>\n",
              "      <td>N</td>\n",
              "      <td>N</td>\n",
              "      <td>A twist on Tales</td>\n",
              "      <td>This cute, quick read is very different to say...</td>\n",
              "      <td>2013-09-18</td>\n",
              "    </tr>\n",
              "  </tbody>\n",
              "</table>\n",
              "</div>"
            ],
            "text/plain": [
              "  marketplace  ...  review_date\n",
              "0          UK  ...   2014-12-29\n",
              "1          UK  ...   2013-10-24\n",
              "2          UK  ...   2014-05-09\n",
              "3          UK  ...   2014-09-19\n",
              "4          UK  ...   2013-09-18\n",
              "\n",
              "[5 rows x 15 columns]"
            ]
          },
          "metadata": {
            "tags": []
          },
          "execution_count": 13
        }
      ]
    },
    {
      "cell_type": "code",
      "metadata": {
        "id": "XfplKxjkovpw",
        "colab_type": "code",
        "colab": {}
      },
      "source": [
        "assert US_df.shape[1] == UK_df.shape[1]\n",
        "assert UK_df.columns.all() == US_df.columns.all()\n",
        "combined_df = pd.concat([UK_df.copy(), US_df.copy()])\n",
        "assert combined_df.shape[0] == US_df.shape[0] + UK_df.shape[0]"
      ],
      "execution_count": 0,
      "outputs": []
    },
    {
      "cell_type": "code",
      "metadata": {
        "id": "0heJLgXKKxjs",
        "colab_type": "code",
        "outputId": "a5ebd937-0dee-4d88-e7ee-b4db1db8b856",
        "colab": {
          "base_uri": "https://localhost:8080/",
          "height": 450
        }
      },
      "source": [
        "combined_df.reset_index(inplace=True)\n",
        "combined_df.head()"
      ],
      "execution_count": 0,
      "outputs": [
        {
          "output_type": "execute_result",
          "data": {
            "text/html": [
              "<div>\n",
              "<style scoped>\n",
              "    .dataframe tbody tr th:only-of-type {\n",
              "        vertical-align: middle;\n",
              "    }\n",
              "\n",
              "    .dataframe tbody tr th {\n",
              "        vertical-align: top;\n",
              "    }\n",
              "\n",
              "    .dataframe thead th {\n",
              "        text-align: right;\n",
              "    }\n",
              "</style>\n",
              "<table border=\"1\" class=\"dataframe\">\n",
              "  <thead>\n",
              "    <tr style=\"text-align: right;\">\n",
              "      <th></th>\n",
              "      <th>index</th>\n",
              "      <th>marketplace</th>\n",
              "      <th>customer_id</th>\n",
              "      <th>review_id</th>\n",
              "      <th>product_id</th>\n",
              "      <th>product_parent</th>\n",
              "      <th>product_title</th>\n",
              "      <th>product_category</th>\n",
              "      <th>star_rating</th>\n",
              "      <th>helpful_votes</th>\n",
              "      <th>total_votes</th>\n",
              "      <th>vine</th>\n",
              "      <th>verified_purchase</th>\n",
              "      <th>review_headline</th>\n",
              "      <th>review_body</th>\n",
              "      <th>review_date</th>\n",
              "    </tr>\n",
              "  </thead>\n",
              "  <tbody>\n",
              "    <tr>\n",
              "      <th>0</th>\n",
              "      <td>0</td>\n",
              "      <td>UK</td>\n",
              "      <td>10349</td>\n",
              "      <td>R2YVNBBMXD8KVJ</td>\n",
              "      <td>B00MWK7BWG</td>\n",
              "      <td>307651059</td>\n",
              "      <td>My Favourite Faded Fantasy</td>\n",
              "      <td>Music</td>\n",
              "      <td>5.000</td>\n",
              "      <td>0.000</td>\n",
              "      <td>0.000</td>\n",
              "      <td>N</td>\n",
              "      <td>Y</td>\n",
              "      <td>Five Stars</td>\n",
              "      <td>The best album ever!</td>\n",
              "      <td>2014-12-29</td>\n",
              "    </tr>\n",
              "    <tr>\n",
              "      <th>1</th>\n",
              "      <td>1</td>\n",
              "      <td>UK</td>\n",
              "      <td>10629</td>\n",
              "      <td>R2K4BOL8MN1TTY</td>\n",
              "      <td>B006CHML4I</td>\n",
              "      <td>835010224</td>\n",
              "      <td>Seiko 5 Men's Automatic Watch with Black Dial ...</td>\n",
              "      <td>Watches</td>\n",
              "      <td>4.000</td>\n",
              "      <td>0.000</td>\n",
              "      <td>0.000</td>\n",
              "      <td>N</td>\n",
              "      <td>Y</td>\n",
              "      <td>Great watch from casio.</td>\n",
              "      <td>What a great watch. Both watches and strap is ...</td>\n",
              "      <td>2013-10-24</td>\n",
              "    </tr>\n",
              "    <tr>\n",
              "      <th>2</th>\n",
              "      <td>2</td>\n",
              "      <td>UK</td>\n",
              "      <td>12136</td>\n",
              "      <td>R3P40IEALROVCH</td>\n",
              "      <td>B00IIFCJX0</td>\n",
              "      <td>271687675</td>\n",
              "      <td>Dexter Season 8</td>\n",
              "      <td>Digital_Video_Download</td>\n",
              "      <td>5.000</td>\n",
              "      <td>0.000</td>\n",
              "      <td>0.000</td>\n",
              "      <td>N</td>\n",
              "      <td>Y</td>\n",
              "      <td>fantastic</td>\n",
              "      <td>love watching all the episodes of Dexter, when...</td>\n",
              "      <td>2014-05-09</td>\n",
              "    </tr>\n",
              "    <tr>\n",
              "      <th>3</th>\n",
              "      <td>3</td>\n",
              "      <td>UK</td>\n",
              "      <td>12268</td>\n",
              "      <td>R25XL1WWYRDLA9</td>\n",
              "      <td>B000W7JWUA</td>\n",
              "      <td>211383699</td>\n",
              "      <td>The Settlers of Catan Board Game - discontinue...</td>\n",
              "      <td>Toys</td>\n",
              "      <td>5.000</td>\n",
              "      <td>0.000</td>\n",
              "      <td>0.000</td>\n",
              "      <td>N</td>\n",
              "      <td>Y</td>\n",
              "      <td>Five Stars</td>\n",
              "      <td>Excellent game!!!</td>\n",
              "      <td>2014-09-19</td>\n",
              "    </tr>\n",
              "    <tr>\n",
              "      <th>4</th>\n",
              "      <td>4</td>\n",
              "      <td>UK</td>\n",
              "      <td>12677</td>\n",
              "      <td>RVTVB9YDXSFYH</td>\n",
              "      <td>B005JTAP4S</td>\n",
              "      <td>182965893</td>\n",
              "      <td>Peter: A Darkened Fairytale (Vol 1)</td>\n",
              "      <td>Digital_Ebook_Purchase</td>\n",
              "      <td>5.000</td>\n",
              "      <td>12.000</td>\n",
              "      <td>12.000</td>\n",
              "      <td>N</td>\n",
              "      <td>N</td>\n",
              "      <td>A twist on Tales</td>\n",
              "      <td>This cute, quick read is very different to say...</td>\n",
              "      <td>2013-09-18</td>\n",
              "    </tr>\n",
              "  </tbody>\n",
              "</table>\n",
              "</div>"
            ],
            "text/plain": [
              "   index  ... review_date\n",
              "0      0  ...  2014-12-29\n",
              "1      1  ...  2013-10-24\n",
              "2      2  ...  2014-05-09\n",
              "3      3  ...  2014-09-19\n",
              "4      4  ...  2013-09-18\n",
              "\n",
              "[5 rows x 16 columns]"
            ]
          },
          "metadata": {
            "tags": []
          },
          "execution_count": 15
        }
      ]
    },
    {
      "cell_type": "code",
      "metadata": {
        "id": "sYTRZKj9Btsz",
        "colab_type": "code",
        "outputId": "c834c777-0199-4066-9fc2-14da68f49167",
        "colab": {
          "base_uri": "https://localhost:8080/",
          "height": 302
        }
      },
      "source": [
        "combined_df.isnull().sum()"
      ],
      "execution_count": 0,
      "outputs": [
        {
          "output_type": "execute_result",
          "data": {
            "text/plain": [
              "index                  0\n",
              "marketplace            0\n",
              "customer_id            0\n",
              "review_id              0\n",
              "product_id             0\n",
              "product_parent         0\n",
              "product_title          0\n",
              "product_category       0\n",
              "star_rating            1\n",
              "helpful_votes          1\n",
              "total_votes            1\n",
              "vine                   1\n",
              "verified_purchase      1\n",
              "review_headline       81\n",
              "review_body           91\n",
              "review_date          375\n",
              "dtype: int64"
            ]
          },
          "metadata": {
            "tags": []
          },
          "execution_count": 16
        }
      ]
    },
    {
      "cell_type": "code",
      "metadata": {
        "id": "tZ21zBOZPNC9",
        "colab_type": "code",
        "colab": {}
      },
      "source": [
        "combined_df = combined_df.drop_duplicates()"
      ],
      "execution_count": 0,
      "outputs": []
    },
    {
      "cell_type": "code",
      "metadata": {
        "id": "YzjNG73Zon5E",
        "colab_type": "code",
        "colab": {}
      },
      "source": [
        "# Drop rows with null values.\n",
        "combined_df = combined_df.dropna()"
      ],
      "execution_count": 0,
      "outputs": []
    },
    {
      "cell_type": "code",
      "metadata": {
        "id": "hzCND7Y3o3Bh",
        "colab_type": "code",
        "outputId": "7d38d71c-0e58-42ac-f443-4b428b5c5dbc",
        "colab": {
          "base_uri": "https://localhost:8080/",
          "height": 302
        }
      },
      "source": [
        "combined_df.isnull().sum()"
      ],
      "execution_count": 0,
      "outputs": [
        {
          "output_type": "execute_result",
          "data": {
            "text/plain": [
              "index                0\n",
              "marketplace          0\n",
              "customer_id          0\n",
              "review_id            0\n",
              "product_id           0\n",
              "product_parent       0\n",
              "product_title        0\n",
              "product_category     0\n",
              "star_rating          0\n",
              "helpful_votes        0\n",
              "total_votes          0\n",
              "vine                 0\n",
              "verified_purchase    0\n",
              "review_headline      0\n",
              "review_body          0\n",
              "review_date          0\n",
              "dtype: int64"
            ]
          },
          "metadata": {
            "tags": []
          },
          "execution_count": 19
        }
      ]
    },
    {
      "cell_type": "code",
      "metadata": {
        "id": "Gv1_zo4Synkk",
        "colab_type": "code",
        "outputId": "4db1eb19-aaec-4d41-8887-3fc1566c2b64",
        "colab": {
          "base_uri": "https://localhost:8080/",
          "height": 302
        }
      },
      "source": [
        "combined_df.dtypes"
      ],
      "execution_count": 0,
      "outputs": [
        {
          "output_type": "execute_result",
          "data": {
            "text/plain": [
              "index                         int64\n",
              "marketplace                  object\n",
              "customer_id                   int64\n",
              "review_id                    object\n",
              "product_id                   object\n",
              "product_parent                int64\n",
              "product_title                object\n",
              "product_category             object\n",
              "star_rating                 float64\n",
              "helpful_votes               float64\n",
              "total_votes                 float64\n",
              "vine                         object\n",
              "verified_purchase            object\n",
              "review_headline              object\n",
              "review_body                  object\n",
              "review_date          datetime64[ns]\n",
              "dtype: object"
            ]
          },
          "metadata": {
            "tags": []
          },
          "execution_count": 20
        }
      ]
    },
    {
      "cell_type": "code",
      "metadata": {
        "id": "tPhyCW358mSk",
        "colab_type": "code",
        "colab": {}
      },
      "source": [
        "# Change dtypes from float64 to int64.\n",
        "combined_df.star_rating = combined_df.star_rating.astype(int)\n",
        "combined_df.helpful_votes = combined_df.helpful_votes.astype(int)\n",
        "combined_df.total_votes = combined_df.total_votes.astype(int)"
      ],
      "execution_count": 0,
      "outputs": []
    },
    {
      "cell_type": "code",
      "metadata": {
        "id": "UIRJYv8a8mg9",
        "colab_type": "code",
        "outputId": "7b51c436-9e9f-416f-b73f-2c59239be87d",
        "colab": {
          "base_uri": "https://localhost:8080/",
          "height": 302
        }
      },
      "source": [
        "combined_df.dtypes"
      ],
      "execution_count": 0,
      "outputs": [
        {
          "output_type": "execute_result",
          "data": {
            "text/plain": [
              "index                         int64\n",
              "marketplace                  object\n",
              "customer_id                   int64\n",
              "review_id                    object\n",
              "product_id                   object\n",
              "product_parent                int64\n",
              "product_title                object\n",
              "product_category             object\n",
              "star_rating                   int64\n",
              "helpful_votes                 int64\n",
              "total_votes                   int64\n",
              "vine                         object\n",
              "verified_purchase            object\n",
              "review_headline              object\n",
              "review_body                  object\n",
              "review_date          datetime64[ns]\n",
              "dtype: object"
            ]
          },
          "metadata": {
            "tags": []
          },
          "execution_count": 22
        }
      ]
    },
    {
      "cell_type": "code",
      "metadata": {
        "id": "2AfrY-giueNJ",
        "colab_type": "code",
        "outputId": "50bb11c1-0123-4505-edb5-ba2f535efed3",
        "colab": {
          "base_uri": "https://localhost:8080/",
          "height": 118
        }
      },
      "source": [
        "combined_df.review_body.head()"
      ],
      "execution_count": 0,
      "outputs": [
        {
          "output_type": "execute_result",
          "data": {
            "text/plain": [
              "0                                 The best album ever!\n",
              "1    What a great watch. Both watches and strap is ...\n",
              "2    love watching all the episodes of Dexter, when...\n",
              "3                                    Excellent game!!!\n",
              "4    This cute, quick read is very different to say...\n",
              "Name: review_body, dtype: object"
            ]
          },
          "metadata": {
            "tags": []
          },
          "execution_count": 23
        }
      ]
    },
    {
      "cell_type": "code",
      "metadata": {
        "id": "0hPF2rOoXJrI",
        "colab_type": "code",
        "colab": {}
      },
      "source": [
        "cols_to_drop = ['customer_id', 'review_id', 'product_id', 'product_parent',\n",
        "                'product_title', 'review_headline', 'review_date']\n",
        "                \n",
        "combined_df = combined_df.drop(cols_to_drop, axis=1)"
      ],
      "execution_count": 0,
      "outputs": []
    },
    {
      "cell_type": "code",
      "metadata": {
        "id": "AZnR6ldX5BNR",
        "colab_type": "code",
        "colab": {}
      },
      "source": [
        "combined_df['helpful_rate'] = np.where(\n",
        "  combined_df['total_votes'] > 0,\n",
        "  combined_df['helpful_votes'] / combined_df['total_votes'], -1)"
      ],
      "execution_count": 0,
      "outputs": []
    },
    {
      "cell_type": "code",
      "metadata": {
        "id": "VAZTsUOSE3Rv",
        "colab_type": "code",
        "outputId": "d10e97e9-4b56-47d7-fcc5-a7b752108854",
        "colab": {
          "base_uri": "https://localhost:8080/",
          "height": 269
        }
      },
      "source": [
        "combined_df.info()"
      ],
      "execution_count": 0,
      "outputs": [
        {
          "output_type": "stream",
          "text": [
            "<class 'pandas.core.frame.DataFrame'>\n",
            "Int64Index: 8606178 entries, 0 to 8606722\n",
            "Data columns (total 10 columns):\n",
            "index                int64\n",
            "marketplace          object\n",
            "product_category     object\n",
            "star_rating          int64\n",
            "helpful_votes        int64\n",
            "total_votes          int64\n",
            "vine                 object\n",
            "verified_purchase    object\n",
            "review_body          object\n",
            "helpful_rate         float64\n",
            "dtypes: float64(1), int64(4), object(5)\n",
            "memory usage: 722.3+ MB\n"
          ],
          "name": "stdout"
        }
      ]
    },
    {
      "cell_type": "code",
      "metadata": {
        "id": "EqrPSDv_Loxz",
        "colab_type": "code",
        "colab": {}
      },
      "source": [
        "# Change objects to category types where appropriate.\n",
        "combined_df['marketplace'] = combined_df.marketplace.astype('category')\n",
        "combined_df['vine'] = combined_df.vine.astype('category')\n",
        "combined_df['verified_purchase'] = combined_df.verified_purchase.astype(\n",
        "    'category')\n",
        "combined_df['product_category'] = combined_df.product_category.astype(\n",
        "    'category')"
      ],
      "execution_count": 0,
      "outputs": []
    },
    {
      "cell_type": "code",
      "metadata": {
        "id": "OIdRgwNyFA6Z",
        "colab_type": "code",
        "outputId": "acb6de10-beb1-45ea-86de-12a92949981a",
        "colab": {
          "base_uri": "https://localhost:8080/",
          "height": 269
        }
      },
      "source": [
        "combined_df.info()"
      ],
      "execution_count": 0,
      "outputs": [
        {
          "output_type": "stream",
          "text": [
            "<class 'pandas.core.frame.DataFrame'>\n",
            "Int64Index: 8606178 entries, 0 to 8606722\n",
            "Data columns (total 10 columns):\n",
            "index                int64\n",
            "marketplace          category\n",
            "product_category     category\n",
            "star_rating          int64\n",
            "helpful_votes        int64\n",
            "total_votes          int64\n",
            "vine                 category\n",
            "verified_purchase    category\n",
            "review_body          object\n",
            "helpful_rate         float64\n",
            "dtypes: category(4), float64(1), int64(4), object(1)\n",
            "memory usage: 492.5+ MB\n"
          ],
          "name": "stdout"
        }
      ]
    },
    {
      "cell_type": "code",
      "metadata": {
        "id": "MGyjIUpyEy06",
        "colab_type": "code",
        "colab": {}
      },
      "source": [
        "# Split into train and eval/holdout groups.\n",
        "X = combined_df.drop('star_rating', axis=1)\n",
        "y = combined_df.star_rating\n",
        "X_train, X_eval_holdout, y_train, y_eval_holdout = train_test_split(\n",
        "    X, y, test_size=0.3, random_state=15)"
      ],
      "execution_count": 0,
      "outputs": []
    },
    {
      "cell_type": "code",
      "metadata": {
        "id": "taXXvxzSHP34",
        "colab_type": "code",
        "colab": {}
      },
      "source": [
        "# Split into eval and holdout groups.\n",
        "X_eval, X_holdout, y_eval, y_holdout = train_test_split(\n",
        "    X_eval_holdout, y_eval_holdout, test_size=0.5, random_state=15)"
      ],
      "execution_count": 0,
      "outputs": []
    },
    {
      "cell_type": "code",
      "metadata": {
        "id": "d8uicpvJSQOr",
        "colab_type": "code",
        "outputId": "fff26af5-fdbf-425b-e792-82a4caa6633b",
        "colab": {
          "base_uri": "https://localhost:8080/",
          "height": 185
        }
      },
      "source": [
        "X_train.nunique()"
      ],
      "execution_count": 0,
      "outputs": [
        {
          "output_type": "execute_result",
          "data": {
            "text/plain": [
              "index                5189193\n",
              "marketplace                2\n",
              "product_category          38\n",
              "helpful_votes           1391\n",
              "total_votes             1516\n",
              "vine                       2\n",
              "verified_purchase          2\n",
              "review_body          5550793\n",
              "helpful_rate           11221\n",
              "dtype: int64"
            ]
          },
          "metadata": {
            "tags": []
          },
          "execution_count": 31
        }
      ]
    },
    {
      "cell_type": "code",
      "metadata": {
        "id": "WdtL4X93HQz5",
        "colab_type": "code",
        "outputId": "63422bd3-af6f-452e-e9b9-6706cf77954c",
        "colab": {
          "base_uri": "https://localhost:8080/",
          "height": 729
        }
      },
      "source": [
        "# Run heatmap to check for variable correlations.\n",
        "fig, ax = plt.subplots(figsize=(12,10))\n",
        "sns.heatmap(X_train.corr(), annot=True, annot_kws={\"size\": 10})\n",
        "plt.tight_layout();"
      ],
      "execution_count": 0,
      "outputs": [
        {
          "output_type": "display_data",
          "data": {
            "image/png": "[encoded data removed]",
            "text/plain": [
              "<Figure size 864x720 with 2 Axes>"
            ]
          },
          "metadata": {
            "tags": []
          }
        }
      ]
    },
    {
      "cell_type": "markdown",
      "metadata": {
        "id": "nhmNWSyhHhs0",
        "colab_type": "text"
      },
      "source": [
        "It appears that total_votes and helpful_votes are highly correlated for both data sets. Therefore, we should drop one of them. Not sure which one to drop at this point, but will need to discuss it and decide."
      ]
    },
    {
      "cell_type": "code",
      "metadata": {
        "id": "ZRn_inlAggh2",
        "colab_type": "code",
        "outputId": "bb6419fa-d935-4dc2-ad58-2b61b601f5a5",
        "colab": {
          "base_uri": "https://localhost:8080/",
          "height": 67
        }
      },
      "source": [
        "X_train.vine.value_counts()"
      ],
      "execution_count": 0,
      "outputs": [
        {
          "output_type": "execute_result",
          "data": {
            "text/plain": [
              "N    6016198\n",
              "Y       8126\n",
              "Name: vine, dtype: int64"
            ]
          },
          "metadata": {
            "tags": []
          },
          "execution_count": 33
        }
      ]
    },
    {
      "cell_type": "code",
      "metadata": {
        "id": "YBfSi2XKiLtI",
        "colab_type": "code",
        "outputId": "c81abc5e-fdea-476d-a768-32dcfb71c899",
        "colab": {
          "base_uri": "https://localhost:8080/",
          "height": 118
        }
      },
      "source": [
        "y_train.value_counts().sort_index(ascending=False)"
      ],
      "execution_count": 0,
      "outputs": [
        {
          "output_type": "execute_result",
          "data": {
            "text/plain": [
              "5    3897011\n",
              "4    1086854\n",
              "3     462365\n",
              "2     235714\n",
              "1     342380\n",
              "Name: star_rating, dtype: int64"
            ]
          },
          "metadata": {
            "tags": []
          },
          "execution_count": 34
        }
      ]
    },
    {
      "cell_type": "code",
      "metadata": {
        "id": "rrHxh2fO3jmR",
        "colab_type": "code",
        "outputId": "080ae893-0909-4d2b-abb1-067b7ef1cad1",
        "colab": {
          "base_uri": "https://localhost:8080/",
          "height": 295
        }
      },
      "source": [
        "sns.countplot(y_train).set_title(\n",
        "    \"Rating Totals for UK and US\")\n",
        "plt.xlabel('Star Rating')\n",
        "plt.ylabel('Count');"
      ],
      "execution_count": 0,
      "outputs": [
        {
          "output_type": "display_data",
          "data": {
            "image/png": "[encoded data removed]",
            "text/plain": [
              "<Figure size 432x288 with 1 Axes>"
            ]
          },
          "metadata": {
            "tags": []
          }
        }
      ]
    },
    {
      "cell_type": "code",
      "metadata": {
        "id": "yXHg3QHDqnp4",
        "colab_type": "code",
        "outputId": "735fc997-f481-4476-89a1-c0239509f661",
        "colab": {
          "base_uri": "https://localhost:8080/",
          "height": 601
        }
      },
      "source": [
        "# Pie chart\n",
        "agg = y_train.value_counts().sort_index(ascending=False)\n",
        "labels = agg.index\n",
        "sizes = agg.values\n",
        "# only \"explode\" the largest slice\n",
        "explode = (0.1, 0, 0, 0, 0)  \n",
        "fig1, ax1 = plt.subplots(figsize=(8, 8))\n",
        "ax1.pie(sizes, explode=explode, labels=labels, autopct='%1.1f%%',\n",
        "        shadow=True, startangle=90) \n",
        "plt.tight_layout()\n",
        "plt.title('Review Star Rating Distribution')\n",
        "plt.show()"
      ],
      "execution_count": 0,
      "outputs": [
        {
          "output_type": "display_data",
          "data": {
            "image/png": "[encoded data removed]",
            "text/plain": [
              "<Figure size 576x576 with 1 Axes>"
            ]
          },
          "metadata": {
            "tags": []
          }
        }
      ]
    },
    {
      "cell_type": "code",
      "metadata": {
        "id": "mYTHgEEPY4YS",
        "colab_type": "code",
        "outputId": "9325302f-f5d9-4b73-d4fd-d2cffbd4256a",
        "colab": {
          "base_uri": "https://localhost:8080/",
          "height": 1000
        }
      },
      "source": [
        "uk = X_train.loc[X_train.marketplace == 'UK', 'product_category'].value_counts()\n",
        "us = X_train.loc[X_train.marketplace == 'US', 'product_category'].value_counts()\n",
        "\n",
        "print(uk)\n",
        "print()\n",
        "print(us)"
      ],
      "execution_count": 0,
      "outputs": [
        {
          "output_type": "stream",
          "text": [
            "Video DVD                   324259\n",
            "Music                       230443\n",
            "Digital_Ebook_Purchase      202311\n",
            "Books                       180585\n",
            "Mobile_Apps                 152827\n",
            "Digital_Video_Download       21841\n",
            "Digital_Music_Purchase       20501\n",
            "Toys                         17212\n",
            "PC                           11426\n",
            "Camera                        4553\n",
            "Electronics                   4079\n",
            "Wireless                      3884\n",
            "Video                         3263\n",
            "Baby                          3008\n",
            "Video Games                   2515\n",
            "Watches                       2177\n",
            "Musical Instruments           2015\n",
            "Home                          1900\n",
            "Sports                        1619\n",
            "Shoes                         1178\n",
            "Office Products                670\n",
            "Home Improvement               664\n",
            "Automotive                     373\n",
            "Lawn and Garden                164\n",
            "Health & Personal Care         163\n",
            "Home Entertainment              87\n",
            "Personal_Care_Appliances        61\n",
            "Software                        50\n",
            "Pet Products                    32\n",
            "Kitchen                         19\n",
            "Luggage                          7\n",
            "Beauty                           2\n",
            "Apparel                          2\n",
            "Furniture                        0\n",
            "Grocery                          0\n",
            "Mobile_Electronics               0\n",
            "Outdoors                         0\n",
            "Tools                            0\n",
            "Name: product_category, dtype: int64\n",
            "\n",
            "Mobile_Apps                 1027309\n",
            "Digital_Ebook_Purchase       869539\n",
            "Video DVD                    765936\n",
            "Digital_Video_Download       736464\n",
            "Books                        584888\n",
            "Music                        543798\n",
            "Digital_Music_Purchase        75238\n",
            "Toys                          40112\n",
            "PC                            39609\n",
            "Video                         32514\n",
            "Home Entertainment            25333\n",
            "Wireless                      15779\n",
            "Camera                        11743\n",
            "Video Games                   10734\n",
            "Electronics                    7936\n",
            "Musical Instruments            7579\n",
            "Watches                        7354\n",
            "Tools                          5211\n",
            "Shoes                          5153\n",
            "Baby                           4118\n",
            "Sports                         2871\n",
            "Home Improvement               2558\n",
            "Outdoors                       2261\n",
            "Office Products                1578\n",
            "Home                           1412\n",
            "Kitchen                        1276\n",
            "Lawn and Garden                 825\n",
            "Health & Personal Care          754\n",
            "Automotive                      150\n",
            "Mobile_Electronics              133\n",
            "Apparel                          93\n",
            "Luggage                          59\n",
            "Beauty                           44\n",
            "Software                         41\n",
            "Grocery                          16\n",
            "Furniture                         6\n",
            "Personal_Care_Appliances          6\n",
            "Pet Products                      4\n",
            "Name: product_category, dtype: int64\n"
          ],
          "name": "stdout"
        }
      ]
    },
    {
      "cell_type": "code",
      "metadata": {
        "id": "Imq853MlDOUm",
        "colab_type": "code",
        "colab": {}
      },
      "source": [
        "uk_length = (X_train.marketplace == 'UK').sum()\n",
        "us_length = (X_train.marketplace == 'US').sum()\n",
        "\n",
        "uk_percent = (uk / uk_length).sort_index()\n",
        "us_percent = (us / us_length).sort_index()"
      ],
      "execution_count": 0,
      "outputs": []
    },
    {
      "cell_type": "code",
      "metadata": {
        "id": "0UECQ-GVaSGK",
        "colab_type": "code",
        "outputId": "a195da18-a081-4814-f3ba-f2b5393919aa",
        "colab": {
          "base_uri": "https://localhost:8080/",
          "height": 749
        }
      },
      "source": [
        "fig, ax = plt.subplots(1, 2, figsize=(15, 10), sharey=True)\n",
        "\n",
        "ax[0].bar(uk_percent.index, uk_percent.values, color='r')\n",
        "ax[0].set_title('UK Product Category Percents')\n",
        "ax[0].set_xticklabels(uk_percent.index, rotation='vertical')\n",
        "ax[0].set_ylabel('Purchase Percent')\n",
        "ax[0].set_xlabel('Purchase Category')\n",
        "\n",
        "ax[1].bar(us_percent.index, us_percent.values, color='b')\n",
        "ax[1].set_title('US Product Category Percents')\n",
        "ax[1].set_xticklabels(us_percent.index, rotation='vertical')\n",
        "ax[1].set_xlabel('Purchase Category')\n",
        "\n",
        "plt.tight_layout()\n",
        "plt.show();"
      ],
      "execution_count": 0,
      "outputs": [
        {
          "output_type": "display_data",
          "data": {
            "image/png": "[encoded data removed]",
            "text/plain": [
              "<Figure size 1080x720 with 2 Axes>"
            ]
          },
          "metadata": {
            "tags": []
          }
        }
      ]
    },
    {
      "cell_type": "code",
      "metadata": {
        "id": "RWPVWhZbK0VU",
        "colab_type": "code",
        "outputId": "8170229b-928d-4346-c553-b0614eeba147",
        "colab": {
          "base_uri": "https://localhost:8080/",
          "height": 136
        }
      },
      "source": [
        "pd.concat(\n",
        "  [X_train, y_train], axis=1).groupby(\n",
        "    'marketplace')['star_rating'].agg(['mean', 'std'], axis=1)"
      ],
      "execution_count": 0,
      "outputs": [
        {
          "output_type": "execute_result",
          "data": {
            "text/html": [
              "<div>\n",
              "<style scoped>\n",
              "    .dataframe tbody tr th:only-of-type {\n",
              "        vertical-align: middle;\n",
              "    }\n",
              "\n",
              "    .dataframe tbody tr th {\n",
              "        vertical-align: top;\n",
              "    }\n",
              "\n",
              "    .dataframe thead th {\n",
              "        text-align: right;\n",
              "    }\n",
              "</style>\n",
              "<table border=\"1\" class=\"dataframe\">\n",
              "  <thead>\n",
              "    <tr style=\"text-align: right;\">\n",
              "      <th></th>\n",
              "      <th>mean</th>\n",
              "      <th>std</th>\n",
              "    </tr>\n",
              "    <tr>\n",
              "      <th>marketplace</th>\n",
              "      <th></th>\n",
              "      <th></th>\n",
              "    </tr>\n",
              "  </thead>\n",
              "  <tbody>\n",
              "    <tr>\n",
              "      <th>UK</th>\n",
              "      <td>4.380</td>\n",
              "      <td>1.088</td>\n",
              "    </tr>\n",
              "    <tr>\n",
              "      <th>US</th>\n",
              "      <td>4.307</td>\n",
              "      <td>1.146</td>\n",
              "    </tr>\n",
              "  </tbody>\n",
              "</table>\n",
              "</div>"
            ],
            "text/plain": [
              "             mean   std\n",
              "marketplace            \n",
              "UK          4.380 1.088\n",
              "US          4.307 1.146"
            ]
          },
          "metadata": {
            "tags": []
          },
          "execution_count": 40
        }
      ]
    },
    {
      "cell_type": "code",
      "metadata": {
        "id": "lSw8WdWLfRol",
        "colab_type": "code",
        "outputId": "475a8e4c-b924-4f35-8302-498caf5e79e9",
        "colab": {
          "base_uri": "https://localhost:8080/",
          "height": 431
        }
      },
      "source": [
        "pd.concat(\n",
        "  [X_train, y_train], axis=1).groupby(\n",
        "    ['product_category','marketplace'])['star_rating'].agg(\n",
        "      ['mean', 'std'], axis=1)"
      ],
      "execution_count": 0,
      "outputs": [
        {
          "output_type": "execute_result",
          "data": {
            "text/html": [
              "<div>\n",
              "<style scoped>\n",
              "    .dataframe tbody tr th:only-of-type {\n",
              "        vertical-align: middle;\n",
              "    }\n",
              "\n",
              "    .dataframe tbody tr th {\n",
              "        vertical-align: top;\n",
              "    }\n",
              "\n",
              "    .dataframe thead th {\n",
              "        text-align: right;\n",
              "    }\n",
              "</style>\n",
              "<table border=\"1\" class=\"dataframe\">\n",
              "  <thead>\n",
              "    <tr style=\"text-align: right;\">\n",
              "      <th></th>\n",
              "      <th></th>\n",
              "      <th>mean</th>\n",
              "      <th>std</th>\n",
              "    </tr>\n",
              "    <tr>\n",
              "      <th>product_category</th>\n",
              "      <th>marketplace</th>\n",
              "      <th></th>\n",
              "      <th></th>\n",
              "    </tr>\n",
              "  </thead>\n",
              "  <tbody>\n",
              "    <tr>\n",
              "      <th rowspan=\"2\" valign=\"top\">Apparel</th>\n",
              "      <th>UK</th>\n",
              "      <td>5.000</td>\n",
              "      <td>0.000</td>\n",
              "    </tr>\n",
              "    <tr>\n",
              "      <th>US</th>\n",
              "      <td>4.366</td>\n",
              "      <td>1.168</td>\n",
              "    </tr>\n",
              "    <tr>\n",
              "      <th rowspan=\"2\" valign=\"top\">Automotive</th>\n",
              "      <th>UK</th>\n",
              "      <td>4.421</td>\n",
              "      <td>1.025</td>\n",
              "    </tr>\n",
              "    <tr>\n",
              "      <th>US</th>\n",
              "      <td>4.653</td>\n",
              "      <td>0.827</td>\n",
              "    </tr>\n",
              "    <tr>\n",
              "      <th>Baby</th>\n",
              "      <th>UK</th>\n",
              "      <td>4.552</td>\n",
              "      <td>0.950</td>\n",
              "    </tr>\n",
              "    <tr>\n",
              "      <th>...</th>\n",
              "      <th>...</th>\n",
              "      <td>...</td>\n",
              "      <td>...</td>\n",
              "    </tr>\n",
              "    <tr>\n",
              "      <th>Video Games</th>\n",
              "      <th>US</th>\n",
              "      <td>4.178</td>\n",
              "      <td>1.320</td>\n",
              "    </tr>\n",
              "    <tr>\n",
              "      <th rowspan=\"2\" valign=\"top\">Watches</th>\n",
              "      <th>UK</th>\n",
              "      <td>4.307</td>\n",
              "      <td>1.168</td>\n",
              "    </tr>\n",
              "    <tr>\n",
              "      <th>US</th>\n",
              "      <td>4.237</td>\n",
              "      <td>1.218</td>\n",
              "    </tr>\n",
              "    <tr>\n",
              "      <th rowspan=\"2\" valign=\"top\">Wireless</th>\n",
              "      <th>UK</th>\n",
              "      <td>4.180</td>\n",
              "      <td>1.305</td>\n",
              "    </tr>\n",
              "    <tr>\n",
              "      <th>US</th>\n",
              "      <td>4.033</td>\n",
              "      <td>1.394</td>\n",
              "    </tr>\n",
              "  </tbody>\n",
              "</table>\n",
              "<p>76 rows × 2 columns</p>\n",
              "</div>"
            ],
            "text/plain": [
              "                              mean   std\n",
              "product_category marketplace            \n",
              "Apparel          UK          5.000 0.000\n",
              "                 US          4.366 1.168\n",
              "Automotive       UK          4.421 1.025\n",
              "                 US          4.653 0.827\n",
              "Baby             UK          4.552 0.950\n",
              "...                            ...   ...\n",
              "Video Games      US          4.178 1.320\n",
              "Watches          UK          4.307 1.168\n",
              "                 US          4.237 1.218\n",
              "Wireless         UK          4.180 1.305\n",
              "                 US          4.033 1.394\n",
              "\n",
              "[76 rows x 2 columns]"
            ]
          },
          "metadata": {
            "tags": []
          },
          "execution_count": 41
        }
      ]
    },
    {
      "cell_type": "code",
      "metadata": {
        "id": "GcV-GF_ogg6G",
        "colab_type": "code",
        "outputId": "81f5c570-f8e3-4b2e-bda2-7039741ddc13",
        "colab": {
          "base_uri": "https://localhost:8080/",
          "height": 633
        }
      },
      "source": [
        "_ = pd.concat(\n",
        "  [X_train, y_train], axis=1).groupby(\n",
        "    ['product_category', 'marketplace'])['star_rating'].mean()\n",
        "_ = _.reset_index() # convert from multi-index series to df.\n",
        "\n",
        "plt.figure(figsize=(15, 8))\n",
        "plt.title('Star Ratings by Product Category and Marketplace')\n",
        "sns.barplot(x=_.product_category, y=_.star_rating, hue=_.marketplace,)\n",
        "plt.xlabel('Product Category')\n",
        "plt.ylabel('Star Rating')\n",
        "plt.xticks(rotation='vertical');"
      ],
      "execution_count": 0,
      "outputs": [
        {
          "output_type": "display_data",
          "data": {
            "image/png": "[encoded data removed]",
            "text/plain": [
              "<Figure size 1080x576 with 1 Axes>"
            ]
          },
          "metadata": {
            "tags": []
          }
        }
      ]
    },
    {
      "cell_type": "code",
      "metadata": {
        "id": "wQUfr1qL-fbd",
        "colab_type": "code",
        "outputId": "6b1e840b-713d-473a-9608-31d11404303d",
        "colab": {
          "base_uri": "https://localhost:8080/",
          "height": 517
        }
      },
      "source": [
        "_ = pd.concat([X_train, y_train], axis=1)\n",
        "_ = _[_.helpful_rate != -1]\n",
        "_.groupby(['marketplace', 'star_rating'])['helpful_rate'].mean()\n",
        "_ = _.reset_index()\n",
        "\n",
        "plt.figure(figsize=(15, 8))\n",
        "plt.title('Helpful Ratings by Star Ratings and Marketplace')\n",
        "sns.barplot(x=_.marketplace, y=_.helpful_rate, hue=_.star_rating)\n",
        "plt.xlabel('Marketplace')\n",
        "plt.ylabel('Helpful Rate')\n",
        "plt.xticks(rotation='vertical');"
      ],
      "execution_count": 0,
      "outputs": [
        {
          "output_type": "display_data",
          "data": {
            "image/png": "[encoded data removed]",
            "text/plain": [
              "<Figure size 1080x576 with 1 Axes>"
            ]
          },
          "metadata": {
            "tags": []
          }
        }
      ]
    },
    {
      "cell_type": "code",
      "metadata": {
        "id": "_JGtP7Saq_R2",
        "colab_type": "code",
        "outputId": "82d3fc4c-8908-4ffa-a67e-13ac83cf25a3",
        "colab": {
          "base_uri": "https://localhost:8080/",
          "height": 633
        }
      },
      "source": [
        "plt.figure(figsize=(15, 8))\n",
        "plt.xticks(rotation='vertical')\n",
        "sns.barplot(x='product_category',\n",
        "            y='helpful_votes',\n",
        "            hue='marketplace',\n",
        "            data=X_train, ci=None)\n",
        "plt.legend(labels=['UK', 'US'])\n",
        "plt.xlabel('Product Category')\n",
        "plt.ylabel('Helpful Votes')\n",
        "plt.title('Helpful Votes by Product Category and Marketplace');"
      ],
      "execution_count": 0,
      "outputs": [
        {
          "output_type": "display_data",
          "data": {
            "image/png": "[encoded data removed]",
            "text/plain": [
              "<Figure size 1080x576 with 1 Axes>"
            ]
          },
          "metadata": {
            "tags": []
          }
        }
      ]
    },
    {
      "cell_type": "markdown",
      "metadata": {
        "id": "3gqPJHAdEQqH",
        "colab_type": "text"
      },
      "source": [
        "Why is UK Lawn and Garden such an extreme outlier? After looking into the data, it appears that only 186 of the reviews were from British Lawn & Garden customers. Of those, approximately eleven were helpful reviews, which yields such an extremely higher percentage. With more reviews in that category, there is great likelihood that the helpful vote percentage would even out."
      ]
    },
    {
      "cell_type": "code",
      "metadata": {
        "id": "oQowcqRaFXu3",
        "colab_type": "code",
        "outputId": "1a23b767-e5da-419c-b688-7a971be6c598",
        "colab": {
          "base_uri": "https://localhost:8080/",
          "height": 67
        }
      },
      "source": [
        "X_train_L_and_G_count = X_train[(X_train.product_category == 'Lawn and Garden') &\n",
        "                                (X_train.marketplace == 'UK')].shape[0]\n",
        "\n",
        "X_train_L_and_G_positive_review_count = X_train[\n",
        "  (X_train.product_category == 'Lawn and Garden') &\n",
        "  (X_train.marketplace == 'UK') &\n",
        "  (X_train.helpful_votes == 1)].shape[0]\n",
        "\n",
        "print('Number of Lawn and Garden Reviews from the UK:', X_train_L_and_G_count)\n",
        "print('Helpful Reviews for UK Lawn & Garden:',\n",
        "    X_train_L_and_G_positive_review_count)\n",
        "print('Percent Helpful Review:', round(\n",
        "    (X_train_L_and_G_positive_review_count * 100 / X_train_L_and_G_count), 3))"
      ],
      "execution_count": 0,
      "outputs": [
        {
          "output_type": "stream",
          "text": [
            "Number of Lawn and Garden Reviews from the UK: 164\n",
            "Helpful Reviews for UK Lawn & Garden: 29\n",
            "Percent Helpful Review: 17.683\n"
          ],
          "name": "stdout"
        }
      ]
    },
    {
      "cell_type": "code",
      "metadata": {
        "id": "jfJDjX06vB-G",
        "colab_type": "code",
        "outputId": "adddb1f3-2bf1-4831-ec0d-39404d9e3c03",
        "colab": {
          "base_uri": "https://localhost:8080/",
          "height": 431
        }
      },
      "source": [
        "X_train.groupby(['product_category', 'marketplace'])['helpful_votes'].agg(\n",
        "    ['mean', 'std'])"
      ],
      "execution_count": 0,
      "outputs": [
        {
          "output_type": "execute_result",
          "data": {
            "text/html": [
              "<div>\n",
              "<style scoped>\n",
              "    .dataframe tbody tr th:only-of-type {\n",
              "        vertical-align: middle;\n",
              "    }\n",
              "\n",
              "    .dataframe tbody tr th {\n",
              "        vertical-align: top;\n",
              "    }\n",
              "\n",
              "    .dataframe thead th {\n",
              "        text-align: right;\n",
              "    }\n",
              "</style>\n",
              "<table border=\"1\" class=\"dataframe\">\n",
              "  <thead>\n",
              "    <tr style=\"text-align: right;\">\n",
              "      <th></th>\n",
              "      <th></th>\n",
              "      <th>mean</th>\n",
              "      <th>std</th>\n",
              "    </tr>\n",
              "    <tr>\n",
              "      <th>product_category</th>\n",
              "      <th>marketplace</th>\n",
              "      <th></th>\n",
              "      <th></th>\n",
              "    </tr>\n",
              "  </thead>\n",
              "  <tbody>\n",
              "    <tr>\n",
              "      <th rowspan=\"2\" valign=\"top\">Apparel</th>\n",
              "      <th>UK</th>\n",
              "      <td>0.000</td>\n",
              "      <td>0.000</td>\n",
              "    </tr>\n",
              "    <tr>\n",
              "      <th>US</th>\n",
              "      <td>0.710</td>\n",
              "      <td>1.880</td>\n",
              "    </tr>\n",
              "    <tr>\n",
              "      <th rowspan=\"2\" valign=\"top\">Automotive</th>\n",
              "      <th>UK</th>\n",
              "      <td>0.617</td>\n",
              "      <td>2.123</td>\n",
              "    </tr>\n",
              "    <tr>\n",
              "      <th>US</th>\n",
              "      <td>0.953</td>\n",
              "      <td>3.370</td>\n",
              "    </tr>\n",
              "    <tr>\n",
              "      <th>Baby</th>\n",
              "      <th>UK</th>\n",
              "      <td>1.242</td>\n",
              "      <td>20.575</td>\n",
              "    </tr>\n",
              "    <tr>\n",
              "      <th>...</th>\n",
              "      <th>...</th>\n",
              "      <td>...</td>\n",
              "      <td>...</td>\n",
              "    </tr>\n",
              "    <tr>\n",
              "      <th>Video Games</th>\n",
              "      <th>US</th>\n",
              "      <td>1.375</td>\n",
              "      <td>14.225</td>\n",
              "    </tr>\n",
              "    <tr>\n",
              "      <th rowspan=\"2\" valign=\"top\">Watches</th>\n",
              "      <th>UK</th>\n",
              "      <td>2.153</td>\n",
              "      <td>6.563</td>\n",
              "    </tr>\n",
              "    <tr>\n",
              "      <th>US</th>\n",
              "      <td>1.792</td>\n",
              "      <td>10.839</td>\n",
              "    </tr>\n",
              "    <tr>\n",
              "      <th rowspan=\"2\" valign=\"top\">Wireless</th>\n",
              "      <th>UK</th>\n",
              "      <td>1.109</td>\n",
              "      <td>6.279</td>\n",
              "    </tr>\n",
              "    <tr>\n",
              "      <th>US</th>\n",
              "      <td>0.926</td>\n",
              "      <td>9.038</td>\n",
              "    </tr>\n",
              "  </tbody>\n",
              "</table>\n",
              "<p>76 rows × 2 columns</p>\n",
              "</div>"
            ],
            "text/plain": [
              "                              mean    std\n",
              "product_category marketplace             \n",
              "Apparel          UK          0.000  0.000\n",
              "                 US          0.710  1.880\n",
              "Automotive       UK          0.617  2.123\n",
              "                 US          0.953  3.370\n",
              "Baby             UK          1.242 20.575\n",
              "...                            ...    ...\n",
              "Video Games      US          1.375 14.225\n",
              "Watches          UK          2.153  6.563\n",
              "                 US          1.792 10.839\n",
              "Wireless         UK          1.109  6.279\n",
              "                 US          0.926  9.038\n",
              "\n",
              "[76 rows x 2 columns]"
            ]
          },
          "metadata": {
            "tags": []
          },
          "execution_count": 46
        }
      ]
    },
    {
      "cell_type": "code",
      "metadata": {
        "id": "Rn3YAFFiOUa-",
        "colab_type": "code",
        "outputId": "df7cddb0-1ed6-4018-8b35-c6c28c13a161",
        "colab": {
          "base_uri": "https://localhost:8080/",
          "height": 195
        }
      },
      "source": [
        "# Group by Verified users only.\n",
        "X_train.groupby(\n",
        "    ['verified_purchase', 'marketplace'])['helpful_rate'].agg(['mean', 'std'])"
      ],
      "execution_count": 0,
      "outputs": [
        {
          "output_type": "execute_result",
          "data": {
            "text/html": [
              "<div>\n",
              "<style scoped>\n",
              "    .dataframe tbody tr th:only-of-type {\n",
              "        vertical-align: middle;\n",
              "    }\n",
              "\n",
              "    .dataframe tbody tr th {\n",
              "        vertical-align: top;\n",
              "    }\n",
              "\n",
              "    .dataframe thead th {\n",
              "        text-align: right;\n",
              "    }\n",
              "</style>\n",
              "<table border=\"1\" class=\"dataframe\">\n",
              "  <thead>\n",
              "    <tr style=\"text-align: right;\">\n",
              "      <th></th>\n",
              "      <th></th>\n",
              "      <th>mean</th>\n",
              "      <th>std</th>\n",
              "    </tr>\n",
              "    <tr>\n",
              "      <th>verified_purchase</th>\n",
              "      <th>marketplace</th>\n",
              "      <th></th>\n",
              "      <th></th>\n",
              "    </tr>\n",
              "  </thead>\n",
              "  <tbody>\n",
              "    <tr>\n",
              "      <th rowspan=\"2\" valign=\"top\">N</th>\n",
              "      <th>UK</th>\n",
              "      <td>0.134</td>\n",
              "      <td>0.770</td>\n",
              "    </tr>\n",
              "    <tr>\n",
              "      <th>US</th>\n",
              "      <td>-0.010</td>\n",
              "      <td>0.810</td>\n",
              "    </tr>\n",
              "    <tr>\n",
              "      <th rowspan=\"2\" valign=\"top\">Y</th>\n",
              "      <th>UK</th>\n",
              "      <td>-0.486</td>\n",
              "      <td>0.744</td>\n",
              "    </tr>\n",
              "    <tr>\n",
              "      <th>US</th>\n",
              "      <td>-0.462</td>\n",
              "      <td>0.756</td>\n",
              "    </tr>\n",
              "  </tbody>\n",
              "</table>\n",
              "</div>"
            ],
            "text/plain": [
              "                                mean   std\n",
              "verified_purchase marketplace             \n",
              "N                 UK           0.134 0.770\n",
              "                  US          -0.010 0.810\n",
              "Y                 UK          -0.486 0.744\n",
              "                  US          -0.462 0.756"
            ]
          },
          "metadata": {
            "tags": []
          },
          "execution_count": 47
        }
      ]
    },
    {
      "cell_type": "code",
      "metadata": {
        "id": "eFH9yay6OU5N",
        "colab_type": "code",
        "outputId": "78c721bc-f091-4d32-d30a-5f40ef657f64",
        "colab": {
          "base_uri": "https://localhost:8080/",
          "height": 499
        }
      },
      "source": [
        "plt.figure(figsize=(15, 8))\n",
        "sns.barplot(x='verified_purchase',\n",
        "            y='helpful_votes',\n",
        "            hue='marketplace',\n",
        "            data=X_train, ci=None)\n",
        "plt.legend(['UK', 'US'])\n",
        "plt.xticks(labels=['Non-verified purchase', 'Verified purchase'], ticks=[0, 1])\n",
        "plt.title('Helpful Votes by Verified Purchase and Marketplace')\n",
        "plt.xlabel('')\n",
        "plt.ylabel('Helpful Votes');"
      ],
      "execution_count": 0,
      "outputs": [
        {
          "output_type": "display_data",
          "data": {
            "image/png": "[encoded data removed]",
            "text/plain": [
              "<Figure size 1080x576 with 1 Axes>"
            ]
          },
          "metadata": {
            "tags": []
          }
        }
      ]
    },
    {
      "cell_type": "code",
      "metadata": {
        "id": "yCQdUcU9OVJH",
        "colab_type": "code",
        "outputId": "3fc7e0e7-bd6d-4289-e934-9afe9822f0af",
        "colab": {
          "base_uri": "https://localhost:8080/",
          "height": 195
        }
      },
      "source": [
        "# Group by Vine users only.\n",
        "X_train.groupby(\n",
        "    ['vine', 'marketplace'])['helpful_rate'].agg(['mean', 'std'])"
      ],
      "execution_count": 0,
      "outputs": [
        {
          "output_type": "execute_result",
          "data": {
            "text/html": [
              "<div>\n",
              "<style scoped>\n",
              "    .dataframe tbody tr th:only-of-type {\n",
              "        vertical-align: middle;\n",
              "    }\n",
              "\n",
              "    .dataframe tbody tr th {\n",
              "        vertical-align: top;\n",
              "    }\n",
              "\n",
              "    .dataframe thead th {\n",
              "        text-align: right;\n",
              "    }\n",
              "</style>\n",
              "<table border=\"1\" class=\"dataframe\">\n",
              "  <thead>\n",
              "    <tr style=\"text-align: right;\">\n",
              "      <th></th>\n",
              "      <th></th>\n",
              "      <th>mean</th>\n",
              "      <th>std</th>\n",
              "    </tr>\n",
              "    <tr>\n",
              "      <th>vine</th>\n",
              "      <th>marketplace</th>\n",
              "      <th></th>\n",
              "      <th></th>\n",
              "    </tr>\n",
              "  </thead>\n",
              "  <tbody>\n",
              "    <tr>\n",
              "      <th rowspan=\"2\" valign=\"top\">N</th>\n",
              "      <th>UK</th>\n",
              "      <td>-0.340</td>\n",
              "      <td>0.795</td>\n",
              "    </tr>\n",
              "    <tr>\n",
              "      <th>US</th>\n",
              "      <td>-0.340</td>\n",
              "      <td>0.797</td>\n",
              "    </tr>\n",
              "    <tr>\n",
              "      <th rowspan=\"2\" valign=\"top\">Y</th>\n",
              "      <th>UK</th>\n",
              "      <td>0.137</td>\n",
              "      <td>0.781</td>\n",
              "    </tr>\n",
              "    <tr>\n",
              "      <th>US</th>\n",
              "      <td>0.153</td>\n",
              "      <td>0.796</td>\n",
              "    </tr>\n",
              "  </tbody>\n",
              "</table>\n",
              "</div>"
            ],
            "text/plain": [
              "                   mean   std\n",
              "vine marketplace             \n",
              "N    UK          -0.340 0.795\n",
              "     US          -0.340 0.797\n",
              "Y    UK           0.137 0.781\n",
              "     US           0.153 0.796"
            ]
          },
          "metadata": {
            "tags": []
          },
          "execution_count": 49
        }
      ]
    },
    {
      "cell_type": "code",
      "metadata": {
        "id": "RlbjO9BqOVZT",
        "colab_type": "code",
        "outputId": "abca90ff-dc30-464a-bdbc-8ccefcf71258",
        "colab": {
          "base_uri": "https://localhost:8080/",
          "height": 513
        }
      },
      "source": [
        "plt.figure(figsize=(15, 8))\n",
        "sns.barplot(x='vine',\n",
        "            y='helpful_votes',\n",
        "            hue='marketplace',\n",
        "            data=X_train, ci=None)\n",
        "plt.legend(['UK', 'US'])\n",
        "plt.xticks(ticks=[0, 1], labels=['Non-Vine Review', 'Vine Review'])\n",
        "plt.title('Mean Helpful Vote Tags by Vine Reviewers and Marketplace')\n",
        "plt.xlabel('Vine Membership')\n",
        "plt.ylabel('Mean Helpful Vote Tag');"
      ],
      "execution_count": 0,
      "outputs": [
        {
          "output_type": "display_data",
          "data": {
            "image/png": "[encoded data removed]",
            "text/plain": [
              "<Figure size 1080x576 with 1 Axes>"
            ]
          },
          "metadata": {
            "tags": []
          }
        }
      ]
    },
    {
      "cell_type": "code",
      "metadata": {
        "id": "HiE5ByrEkWEw",
        "colab_type": "code",
        "outputId": "e26a0800-5adb-4ded-8d00-9465c5849e95",
        "colab": {
          "base_uri": "https://localhost:8080/",
          "height": 67
        }
      },
      "source": [
        "# Distribution of vine transactions.\n",
        "X_train.vine.value_counts()"
      ],
      "execution_count": 0,
      "outputs": [
        {
          "output_type": "execute_result",
          "data": {
            "text/plain": [
              "N    6016198\n",
              "Y       8126\n",
              "Name: vine, dtype: int64"
            ]
          },
          "metadata": {
            "tags": []
          },
          "execution_count": 51
        }
      ]
    },
    {
      "cell_type": "code",
      "metadata": {
        "id": "r7_mnsttOV4A",
        "colab_type": "code",
        "outputId": "a66337ae-b277-4115-e9fc-1f8145f4831a",
        "colab": {
          "base_uri": "https://localhost:8080/",
          "height": 235
        }
      },
      "source": [
        "_ = pd.concat([X_train, y_train], axis=1)\n",
        "_.head()\n",
        "\n",
        "l_and_g = _[_['product_category'] == 'Lawn and Garden']\n",
        "l_and_g.groupby('marketplace')['helpful_votes'].value_counts().sort_index()"
      ],
      "execution_count": 0,
      "outputs": [
        {
          "output_type": "execute_result",
          "data": {
            "text/plain": [
              "marketplace  helpful_votes\n",
              "UK           0                48\n",
              "             1                29\n",
              "             2                18\n",
              "             3                13\n",
              "             4                 5\n",
              "                              ..\n",
              "US           47                1\n",
              "             54                1\n",
              "             82                1\n",
              "             302               1\n",
              "             430               1\n",
              "Name: helpful_votes, Length: 69, dtype: int64"
            ]
          },
          "metadata": {
            "tags": []
          },
          "execution_count": 52
        }
      ]
    },
    {
      "cell_type": "code",
      "metadata": {
        "id": "TlADLL2Rt-ep",
        "colab_type": "code",
        "outputId": "159927a8-d574-4ecf-8e8e-893e8a376837",
        "colab": {
          "base_uri": "https://localhost:8080/",
          "height": 295
        }
      },
      "source": [
        "X_train[X_train['helpful_rate'] > 0]['helpful_rate'].hist(bins=40)\n",
        "plt.xlabel('Helpful Percent')\n",
        "plt.ylabel('Review Count')\n",
        "plt.title('Helpful Percentage Counts with Reviews Present');"
      ],
      "execution_count": 0,
      "outputs": [
        {
          "output_type": "display_data",
          "data": {
            "image/png": "[encoded data removed]",
            "text/plain": [
              "<Figure size 432x288 with 1 Axes>"
            ]
          },
          "metadata": {
            "tags": []
          }
        }
      ]
    },
    {
      "cell_type": "markdown",
      "metadata": {
        "id": "Pp5i5ao3yOqn",
        "colab_type": "text"
      },
      "source": [
        "Upsample/downsample next? Use all UK data and upsample to US data, or upsample some and downsample some? If the latter, should the new data be jittered (upsampling only)?"
      ]
    },
    {
      "cell_type": "code",
      "metadata": {
        "id": "9Xdh234HM-EY",
        "colab_type": "code",
        "outputId": "8a85c974-3c72-4c83-bab4-b1a0c367e6bc",
        "colab": {
          "base_uri": "https://localhost:8080/",
          "height": 284
        }
      },
      "source": [
        "X_train.describe()"
      ],
      "execution_count": 0,
      "outputs": [
        {
          "output_type": "execute_result",
          "data": {
            "text/html": [
              "<div>\n",
              "<style scoped>\n",
              "    .dataframe tbody tr th:only-of-type {\n",
              "        vertical-align: middle;\n",
              "    }\n",
              "\n",
              "    .dataframe tbody tr th {\n",
              "        vertical-align: top;\n",
              "    }\n",
              "\n",
              "    .dataframe thead th {\n",
              "        text-align: right;\n",
              "    }\n",
              "</style>\n",
              "<table border=\"1\" class=\"dataframe\">\n",
              "  <thead>\n",
              "    <tr style=\"text-align: right;\">\n",
              "      <th></th>\n",
              "      <th>index</th>\n",
              "      <th>helpful_votes</th>\n",
              "      <th>total_votes</th>\n",
              "      <th>helpful_rate</th>\n",
              "    </tr>\n",
              "  </thead>\n",
              "  <tbody>\n",
              "    <tr>\n",
              "      <th>count</th>\n",
              "      <td>6024324.000</td>\n",
              "      <td>6024324.000</td>\n",
              "      <td>6024324.000</td>\n",
              "      <td>6024324.000</td>\n",
              "    </tr>\n",
              "    <tr>\n",
              "      <th>mean</th>\n",
              "      <td>2936058.346</td>\n",
              "      <td>2.069</td>\n",
              "      <td>3.270</td>\n",
              "      <td>-0.339</td>\n",
              "    </tr>\n",
              "    <tr>\n",
              "      <th>std</th>\n",
              "      <td>2074282.432</td>\n",
              "      <td>30.429</td>\n",
              "      <td>34.583</td>\n",
              "      <td>0.796</td>\n",
              "    </tr>\n",
              "    <tr>\n",
              "      <th>min</th>\n",
              "      <td>0.000</td>\n",
              "      <td>0.000</td>\n",
              "      <td>0.000</td>\n",
              "      <td>-1.000</td>\n",
              "    </tr>\n",
              "    <tr>\n",
              "      <th>25%</th>\n",
              "      <td>1075921.750</td>\n",
              "      <td>0.000</td>\n",
              "      <td>0.000</td>\n",
              "      <td>-1.000</td>\n",
              "    </tr>\n",
              "    <tr>\n",
              "      <th>50%</th>\n",
              "      <td>2598384.000</td>\n",
              "      <td>0.000</td>\n",
              "      <td>0.000</td>\n",
              "      <td>-1.000</td>\n",
              "    </tr>\n",
              "    <tr>\n",
              "      <th>75%</th>\n",
              "      <td>4749766.250</td>\n",
              "      <td>1.000</td>\n",
              "      <td>2.000</td>\n",
              "      <td>0.500</td>\n",
              "    </tr>\n",
              "    <tr>\n",
              "      <th>max</th>\n",
              "      <td>6900885.000</td>\n",
              "      <td>27550.000</td>\n",
              "      <td>28727.000</td>\n",
              "      <td>1.000</td>\n",
              "    </tr>\n",
              "  </tbody>\n",
              "</table>\n",
              "</div>"
            ],
            "text/plain": [
              "            index  helpful_votes  total_votes  helpful_rate\n",
              "count 6024324.000    6024324.000  6024324.000   6024324.000\n",
              "mean  2936058.346          2.069        3.270        -0.339\n",
              "std   2074282.432         30.429       34.583         0.796\n",
              "min         0.000          0.000        0.000        -1.000\n",
              "25%   1075921.750          0.000        0.000        -1.000\n",
              "50%   2598384.000          0.000        0.000        -1.000\n",
              "75%   4749766.250          1.000        2.000         0.500\n",
              "max   6900885.000      27550.000    28727.000         1.000"
            ]
          },
          "metadata": {
            "tags": []
          },
          "execution_count": 54
        }
      ]
    },
    {
      "cell_type": "code",
      "metadata": {
        "id": "dCwiyOT9RIIe",
        "colab_type": "code",
        "outputId": "01e8a568-1835-4ed2-9d12-b7b937e97acc",
        "colab": {
          "base_uri": "https://localhost:8080/",
          "height": 34
        }
      },
      "source": [
        "X_train.helpful_votes.mean()"
      ],
      "execution_count": 0,
      "outputs": [
        {
          "output_type": "execute_result",
          "data": {
            "text/plain": [
              "2.0686141714821447"
            ]
          },
          "metadata": {
            "tags": []
          },
          "execution_count": 55
        }
      ]
    },
    {
      "cell_type": "code",
      "metadata": {
        "id": "xWY5BhG7bwdm",
        "colab_type": "code",
        "outputId": "bcafedb6-d056-45d4-b15b-10699e72c3ee",
        "colab": {
          "base_uri": "https://localhost:8080/",
          "height": 34
        }
      },
      "source": [
        "X_train.loc[X_train.helpful_votes > 0, 'helpful_votes'].std()"
      ],
      "execution_count": 0,
      "outputs": [
        {
          "output_type": "execute_result",
          "data": {
            "text/plain": [
              "54.56923323170825"
            ]
          },
          "metadata": {
            "tags": []
          },
          "execution_count": 56
        }
      ]
    },
    {
      "cell_type": "code",
      "metadata": {
        "id": "mxven40tSOj_",
        "colab_type": "code",
        "outputId": "1dc21c32-e234-4d3d-8bc5-86f6ad0cb387",
        "colab": {
          "base_uri": "https://localhost:8080/",
          "height": 284
        }
      },
      "source": [
        "X_train.describe()"
      ],
      "execution_count": 0,
      "outputs": [
        {
          "output_type": "execute_result",
          "data": {
            "text/html": [
              "<div>\n",
              "<style scoped>\n",
              "    .dataframe tbody tr th:only-of-type {\n",
              "        vertical-align: middle;\n",
              "    }\n",
              "\n",
              "    .dataframe tbody tr th {\n",
              "        vertical-align: top;\n",
              "    }\n",
              "\n",
              "    .dataframe thead th {\n",
              "        text-align: right;\n",
              "    }\n",
              "</style>\n",
              "<table border=\"1\" class=\"dataframe\">\n",
              "  <thead>\n",
              "    <tr style=\"text-align: right;\">\n",
              "      <th></th>\n",
              "      <th>index</th>\n",
              "      <th>helpful_votes</th>\n",
              "      <th>total_votes</th>\n",
              "      <th>helpful_rate</th>\n",
              "    </tr>\n",
              "  </thead>\n",
              "  <tbody>\n",
              "    <tr>\n",
              "      <th>count</th>\n",
              "      <td>6024324.000</td>\n",
              "      <td>6024324.000</td>\n",
              "      <td>6024324.000</td>\n",
              "      <td>6024324.000</td>\n",
              "    </tr>\n",
              "    <tr>\n",
              "      <th>mean</th>\n",
              "      <td>2936058.346</td>\n",
              "      <td>2.069</td>\n",
              "      <td>3.270</td>\n",
              "      <td>-0.339</td>\n",
              "    </tr>\n",
              "    <tr>\n",
              "      <th>std</th>\n",
              "      <td>2074282.432</td>\n",
              "      <td>30.429</td>\n",
              "      <td>34.583</td>\n",
              "      <td>0.796</td>\n",
              "    </tr>\n",
              "    <tr>\n",
              "      <th>min</th>\n",
              "      <td>0.000</td>\n",
              "      <td>0.000</td>\n",
              "      <td>0.000</td>\n",
              "      <td>-1.000</td>\n",
              "    </tr>\n",
              "    <tr>\n",
              "      <th>25%</th>\n",
              "      <td>1075921.750</td>\n",
              "      <td>0.000</td>\n",
              "      <td>0.000</td>\n",
              "      <td>-1.000</td>\n",
              "    </tr>\n",
              "    <tr>\n",
              "      <th>50%</th>\n",
              "      <td>2598384.000</td>\n",
              "      <td>0.000</td>\n",
              "      <td>0.000</td>\n",
              "      <td>-1.000</td>\n",
              "    </tr>\n",
              "    <tr>\n",
              "      <th>75%</th>\n",
              "      <td>4749766.250</td>\n",
              "      <td>1.000</td>\n",
              "      <td>2.000</td>\n",
              "      <td>0.500</td>\n",
              "    </tr>\n",
              "    <tr>\n",
              "      <th>max</th>\n",
              "      <td>6900885.000</td>\n",
              "      <td>27550.000</td>\n",
              "      <td>28727.000</td>\n",
              "      <td>1.000</td>\n",
              "    </tr>\n",
              "  </tbody>\n",
              "</table>\n",
              "</div>"
            ],
            "text/plain": [
              "            index  helpful_votes  total_votes  helpful_rate\n",
              "count 6024324.000    6024324.000  6024324.000   6024324.000\n",
              "mean  2936058.346          2.069        3.270        -0.339\n",
              "std   2074282.432         30.429       34.583         0.796\n",
              "min         0.000          0.000        0.000        -1.000\n",
              "25%   1075921.750          0.000        0.000        -1.000\n",
              "50%   2598384.000          0.000        0.000        -1.000\n",
              "75%   4749766.250          1.000        2.000         0.500\n",
              "max   6900885.000      27550.000    28727.000         1.000"
            ]
          },
          "metadata": {
            "tags": []
          },
          "execution_count": 57
        }
      ]
    },
    {
      "cell_type": "code",
      "metadata": {
        "id": "QBngtRbTcxsS",
        "colab_type": "code",
        "colab": {}
      },
      "source": [
        "def shrink_outliers(feature: str, train_df: pd.DataFrame, eval_df: pd.DataFrame,\n",
        "                    holdout_df: pd.DataFrame):  \n",
        "  \"\"\"\n",
        "  Takes a feature and replaces values which are greater than three standard\n",
        "  deviations from the mean with the value at that point. \n",
        "  \n",
        "  Args:\n",
        "    feature: the column with outliers\n",
        "    train_df: DataFrame from which mean and standard deviation will be \n",
        "      calculated.\n",
        "    eval_df: DataFrame will have mean and standard deviation applied to feature\n",
        "      column.\n",
        "    holdout_df: DataFrame will have mean and standard deviation applied to\n",
        "      feature column.\n",
        "  Returns:\n",
        "    train_df: DataFrame with outliers replaced.\n",
        "    eval_df: DataFrame with outliers replaced.\n",
        "    holdout_df: DataFrame with outliers replaced.\n",
        "  \"\"\"\n",
        "\n",
        "  mean = train_df.loc[train_df[feature] != 0, feature].mean()\n",
        "  std = train_df.loc[train_df[feature] != 0, feature].std()\n",
        "  replacement_value = mean + (3 * std)\n",
        "\n",
        "  train_df[feature] = train_df[feature].apply(\n",
        "      lambda x: x if x < replacement_value else replacement_value).copy()\n",
        "  eval_df[feature] = eval_df[feature].apply(\n",
        "      lambda x: x if x < replacement_value else replacement_value).copy()\n",
        "  holdout_df[feature] = holdout_df[feature].apply(\n",
        "      lambda x: x if x < replacement_value else replacement_value).copy() \n",
        "  \n",
        "  return train_df, eval_df, holdout_df"
      ],
      "execution_count": 0,
      "outputs": []
    },
    {
      "cell_type": "code",
      "metadata": {
        "id": "OWlm0zfhFLx0",
        "colab_type": "code",
        "colab": {}
      },
      "source": [
        "X_train = X_train.copy()\n",
        "X_eval = X_eval.copy()\n",
        "X_holdout = X_holdout.copy()"
      ],
      "execution_count": 0,
      "outputs": []
    },
    {
      "cell_type": "code",
      "metadata": {
        "id": "78QFEPhl0gWj",
        "colab_type": "code",
        "colab": {}
      },
      "source": [
        "# Add column with length of review_body.\n",
        "X_eval['review_body_len'] = X_eval.review_body.str.split().apply(len)"
      ],
      "execution_count": 0,
      "outputs": []
    },
    {
      "cell_type": "code",
      "metadata": {
        "id": "A_B2dC8z0C3O",
        "colab_type": "code",
        "colab": {}
      },
      "source": [
        "X_holdout['review_body_len'] = X_holdout.review_body.str.split().apply(len)"
      ],
      "execution_count": 0,
      "outputs": []
    },
    {
      "cell_type": "code",
      "metadata": {
        "id": "ga3VO6Fp-Hod",
        "colab_type": "code",
        "colab": {}
      },
      "source": [
        "# Ran into memory issues using vectorized methods. Switched to for loop to \n",
        "# calculate lengths.\n",
        "lengths = []\n",
        "for i, text in X_train.review_body.iteritems():\n",
        "  lengths.append(len(text.split()))\n",
        "\n",
        "assert X_train.shape[0] == len(lengths)\n",
        "X_train['review_body_len'] = lengths"
      ],
      "execution_count": 0,
      "outputs": []
    },
    {
      "cell_type": "code",
      "metadata": {
        "id": "zD0yZ2OFMa_5",
        "colab_type": "code",
        "colab": {}
      },
      "source": [
        "# pd.set_option('display.max_columns', None)  \n",
        "# pd.set_option('display.expand_frame_repr', False)\n",
        "# pd.set_option('max_colwidth', -1)"
      ],
      "execution_count": 0,
      "outputs": []
    },
    {
      "cell_type": "code",
      "metadata": {
        "id": "X6hhZtL6B6H6",
        "colab_type": "code",
        "outputId": "82a0484f-7cfe-4958-d221-282ee44e5930",
        "colab": {
          "base_uri": "https://localhost:8080/",
          "height": 195
        }
      },
      "source": [
        "X_train.loc[:, ['review_body', 'review_body_len']].head()"
      ],
      "execution_count": 0,
      "outputs": [
        {
          "output_type": "execute_result",
          "data": {
            "text/html": [
              "<div>\n",
              "<style scoped>\n",
              "    .dataframe tbody tr th:only-of-type {\n",
              "        vertical-align: middle;\n",
              "    }\n",
              "\n",
              "    .dataframe tbody tr th {\n",
              "        vertical-align: top;\n",
              "    }\n",
              "\n",
              "    .dataframe thead th {\n",
              "        text-align: right;\n",
              "    }\n",
              "</style>\n",
              "<table border=\"1\" class=\"dataframe\">\n",
              "  <thead>\n",
              "    <tr style=\"text-align: right;\">\n",
              "      <th></th>\n",
              "      <th>review_body</th>\n",
              "      <th>review_body_len</th>\n",
              "    </tr>\n",
              "  </thead>\n",
              "  <tbody>\n",
              "    <tr>\n",
              "      <th>2712123</th>\n",
              "      <td>My review will be simple and to the point, not...</td>\n",
              "      <td>265</td>\n",
              "    </tr>\n",
              "    <tr>\n",
              "      <th>3194261</th>\n",
              "      <td>This is a brillant report on a veteran who had...</td>\n",
              "      <td>56</td>\n",
              "    </tr>\n",
              "    <tr>\n",
              "      <th>4586123</th>\n",
              "      <td>Have made this my lifestyle.  Its very effecti...</td>\n",
              "      <td>24</td>\n",
              "    </tr>\n",
              "    <tr>\n",
              "      <th>5188418</th>\n",
              "      <td>sorry I missed this.  If I had children at hom...</td>\n",
              "      <td>27</td>\n",
              "    </tr>\n",
              "    <tr>\n",
              "      <th>4582358</th>\n",
              "      <td>I really love the product and a it is a very g...</td>\n",
              "      <td>20</td>\n",
              "    </tr>\n",
              "  </tbody>\n",
              "</table>\n",
              "</div>"
            ],
            "text/plain": [
              "                                               review_body  review_body_len\n",
              "2712123  My review will be simple and to the point, not...              265\n",
              "3194261  This is a brillant report on a veteran who had...               56\n",
              "4586123  Have made this my lifestyle.  Its very effecti...               24\n",
              "5188418  sorry I missed this.  If I had children at hom...               27\n",
              "4582358  I really love the product and a it is a very g...               20"
            ]
          },
          "metadata": {
            "tags": []
          },
          "execution_count": 64
        }
      ]
    },
    {
      "cell_type": "code",
      "metadata": {
        "id": "f3i4dRbxMXG8",
        "colab_type": "code",
        "outputId": "bfd0654a-7d18-4d8a-a322-d25d6e0f1746",
        "colab": {
          "base_uri": "https://localhost:8080/",
          "height": 284
        }
      },
      "source": [
        "X_train.describe()"
      ],
      "execution_count": 0,
      "outputs": [
        {
          "output_type": "execute_result",
          "data": {
            "text/html": [
              "<div>\n",
              "<style scoped>\n",
              "    .dataframe tbody tr th:only-of-type {\n",
              "        vertical-align: middle;\n",
              "    }\n",
              "\n",
              "    .dataframe tbody tr th {\n",
              "        vertical-align: top;\n",
              "    }\n",
              "\n",
              "    .dataframe thead th {\n",
              "        text-align: right;\n",
              "    }\n",
              "</style>\n",
              "<table border=\"1\" class=\"dataframe\">\n",
              "  <thead>\n",
              "    <tr style=\"text-align: right;\">\n",
              "      <th></th>\n",
              "      <th>index</th>\n",
              "      <th>helpful_votes</th>\n",
              "      <th>total_votes</th>\n",
              "      <th>helpful_rate</th>\n",
              "      <th>review_body_len</th>\n",
              "    </tr>\n",
              "  </thead>\n",
              "  <tbody>\n",
              "    <tr>\n",
              "      <th>count</th>\n",
              "      <td>6024324.000</td>\n",
              "      <td>6024324.000</td>\n",
              "      <td>6024324.000</td>\n",
              "      <td>6024324.000</td>\n",
              "      <td>6024324.000</td>\n",
              "    </tr>\n",
              "    <tr>\n",
              "      <th>mean</th>\n",
              "      <td>2936058.346</td>\n",
              "      <td>2.069</td>\n",
              "      <td>3.270</td>\n",
              "      <td>-0.339</td>\n",
              "      <td>68.665</td>\n",
              "    </tr>\n",
              "    <tr>\n",
              "      <th>std</th>\n",
              "      <td>2074282.432</td>\n",
              "      <td>30.429</td>\n",
              "      <td>34.583</td>\n",
              "      <td>0.796</td>\n",
              "      <td>136.525</td>\n",
              "    </tr>\n",
              "    <tr>\n",
              "      <th>min</th>\n",
              "      <td>0.000</td>\n",
              "      <td>0.000</td>\n",
              "      <td>0.000</td>\n",
              "      <td>-1.000</td>\n",
              "      <td>1.000</td>\n",
              "    </tr>\n",
              "    <tr>\n",
              "      <th>25%</th>\n",
              "      <td>1075921.750</td>\n",
              "      <td>0.000</td>\n",
              "      <td>0.000</td>\n",
              "      <td>-1.000</td>\n",
              "      <td>20.000</td>\n",
              "    </tr>\n",
              "    <tr>\n",
              "      <th>50%</th>\n",
              "      <td>2598384.000</td>\n",
              "      <td>0.000</td>\n",
              "      <td>0.000</td>\n",
              "      <td>-1.000</td>\n",
              "      <td>28.000</td>\n",
              "    </tr>\n",
              "    <tr>\n",
              "      <th>75%</th>\n",
              "      <td>4749766.250</td>\n",
              "      <td>1.000</td>\n",
              "      <td>2.000</td>\n",
              "      <td>0.500</td>\n",
              "      <td>64.000</td>\n",
              "    </tr>\n",
              "    <tr>\n",
              "      <th>max</th>\n",
              "      <td>6900885.000</td>\n",
              "      <td>27550.000</td>\n",
              "      <td>28727.000</td>\n",
              "      <td>1.000</td>\n",
              "      <td>8927.000</td>\n",
              "    </tr>\n",
              "  </tbody>\n",
              "</table>\n",
              "</div>"
            ],
            "text/plain": [
              "            index  helpful_votes  total_votes  helpful_rate  review_body_len\n",
              "count 6024324.000    6024324.000  6024324.000   6024324.000      6024324.000\n",
              "mean  2936058.346          2.069        3.270        -0.339           68.665\n",
              "std   2074282.432         30.429       34.583         0.796          136.525\n",
              "min         0.000          0.000        0.000        -1.000            1.000\n",
              "25%   1075921.750          0.000        0.000        -1.000           20.000\n",
              "50%   2598384.000          0.000        0.000        -1.000           28.000\n",
              "75%   4749766.250          1.000        2.000         0.500           64.000\n",
              "max   6900885.000      27550.000    28727.000         1.000         8927.000"
            ]
          },
          "metadata": {
            "tags": []
          },
          "execution_count": 65
        }
      ]
    },
    {
      "cell_type": "code",
      "metadata": {
        "id": "D2aY3knFkPpo",
        "colab_type": "code",
        "outputId": "e631930b-bb0e-4778-b999-0b79baa3d94e",
        "colab": {
          "base_uri": "https://localhost:8080/",
          "height": 295
        }
      },
      "source": [
        "X_train.review_body_len.hist(bins=200)\n",
        "plt.xlabel('Raw Review Length')\n",
        "plt.ylabel('Count')\n",
        "plt.title('Distribution of Review Lengths for X_train');"
      ],
      "execution_count": 0,
      "outputs": [
        {
          "output_type": "display_data",
          "data": {
            "image/png": "[encoded data removed]",
            "text/plain": [
              "<Figure size 432x288 with 1 Axes>"
            ]
          },
          "metadata": {
            "tags": []
          }
        }
      ]
    },
    {
      "cell_type": "code",
      "metadata": {
        "id": "xGdrqGbiyktS",
        "colab_type": "code",
        "colab": {}
      },
      "source": [
        "X_train, X_eval, X_holdout = shrink_outliers(\n",
        "    'review_body_len', X_train, X_eval, X_holdout)"
      ],
      "execution_count": 0,
      "outputs": []
    },
    {
      "cell_type": "code",
      "metadata": {
        "id": "b0cmsgyTORBl",
        "colab_type": "code",
        "outputId": "66a1cfe9-57c1-4050-b774-6de7be06f161",
        "colab": {
          "base_uri": "https://localhost:8080/",
          "height": 284
        }
      },
      "source": [
        "X_train.describe()"
      ],
      "execution_count": 0,
      "outputs": [
        {
          "output_type": "execute_result",
          "data": {
            "text/html": [
              "<div>\n",
              "<style scoped>\n",
              "    .dataframe tbody tr th:only-of-type {\n",
              "        vertical-align: middle;\n",
              "    }\n",
              "\n",
              "    .dataframe tbody tr th {\n",
              "        vertical-align: top;\n",
              "    }\n",
              "\n",
              "    .dataframe thead th {\n",
              "        text-align: right;\n",
              "    }\n",
              "</style>\n",
              "<table border=\"1\" class=\"dataframe\">\n",
              "  <thead>\n",
              "    <tr style=\"text-align: right;\">\n",
              "      <th></th>\n",
              "      <th>index</th>\n",
              "      <th>helpful_votes</th>\n",
              "      <th>total_votes</th>\n",
              "      <th>helpful_rate</th>\n",
              "      <th>review_body_len</th>\n",
              "    </tr>\n",
              "  </thead>\n",
              "  <tbody>\n",
              "    <tr>\n",
              "      <th>count</th>\n",
              "      <td>6024324.000</td>\n",
              "      <td>6024324.000</td>\n",
              "      <td>6024324.000</td>\n",
              "      <td>6024324.000</td>\n",
              "      <td>6024324.000</td>\n",
              "    </tr>\n",
              "    <tr>\n",
              "      <th>mean</th>\n",
              "      <td>2936058.346</td>\n",
              "      <td>2.069</td>\n",
              "      <td>3.270</td>\n",
              "      <td>-0.339</td>\n",
              "      <td>62.540</td>\n",
              "    </tr>\n",
              "    <tr>\n",
              "      <th>std</th>\n",
              "      <td>2074282.432</td>\n",
              "      <td>30.429</td>\n",
              "      <td>34.583</td>\n",
              "      <td>0.796</td>\n",
              "      <td>91.516</td>\n",
              "    </tr>\n",
              "    <tr>\n",
              "      <th>min</th>\n",
              "      <td>0.000</td>\n",
              "      <td>0.000</td>\n",
              "      <td>0.000</td>\n",
              "      <td>-1.000</td>\n",
              "      <td>1.000</td>\n",
              "    </tr>\n",
              "    <tr>\n",
              "      <th>25%</th>\n",
              "      <td>1075921.750</td>\n",
              "      <td>0.000</td>\n",
              "      <td>0.000</td>\n",
              "      <td>-1.000</td>\n",
              "      <td>20.000</td>\n",
              "    </tr>\n",
              "    <tr>\n",
              "      <th>50%</th>\n",
              "      <td>2598384.000</td>\n",
              "      <td>0.000</td>\n",
              "      <td>0.000</td>\n",
              "      <td>-1.000</td>\n",
              "      <td>28.000</td>\n",
              "    </tr>\n",
              "    <tr>\n",
              "      <th>75%</th>\n",
              "      <td>4749766.250</td>\n",
              "      <td>1.000</td>\n",
              "      <td>2.000</td>\n",
              "      <td>0.500</td>\n",
              "      <td>64.000</td>\n",
              "    </tr>\n",
              "    <tr>\n",
              "      <th>max</th>\n",
              "      <td>6900885.000</td>\n",
              "      <td>27550.000</td>\n",
              "      <td>28727.000</td>\n",
              "      <td>1.000</td>\n",
              "      <td>478.240</td>\n",
              "    </tr>\n",
              "  </tbody>\n",
              "</table>\n",
              "</div>"
            ],
            "text/plain": [
              "            index  helpful_votes  total_votes  helpful_rate  review_body_len\n",
              "count 6024324.000    6024324.000  6024324.000   6024324.000      6024324.000\n",
              "mean  2936058.346          2.069        3.270        -0.339           62.540\n",
              "std   2074282.432         30.429       34.583         0.796           91.516\n",
              "min         0.000          0.000        0.000        -1.000            1.000\n",
              "25%   1075921.750          0.000        0.000        -1.000           20.000\n",
              "50%   2598384.000          0.000        0.000        -1.000           28.000\n",
              "75%   4749766.250          1.000        2.000         0.500           64.000\n",
              "max   6900885.000      27550.000    28727.000         1.000          478.240"
            ]
          },
          "metadata": {
            "tags": []
          },
          "execution_count": 68
        }
      ]
    },
    {
      "cell_type": "code",
      "metadata": {
        "id": "NLrtLCZ6OQdw",
        "colab_type": "code",
        "outputId": "44921b19-e0d5-4e3b-a642-19490626e9e6",
        "colab": {
          "base_uri": "https://localhost:8080/",
          "height": 295
        }
      },
      "source": [
        "X_train.review_body_len.hist(bins=200)\n",
        "plt.xlabel('Review Length Smoothed')\n",
        "plt.ylabel('Count')\n",
        "plt.title('Distribution of Review Lengths for X_train');"
      ],
      "execution_count": 0,
      "outputs": [
        {
          "output_type": "display_data",
          "data": {
            "image/png": "[encoded data removed]",
            "text/plain": [
              "<Figure size 432x288 with 1 Axes>"
            ]
          },
          "metadata": {
            "tags": []
          }
        }
      ]
    },
    {
      "cell_type": "code",
      "metadata": {
        "id": "L2qAN94n-kB1",
        "colab_type": "code",
        "colab": {}
      },
      "source": [
        "# Text cleaning.\n",
        "def _strip_html(text):\n",
        "    soup = BeautifulSoup(text, \"html.parser\")\n",
        "    return soup.get_text()\n",
        "\n",
        "\n",
        "def _remove_between_square_brackets(text):\n",
        "    return re.sub('\\[[^]]*\\]', '', text)\n",
        "\n",
        "\n",
        "def denoise_text(text):\n",
        "    #text = _strip_html(text)\n",
        "    text = _remove_between_square_brackets(text)\n",
        "    return text"
      ],
      "execution_count": 0,
      "outputs": []
    },
    {
      "cell_type": "code",
      "metadata": {
        "id": "osDeBT1RBA5u",
        "colab_type": "code",
        "colab": {}
      },
      "source": [
        "X_train['review_body'] = X_train.review_body.apply(denoise_text)"
      ],
      "execution_count": 0,
      "outputs": []
    },
    {
      "cell_type": "code",
      "metadata": {
        "id": "gU2iOW0MTKAP",
        "colab_type": "code",
        "colab": {}
      },
      "source": [
        "X_eval['review_body'] = X_eval.review_body.apply(denoise_text)"
      ],
      "execution_count": 0,
      "outputs": []
    },
    {
      "cell_type": "code",
      "metadata": {
        "id": "REJf3ks5TJXN",
        "colab_type": "code",
        "colab": {}
      },
      "source": [
        "X_holdout['review_body'] = X_holdout.review_body.apply(denoise_text)"
      ],
      "execution_count": 0,
      "outputs": []
    },
    {
      "cell_type": "code",
      "metadata": {
        "id": "KlZjELgsaP7Z",
        "colab_type": "code",
        "outputId": "bfb96c4b-93de-455a-b0c2-a411da23e834",
        "colab": {
          "base_uri": "https://localhost:8080/",
          "height": 34
        }
      },
      "source": [
        "os.getcwd()"
      ],
      "execution_count": 0,
      "outputs": [
        {
          "output_type": "execute_result",
          "data": {
            "text/plain": [
              "'/content/drive/My Drive/Colab Datasets'"
            ]
          },
          "metadata": {
            "tags": []
          },
          "execution_count": 74
        }
      ]
    },
    {
      "cell_type": "code",
      "metadata": {
        "id": "x2LT2YDZgiqa",
        "colab_type": "code",
        "colab": {}
      },
      "source": [
        "vect = CountVectorizer(encoding='utf-8', lowercase=True, stop_words='english',\n",
        "                       ngram_range=(1,1), min_df=10, max_features=5_000,\n",
        "                       dtype=np.int32)"
      ],
      "execution_count": 0,
      "outputs": []
    },
    {
      "cell_type": "code",
      "metadata": {
        "id": "lMLZWUuZjepb",
        "colab_type": "code",
        "colab": {}
      },
      "source": [
        "X_train_text_vect = vect.fit_transform(X_train.review_body)"
      ],
      "execution_count": 0,
      "outputs": []
    },
    {
      "cell_type": "code",
      "metadata": {
        "id": "xrLKsTYrjeaU",
        "colab_type": "code",
        "colab": {}
      },
      "source": [
        "X_eval_text_vect = vect.transform(X_eval.review_body)"
      ],
      "execution_count": 0,
      "outputs": []
    },
    {
      "cell_type": "code",
      "metadata": {
        "id": "yg-pw9kykFdz",
        "colab_type": "code",
        "colab": {}
      },
      "source": [
        "X_holdout_text_vect = vect.transform(X_holdout.review_body)"
      ],
      "execution_count": 0,
      "outputs": []
    },
    {
      "cell_type": "code",
      "metadata": {
        "id": "GP-VuPJ77ZGn",
        "colab_type": "code",
        "outputId": "84b8e3cd-1ec5-4cef-d312-30d7dba42d0c",
        "colab": {
          "base_uri": "https://localhost:8080/",
          "height": 34
        }
      },
      "source": [
        "type(X_eval_text_vect)"
      ],
      "execution_count": 0,
      "outputs": [
        {
          "output_type": "execute_result",
          "data": {
            "text/plain": [
              "scipy.sparse.csr.csr_matrix"
            ]
          },
          "metadata": {
            "tags": []
          },
          "execution_count": 79
        }
      ]
    },
    {
      "cell_type": "code",
      "metadata": {
        "id": "_Z4O1pDy7qCD",
        "colab_type": "code",
        "colab": {}
      },
      "source": [
        "scipy.sparse.save_npz('X_train_text_sparse', X_train_text_vect)"
      ],
      "execution_count": 0,
      "outputs": []
    },
    {
      "cell_type": "code",
      "metadata": {
        "id": "x89E9XYWxwhC",
        "colab_type": "code",
        "colab": {}
      },
      "source": [
        "scipy.sparse.save_npz('X_eval_text_sparse', X_eval_text_vect)"
      ],
      "execution_count": 0,
      "outputs": []
    },
    {
      "cell_type": "code",
      "metadata": {
        "id": "7dpogEEA9Jfd",
        "colab_type": "code",
        "colab": {}
      },
      "source": [
        "scipy.sparse.save_npz('X_holdout_text_sparse', X_holdout_text_vect)"
      ],
      "execution_count": 0,
      "outputs": []
    },
    {
      "cell_type": "code",
      "metadata": {
        "id": "7fjhpsa9d1_i",
        "colab_type": "code",
        "colab": {}
      },
      "source": [
        "X_train['target'] = y_train\n",
        "X_eval['target'] = y_eval\n",
        "X_holdout['target'] = y_holdout"
      ],
      "execution_count": 0,
      "outputs": []
    },
    {
      "cell_type": "code",
      "metadata": {
        "id": "QNcjW1MaewRC",
        "colab_type": "code",
        "colab": {}
      },
      "source": [
        "X_train.to_csv('train_clean.tsv', index=False, sep='\\t')"
      ],
      "execution_count": 0,
      "outputs": []
    },
    {
      "cell_type": "code",
      "metadata": {
        "id": "epeu_-v5aipX",
        "colab_type": "code",
        "colab": {}
      },
      "source": [
        "X_eval.to_csv('eval_clean.tsv', index=False, sep='\\t')"
      ],
      "execution_count": 0,
      "outputs": []
    },
    {
      "cell_type": "code",
      "metadata": {
        "id": "-R45u2ZUaiKf",
        "colab_type": "code",
        "colab": {}
      },
      "source": [
        "X_holdout.to_csv('holdout_clean.tsv', index=False, sep='\\t')"
      ],
      "execution_count": 0,
      "outputs": []
    },
    {
      "cell_type": "code",
      "metadata": {
        "id": "xes-1o47a9eV",
        "colab_type": "code",
        "colab": {}
      },
      "source": [
        "text_col_names = vect.get_feature_names()"
      ],
      "execution_count": 0,
      "outputs": []
    },
    {
      "cell_type": "code",
      "metadata": {
        "id": "B75Y3rO3_Hbj",
        "colab_type": "code",
        "outputId": "c79dda04-4070-47d1-e847-6bbc3dea8971",
        "colab": {
          "base_uri": "https://localhost:8080/",
          "height": 34
        }
      },
      "source": [
        "len(text_col_names)"
      ],
      "execution_count": 0,
      "outputs": [
        {
          "output_type": "execute_result",
          "data": {
            "text/plain": [
              "5000"
            ]
          },
          "metadata": {
            "tags": []
          },
          "execution_count": 88
        }
      ]
    },
    {
      "cell_type": "code",
      "metadata": {
        "id": "5_SZOsQ8_Nhx",
        "colab_type": "code",
        "colab": {}
      },
      "source": [
        "with open('text_col_names.csv', 'a') as f:\n",
        "  for col in text_col_names:\n",
        "    f.write('{}, '.format(col))"
      ],
      "execution_count": 0,
      "outputs": []
    },
    {
      "cell_type": "code",
      "metadata": {
        "id": "YChprtPqZWTa",
        "colab_type": "code",
        "outputId": "f0de907b-3678-43df-a8e7-a5fc89f34711",
        "colab": {
          "base_uri": "https://localhost:8080/",
          "height": 185
        }
      },
      "source": [
        "ls -lah"
      ],
      "execution_count": 0,
      "outputs": [
        {
          "output_type": "stream",
          "text": [
            "total 8.0G\n",
            "-rw------- 1 root root 821M Sep 27 17:40 amazon_reviews_UK.tsv\n",
            "-rw------- 1 root root 3.4G Sep 27 17:40 amazon_reviews_US.tsv\n",
            "-rw------- 1 root root 529M Nov 16 01:45 eval_clean.tsv\n",
            "-rw------- 1 root root 531M Nov 16 01:46 holdout_clean.tsv\n",
            "-rw------- 1 root root 127K Nov 16 01:48 text_col_names.csv\n",
            "-rw------- 1 root root 2.5G Nov 16 01:45 train_clean.tsv\n",
            "-rw------- 1 root root  54M Nov 16 01:42 X_eval_text_sparse.npz\n",
            "-rw------- 1 root root  54M Nov 16 01:43 X_holdout_text_sparse.npz\n",
            "-rw------- 1 root root 259M Nov 16 01:42 X_train_text_sparse.npz\n"
          ],
          "name": "stdout"
        }
      ]
    },
    {
      "cell_type": "markdown",
      "metadata": {
        "id": "UmZRopjVp8g9",
        "colab_type": "text"
      },
      "source": [
        ""
      ]
    }
  ]
}