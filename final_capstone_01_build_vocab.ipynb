{
  "nbformat": 4,
  "nbformat_minor": 0,
  "metadata": {
    "colab": {
      "name": "final_capstone_01_build_vocab.ipynb",
      "provenance": [],
      "collapsed_sections": [],
      "machine_shape": "hm",
      "include_colab_link": true
    },
    "kernelspec": {
      "name": "python3",
      "display_name": "Python 3"
    },
    "accelerator": "GPU"
  },
  "cells": [
    {
      "cell_type": "markdown",
      "metadata": {
        "id": "view-in-github",
        "colab_type": "text"
      },
      "source": [
        "<a href=\"https://colab.research.google.com/github/serfsup/thinkful-final-capstone/blob/master/final_capstone_01_build_vocab.ipynb\" target=\"_parent\"><img src=\"https://colab.research.google.com/assets/colab-badge.svg\" alt=\"Open In Colab\"/></a>"
      ]
    },
    {
      "cell_type": "code",
      "metadata": {
        "id": "J2nWSHykIFNO",
        "colab_type": "code",
        "outputId": "72b0e3a7-9fb2-42d1-d25c-ab99716cc3d8",
        "colab": {
          "base_uri": "https://localhost:8080/",
          "height": 54
        }
      },
      "source": [
        "from google.colab import drive\n",
        "drive.mount('/content/drive/')"
      ],
      "execution_count": 0,
      "outputs": [
        {
          "output_type": "stream",
          "text": [
            "Drive already mounted at /content/drive/; to attempt to forcibly remount, call drive.mount(\"/content/drive/\", force_remount=True).\n"
          ],
          "name": "stdout"
        }
      ]
    },
    {
      "cell_type": "code",
      "metadata": {
        "id": "YvJ_FCiHKhVY",
        "colab_type": "code",
        "outputId": "b5f888ce-f0cb-42bb-f27a-ad20d086a4e7",
        "colab": {
          "base_uri": "https://localhost:8080/",
          "height": 34
        }
      },
      "source": [
        "cd 'drive/My Drive/Colab Datasets'"
      ],
      "execution_count": 0,
      "outputs": [
        {
          "output_type": "stream",
          "text": [
            "/content/drive/My Drive/Colab Datasets\n"
          ],
          "name": "stdout"
        }
      ]
    },
    {
      "cell_type": "code",
      "metadata": {
        "id": "qBimwRvZKg8r",
        "colab_type": "code",
        "colab": {}
      },
      "source": [
        "import json\n",
        "import os\n",
        "import re\n",
        "\n",
        "import dask.array as da\n",
        "from dask import dataframe as dd\n",
        "import numpy as np\n",
        "import pandas as pd\n",
        "from tqdm import trange, tqdm\n",
        "\n",
        "# Display preferences.\n",
        "pd.options.display.float_format = '{:.3f}'.format"
      ],
      "execution_count": 0,
      "outputs": []
    },
    {
      "cell_type": "code",
      "metadata": {
        "id": "plL34BqLK-kA",
        "colab_type": "code",
        "outputId": "93906ed1-d889-43c3-806a-c351cafa4987",
        "colab": {
          "base_uri": "https://localhost:8080/",
          "height": 252
        }
      },
      "source": [
        "os.listdir()"
      ],
      "execution_count": 0,
      "outputs": [
        {
          "output_type": "execute_result",
          "data": {
            "text/plain": [
              "['train_clean.tsv',\n",
              " 'eval_clean.tsv',\n",
              " 'holdout_clean.tsv',\n",
              " 'text_col_names.csv',\n",
              " 'X_train_clean.tsv',\n",
              " 'dask-worker-space',\n",
              " 'word_to_index.json',\n",
              " 'index_to_word.json',\n",
              " 'eval_uniform_length.tsv',\n",
              " 'holdout_uniform_length.tsv',\n",
              " 'train_numeric.tsv',\n",
              " 'eval_numeric.tsv',\n",
              " 'holdout_numeric.tsv',\n",
              " 'train_uniform_length.tsv']"
            ]
          },
          "metadata": {
            "tags": []
          },
          "execution_count": 4
        }
      ]
    },
    {
      "cell_type": "code",
      "metadata": {
        "id": "9SbtxHbeozoQ",
        "colab_type": "code",
        "colab": {}
      },
      "source": [
        "train_clean = dd.read_csv('train_clean.tsv', sep='\\t')\n",
        "train_clean = train_clean.dropna(how='any')"
      ],
      "execution_count": 0,
      "outputs": []
    },
    {
      "cell_type": "code",
      "metadata": {
        "id": "HCmHFS8krMYa",
        "colab_type": "code",
        "outputId": "e8853d97-1b23-4b29-fa04-833205db003f",
        "colab": {
          "base_uri": "https://localhost:8080/",
          "height": 450
        }
      },
      "source": [
        "eval_clean = dd.read_csv('eval_clean.tsv', sep='\\t')\n",
        "eval_clean.head()"
      ],
      "execution_count": 0,
      "outputs": [
        {
          "output_type": "execute_result",
          "data": {
            "text/html": [
              "<div>\n",
              "<style scoped>\n",
              "    .dataframe tbody tr th:only-of-type {\n",
              "        vertical-align: middle;\n",
              "    }\n",
              "\n",
              "    .dataframe tbody tr th {\n",
              "        vertical-align: top;\n",
              "    }\n",
              "\n",
              "    .dataframe thead th {\n",
              "        text-align: right;\n",
              "    }\n",
              "</style>\n",
              "<table border=\"1\" class=\"dataframe\">\n",
              "  <thead>\n",
              "    <tr style=\"text-align: right;\">\n",
              "      <th></th>\n",
              "      <th>index</th>\n",
              "      <th>marketplace</th>\n",
              "      <th>product_category</th>\n",
              "      <th>helpful_votes</th>\n",
              "      <th>total_votes</th>\n",
              "      <th>vine</th>\n",
              "      <th>verified_purchase</th>\n",
              "      <th>review_body</th>\n",
              "      <th>helpful_rate</th>\n",
              "      <th>review_body_len</th>\n",
              "      <th>target</th>\n",
              "    </tr>\n",
              "  </thead>\n",
              "  <tbody>\n",
              "    <tr>\n",
              "      <th>0</th>\n",
              "      <td>5568261</td>\n",
              "      <td>US</td>\n",
              "      <td>Video DVD</td>\n",
              "      <td>0</td>\n",
              "      <td>1</td>\n",
              "      <td>N</td>\n",
              "      <td>Y</td>\n",
              "      <td>Great movie.</td>\n",
              "      <td>0.000</td>\n",
              "      <td>2.000</td>\n",
              "      <td>5</td>\n",
              "    </tr>\n",
              "    <tr>\n",
              "      <th>1</th>\n",
              "      <td>400452</td>\n",
              "      <td>US</td>\n",
              "      <td>Music</td>\n",
              "      <td>0</td>\n",
              "      <td>2</td>\n",
              "      <td>N</td>\n",
              "      <td>N</td>\n",
              "      <td>This is a good CD and is for any nirvana fan. ...</td>\n",
              "      <td>0.000</td>\n",
              "      <td>46.000</td>\n",
              "      <td>5</td>\n",
              "    </tr>\n",
              "    <tr>\n",
              "      <th>2</th>\n",
              "      <td>92658</td>\n",
              "      <td>US</td>\n",
              "      <td>Music</td>\n",
              "      <td>2</td>\n",
              "      <td>5</td>\n",
              "      <td>N</td>\n",
              "      <td>N</td>\n",
              "      <td>The V.W. commercial was surprising and certain...</td>\n",
              "      <td>0.400</td>\n",
              "      <td>47.000</td>\n",
              "      <td>5</td>\n",
              "    </tr>\n",
              "    <tr>\n",
              "      <th>3</th>\n",
              "      <td>2896871</td>\n",
              "      <td>US</td>\n",
              "      <td>Digital_Ebook_Purchase</td>\n",
              "      <td>0</td>\n",
              "      <td>0</td>\n",
              "      <td>N</td>\n",
              "      <td>Y</td>\n",
              "      <td>Great for any age! Read before the movie comes...</td>\n",
              "      <td>-1.000</td>\n",
              "      <td>21.000</td>\n",
              "      <td>5</td>\n",
              "    </tr>\n",
              "    <tr>\n",
              "      <th>4</th>\n",
              "      <td>3228665</td>\n",
              "      <td>US</td>\n",
              "      <td>Mobile_Apps</td>\n",
              "      <td>0</td>\n",
              "      <td>0</td>\n",
              "      <td>N</td>\n",
              "      <td>Y</td>\n",
              "      <td>Love it. Awesome Free app. Lots of fame option...</td>\n",
              "      <td>-1.000</td>\n",
              "      <td>23.000</td>\n",
              "      <td>5</td>\n",
              "    </tr>\n",
              "  </tbody>\n",
              "</table>\n",
              "</div>"
            ],
            "text/plain": [
              "     index marketplace  ... review_body_len  target\n",
              "0  5568261          US  ...           2.000       5\n",
              "1   400452          US  ...          46.000       5\n",
              "2    92658          US  ...          47.000       5\n",
              "3  2896871          US  ...          21.000       5\n",
              "4  3228665          US  ...          23.000       5\n",
              "\n",
              "[5 rows x 11 columns]"
            ]
          },
          "metadata": {
            "tags": []
          },
          "execution_count": 6
        }
      ]
    },
    {
      "cell_type": "code",
      "metadata": {
        "id": "4cSVX9nGEmiq",
        "colab_type": "code",
        "colab": {}
      },
      "source": [
        "def make_lengths_uniform(df: dd.DataFrame, mean: float, std: float,\n",
        "                         col: str = 'review_body', padding_tok: str = '<pad>'):\n",
        "  \"\"\"\n",
        "  Makes the lengths of the reviews the same to help with embeddings\n",
        "\n",
        "  Args:\n",
        "    df: the dataset\n",
        "    mean: the mean review length\n",
        "    std: the std of review length\n",
        "    col: the base column to be set to uniform length\n",
        "    padding_token: str to add if the review is shorter than spec\n",
        "  Returns:\n",
        "    The string with padding added or cropped from end to spec\n",
        "  \"\"\"\n",
        "  to_return = []\n",
        "  spec = int(round(mean + (std * 3), 0))\n",
        "  for _, row in tqdm(df.iterrows()):\n",
        "    review = row[col]\n",
        "    review_length = len(review.split())\n",
        "    if review_length < spec:\n",
        "      amount_to_add = int(spec - review_length)\n",
        "      padding = f' {padding_tok}' * amount_to_add\n",
        "      to_return.append((f'{review} {padding}', row['target']))\n",
        "    elif review_length > spec:\n",
        "      split = review.split()[:spec]\n",
        "      to_return.append((' '.join(split), row['target']))\n",
        "    else:\n",
        "      to_return.append((review, row['target']))\n",
        "  return to_return"
      ],
      "execution_count": 0,
      "outputs": []
    },
    {
      "cell_type": "code",
      "metadata": {
        "id": "tJPRTyJPg4aU",
        "colab_type": "code",
        "outputId": "eeb03a30-7f5d-479c-f319-2645e85b156c",
        "colab": {
          "base_uri": "https://localhost:8080/",
          "height": 34
        }
      },
      "source": [
        "_ = make_lengths_uniform(train_clean, 68.885, 136.525)"
      ],
      "execution_count": 0,
      "outputs": [
        {
          "output_type": "stream",
          "text": [
            "6024321it [10:55, 9192.76it/s]\n"
          ],
          "name": "stderr"
        }
      ]
    },
    {
      "cell_type": "code",
      "metadata": {
        "id": "R0ZbpRvaEQ49",
        "colab_type": "code",
        "colab": {}
      },
      "source": [
        "assert len(_) == len(train_clean)"
      ],
      "execution_count": 0,
      "outputs": []
    },
    {
      "cell_type": "code",
      "metadata": {
        "id": "0CIesmASxVIX",
        "colab_type": "code",
        "outputId": "1591948e-4c46-485f-e460-420c85167500",
        "colab": {
          "base_uri": "https://localhost:8080/",
          "height": 34
        }
      },
      "source": [
        "with open('./train_uniform_length.tsv', 'w') as f:\n",
        "  for data in tqdm(_):\n",
        "    review, label = data\n",
        "    f.write(f'{review}\\t{label}\\n')"
      ],
      "execution_count": 0,
      "outputs": [
        {
          "output_type": "stream",
          "text": [
            "100%|██████████| 6024321/6024321 [01:26<00:00, 69905.20it/s]\n"
          ],
          "name": "stderr"
        }
      ]
    },
    {
      "cell_type": "code",
      "metadata": {
        "id": "iw7mgxcxcLlu",
        "colab_type": "code",
        "outputId": "3d13d42f-bc07-4591-9c82-4572704b2a9a",
        "colab": {
          "base_uri": "https://localhost:8080/",
          "height": 34
        }
      },
      "source": [
        "cat train_uniform_length.tsv | wc -l"
      ],
      "execution_count": 0,
      "outputs": [
        {
          "output_type": "stream",
          "text": [
            "6024321\n"
          ],
          "name": "stdout"
        }
      ]
    },
    {
      "cell_type": "code",
      "metadata": {
        "id": "yWUGWxHrGJav",
        "colab_type": "code",
        "colab": {}
      },
      "source": [
        "del _"
      ],
      "execution_count": 0,
      "outputs": []
    },
    {
      "cell_type": "code",
      "metadata": {
        "id": "qCj61kqV2y7Q",
        "colab_type": "code",
        "colab": {}
      },
      "source": [
        "with open('./train_uniform_length.tsv', 'r') as f:\n",
        "  data = f.readlines()"
      ],
      "execution_count": 0,
      "outputs": []
    },
    {
      "cell_type": "code",
      "metadata": {
        "id": "_NVMcWSPnybP",
        "colab_type": "code",
        "colab": {}
      },
      "source": [
        "unique_words = set()\n",
        "for line in tqdm(data):\n",
        "  line = line.strip()\n",
        "  words = line.split()\n",
        "  for word in words[:-1]:  # to not leak the label\n",
        "    unique_words.add(word)"
      ],
      "execution_count": 0,
      "outputs": []
    },
    {
      "cell_type": "code",
      "metadata": {
        "id": "dnVQ8D2i9xxP",
        "colab_type": "code",
        "colab": {}
      },
      "source": [
        "del data"
      ],
      "execution_count": 0,
      "outputs": []
    },
    {
      "cell_type": "code",
      "metadata": {
        "id": "K-tBUz5PoaM4",
        "colab_type": "code",
        "colab": {}
      },
      "source": [
        "word_to_index = {val: key for key, val in enumerate(unique_words)}\n",
        "unk_index = max([*word_to_index.values()]) + 1\n",
        "word_to_index['<unk>'] = unk_index  # add unknown token for out of vocab words."
      ],
      "execution_count": 0,
      "outputs": []
    },
    {
      "cell_type": "code",
      "metadata": {
        "id": "UYd1Gu8z2E1F",
        "colab_type": "code",
        "colab": {}
      },
      "source": [
        "assert len(unique_words) + 1 == len(word_to_index.keys())"
      ],
      "execution_count": 0,
      "outputs": []
    },
    {
      "cell_type": "code",
      "metadata": {
        "id": "roD1PLoXpY-u",
        "colab_type": "code",
        "colab": {}
      },
      "source": [
        "index_to_word = {val: key for key, val in word_to_index.items()}\n",
        "assert len(word_to_index) == len(index_to_word)"
      ],
      "execution_count": 0,
      "outputs": []
    },
    {
      "cell_type": "code",
      "metadata": {
        "id": "1XZE6TdrElWg",
        "colab_type": "code",
        "colab": {}
      },
      "source": [
        "with open('./word_to_index.json', 'w') as f:\n",
        "  json.dump(word_to_index, f)"
      ],
      "execution_count": 0,
      "outputs": []
    },
    {
      "cell_type": "code",
      "metadata": {
        "id": "TiH6J13PB9t5",
        "colab_type": "code",
        "colab": {}
      },
      "source": [
        "with open('./index_to_word.json', 'w') as f:\n",
        "  json.dump(index_to_word, f)"
      ],
      "execution_count": 0,
      "outputs": []
    }
  ]
}