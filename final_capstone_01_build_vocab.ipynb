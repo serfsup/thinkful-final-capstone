{
 "cells": [
  {
   "cell_type": "markdown",
   "metadata": {
    "colab_type": "text",
    "id": "view-in-github"
   },
   "source": [
    "<a href=\"https://colab.research.google.com/github/serfsup/thinkful-final-capstone/blob/master/final_capstone_01_build_vocab.ipynb\" target=\"_parent\"><img src=\"https://colab.research.google.com/assets/colab-badge.svg\" alt=\"Open In Colab\"/></a>"
   ]
  },
  {
   "cell_type": "code",
   "execution_count": 0,
   "metadata": {
    "colab": {
     "base_uri": "https://localhost:8080/",
     "height": 54
    },
    "colab_type": "code",
    "id": "J2nWSHykIFNO",
    "outputId": "72b0e3a7-9fb2-42d1-d25c-ab99716cc3d8"
   },
   "outputs": [
    {
     "name": "stdout",
     "output_type": "stream",
     "text": [
      "Drive already mounted at /content/drive/; to attempt to forcibly remount, call drive.mount(\"/content/drive/\", force_remount=True).\n"
     ]
    }
   ],
   "source": [
    "from google.colab import drive\n",
    "drive.mount('/content/drive/')"
   ]
  },
  {
   "cell_type": "code",
   "execution_count": 0,
   "metadata": {
    "colab": {
     "base_uri": "https://localhost:8080/",
     "height": 34
    },
    "colab_type": "code",
    "id": "YvJ_FCiHKhVY",
    "outputId": "b5f888ce-f0cb-42bb-f27a-ad20d086a4e7"
   },
   "outputs": [
    {
     "name": "stdout",
     "output_type": "stream",
     "text": [
      "/content/drive/My Drive/Colab Datasets\n"
     ]
    }
   ],
   "source": [
    "cd 'drive/My Drive/Colab Datasets'"
   ]
  },
  {
   "cell_type": "code",
   "execution_count": 0,
   "metadata": {
    "colab": {},
    "colab_type": "code",
    "id": "qBimwRvZKg8r"
   },
   "outputs": [],
   "source": [
    "import json\n",
    "import os\n",
    "import re\n",
    "\n",
    "import dask.array as da\n",
    "from dask import dataframe as dd\n",
    "import numpy as np\n",
    "import pandas as pd\n",
    "from tqdm import trange, tqdm\n",
    "\n",
    "# Display preferences.\n",
    "pd.options.display.float_format = '{:.3f}'.format"
   ]
  },
  {
   "cell_type": "code",
   "execution_count": 0,
   "metadata": {
    "colab": {
     "base_uri": "https://localhost:8080/",
     "height": 252
    },
    "colab_type": "code",
    "id": "plL34BqLK-kA",
    "outputId": "93906ed1-d889-43c3-806a-c351cafa4987"
   },
   "outputs": [
    {
     "data": {
      "text/plain": [
       "['train_clean.tsv',\n",
       " 'eval_clean.tsv',\n",
       " 'holdout_clean.tsv',\n",
       " 'text_col_names.csv',\n",
       " 'X_train_clean.tsv',\n",
       " 'dask-worker-space',\n",
       " 'word_to_index.json',\n",
       " 'index_to_word.json',\n",
       " 'eval_uniform_length.tsv',\n",
       " 'holdout_uniform_length.tsv',\n",
       " 'train_numeric.tsv',\n",
       " 'eval_numeric.tsv',\n",
       " 'holdout_numeric.tsv',\n",
       " 'train_uniform_length.tsv']"
      ]
     },
     "execution_count": 4,
     "metadata": {
      "tags": []
     },
     "output_type": "execute_result"
    }
   ],
   "source": [
    "os.listdir()"
   ]
  },
  {
   "cell_type": "code",
   "execution_count": 0,
   "metadata": {
    "colab": {},
    "colab_type": "code",
    "id": "9SbtxHbeozoQ"
   },
   "outputs": [],
   "source": [
    "train_clean = dd.read_csv('train_clean.tsv', sep='\\t')\n",
    "train_clean = train_clean.dropna(how='any')"
   ]
  },
  {
   "cell_type": "code",
   "execution_count": 0,
   "metadata": {
    "colab": {
     "base_uri": "https://localhost:8080/",
     "height": 450
    },
    "colab_type": "code",
    "id": "HCmHFS8krMYa",
    "outputId": "e8853d97-1b23-4b29-fa04-833205db003f"
   },
   "outputs": [
    {
     "data": {
      "text/html": [
       "<div>\n",
       "<style scoped>\n",
       "    .dataframe tbody tr th:only-of-type {\n",
       "        vertical-align: middle;\n",
       "    }\n",
       "\n",
       "    .dataframe tbody tr th {\n",
       "        vertical-align: top;\n",
       "    }\n",
       "\n",
       "    .dataframe thead th {\n",
       "        text-align: right;\n",
       "    }\n",
       "</style>\n",
       "<table border=\"1\" class=\"dataframe\">\n",
       "  <thead>\n",
       "    <tr style=\"text-align: right;\">\n",
       "      <th></th>\n",
       "      <th>index</th>\n",
       "      <th>marketplace</th>\n",
       "      <th>product_category</th>\n",
       "      <th>helpful_votes</th>\n",
       "      <th>total_votes</th>\n",
       "      <th>vine</th>\n",
       "      <th>verified_purchase</th>\n",
       "      <th>review_body</th>\n",
       "      <th>helpful_rate</th>\n",
       "      <th>review_body_len</th>\n",
       "      <th>target</th>\n",
       "    </tr>\n",
       "  </thead>\n",
       "  <tbody>\n",
       "    <tr>\n",
       "      <th>0</th>\n",
       "      <td>5568261</td>\n",
       "      <td>US</td>\n",
       "      <td>Video DVD</td>\n",
       "      <td>0</td>\n",
       "      <td>1</td>\n",
       "      <td>N</td>\n",
       "      <td>Y</td>\n",
       "      <td>Great movie.</td>\n",
       "      <td>0.000</td>\n",
       "      <td>2.000</td>\n",
       "      <td>5</td>\n",
       "    </tr>\n",
       "    <tr>\n",
       "      <th>1</th>\n",
       "      <td>400452</td>\n",
       "      <td>US</td>\n",
       "      <td>Music</td>\n",
       "      <td>0</td>\n",
       "      <td>2</td>\n",
       "      <td>N</td>\n",
       "      <td>N</td>\n",
       "      <td>This is a good CD and is for any nirvana fan. ...</td>\n",
       "      <td>0.000</td>\n",
       "      <td>46.000</td>\n",
       "      <td>5</td>\n",
       "    </tr>\n",
       "    <tr>\n",
       "      <th>2</th>\n",
       "      <td>92658</td>\n",
       "      <td>US</td>\n",
       "      <td>Music</td>\n",
       "      <td>2</td>\n",
       "      <td>5</td>\n",
       "      <td>N</td>\n",
       "      <td>N</td>\n",
       "      <td>The V.W. commercial was surprising and certain...</td>\n",
       "      <td>0.400</td>\n",
       "      <td>47.000</td>\n",
       "      <td>5</td>\n",
       "    </tr>\n",
       "    <tr>\n",
       "      <th>3</th>\n",
       "      <td>2896871</td>\n",
       "      <td>US</td>\n",
       "      <td>Digital_Ebook_Purchase</td>\n",
       "      <td>0</td>\n",
       "      <td>0</td>\n",
       "      <td>N</td>\n",
       "      <td>Y</td>\n",
       "      <td>Great for any age! Read before the movie comes...</td>\n",
       "      <td>-1.000</td>\n",
       "      <td>21.000</td>\n",
       "      <td>5</td>\n",
       "    </tr>\n",
       "    <tr>\n",
       "      <th>4</th>\n",
       "      <td>3228665</td>\n",
       "      <td>US</td>\n",
       "      <td>Mobile_Apps</td>\n",
       "      <td>0</td>\n",
       "      <td>0</td>\n",
       "      <td>N</td>\n",
       "      <td>Y</td>\n",
       "      <td>Love it. Awesome Free app. Lots of fame option...</td>\n",
       "      <td>-1.000</td>\n",
       "      <td>23.000</td>\n",
       "      <td>5</td>\n",
       "    </tr>\n",
       "  </tbody>\n",
       "</table>\n",
       "</div>"
      ],
      "text/plain": [
       "     index marketplace  ... review_body_len  target\n",
       "0  5568261          US  ...           2.000       5\n",
       "1   400452          US  ...          46.000       5\n",
       "2    92658          US  ...          47.000       5\n",
       "3  2896871          US  ...          21.000       5\n",
       "4  3228665          US  ...          23.000       5\n",
       "\n",
       "[5 rows x 11 columns]"
      ]
     },
     "execution_count": 6,
     "metadata": {
      "tags": []
     },
     "output_type": "execute_result"
    }
   ],
   "source": [
    "eval_clean = dd.read_csv('eval_clean.tsv', sep='\\t')\n",
    "eval_clean.head()"
   ]
  },
  {
   "cell_type": "code",
   "execution_count": 0,
   "metadata": {
    "colab": {},
    "colab_type": "code",
    "id": "4cSVX9nGEmiq"
   },
   "outputs": [],
   "source": [
    "def make_lengths_uniform(df: dd.DataFrame, mean: float, std: float,\n",
    "                         col: str = 'review_body', padding_tok: str = '<pad>'):\n",
    "  \"\"\"\n",
    "  Makes the lengths of the reviews the same to help with embeddings\n",
    "\n",
    "  Args:\n",
    "    df: the dataset\n",
    "    mean: the mean review length\n",
    "    std: the std of review length\n",
    "    col: the base column to be set to uniform length\n",
    "    padding_token: str to add if the review is shorter than spec\n",
    "  Returns:\n",
    "    The string with padding added or cropped from end to spec\n",
    "  \"\"\"\n",
    "  to_return = []\n",
    "  spec = int(round(mean + (std * 3), 0))\n",
    "  for _, row in tqdm(df.iterrows()):\n",
    "    review = row[col]\n",
    "    review_length = len(review.split())\n",
    "    if review_length < spec:\n",
    "      amount_to_add = int(spec - review_length)\n",
    "      padding = f' {padding_tok}' * amount_to_add\n",
    "      to_return.append((f'{review} {padding}', row['target']))\n",
    "    elif review_length > spec:\n",
    "      split = review.split()[:spec]\n",
    "      to_return.append((' '.join(split), row['target']))\n",
    "    else:\n",
    "      to_return.append((review, row['target']))\n",
    "  return to_return"
   ]
  },
  {
   "cell_type": "code",
   "execution_count": 0,
   "metadata": {
    "colab": {
     "base_uri": "https://localhost:8080/",
     "height": 34
    },
    "colab_type": "code",
    "id": "tJPRTyJPg4aU",
    "outputId": "eeb03a30-7f5d-479c-f319-2645e85b156c"
   },
   "outputs": [
    {
     "name": "stderr",
     "output_type": "stream",
     "text": [
      "6024321it [10:55, 9192.76it/s]\n"
     ]
    }
   ],
   "source": [
    "_ = make_lengths_uniform(train_clean, 68.885, 136.525)"
   ]
  },
  {
   "cell_type": "code",
   "execution_count": 0,
   "metadata": {
    "colab": {},
    "colab_type": "code",
    "id": "R0ZbpRvaEQ49"
   },
   "outputs": [],
   "source": [
    "assert len(_) == len(train_clean)"
   ]
  },
  {
   "cell_type": "code",
   "execution_count": 0,
   "metadata": {
    "colab": {
     "base_uri": "https://localhost:8080/",
     "height": 34
    },
    "colab_type": "code",
    "id": "0CIesmASxVIX",
    "outputId": "1591948e-4c46-485f-e460-420c85167500"
   },
   "outputs": [
    {
     "name": "stderr",
     "output_type": "stream",
     "text": [
      "100%|██████████| 6024321/6024321 [01:26<00:00, 69905.20it/s]\n"
     ]
    }
   ],
   "source": [
    "with open('./train_uniform_length.tsv', 'w') as f:\n",
    "  for data in tqdm(_):\n",
    "    review, label = data\n",
    "    f.write(f'{review}\\t{label}\\n')"
   ]
  },
  {
   "cell_type": "code",
   "execution_count": 0,
   "metadata": {
    "colab": {
     "base_uri": "https://localhost:8080/",
     "height": 34
    },
    "colab_type": "code",
    "id": "iw7mgxcxcLlu",
    "outputId": "3d13d42f-bc07-4591-9c82-4572704b2a9a"
   },
   "outputs": [
    {
     "name": "stdout",
     "output_type": "stream",
     "text": [
      "6024321\n"
     ]
    }
   ],
   "source": [
    "cat train_uniform_length.tsv | wc -l"
   ]
  },
  {
   "cell_type": "code",
   "execution_count": 0,
   "metadata": {
    "colab": {},
    "colab_type": "code",
    "id": "yWUGWxHrGJav"
   },
   "outputs": [],
   "source": [
    "del _"
   ]
  },
  {
   "cell_type": "code",
   "execution_count": 0,
   "metadata": {
    "colab": {},
    "colab_type": "code",
    "id": "qCj61kqV2y7Q"
   },
   "outputs": [],
   "source": [
    "with open('./train_uniform_length.tsv', 'r') as f:\n",
    "  data = f.readlines()"
   ]
  },
  {
   "cell_type": "code",
   "execution_count": 0,
   "metadata": {
    "colab": {},
    "colab_type": "code",
    "id": "_NVMcWSPnybP"
   },
   "outputs": [],
   "source": [
    "unique_words = set()\n",
    "for line in tqdm(data):\n",
    "  line = line.strip()\n",
    "  words = line.split()\n",
    "  for word in words[:-1]:  # to not leak the label\n",
    "    unique_words.add(word)"
   ]
  },
  {
   "cell_type": "code",
   "execution_count": 0,
   "metadata": {
    "colab": {},
    "colab_type": "code",
    "id": "dnVQ8D2i9xxP"
   },
   "outputs": [],
   "source": [
    "del data"
   ]
  },
  {
   "cell_type": "code",
   "execution_count": 0,
   "metadata": {
    "colab": {},
    "colab_type": "code",
    "id": "K-tBUz5PoaM4"
   },
   "outputs": [],
   "source": [
    "word_to_index = {val: key for key, val in enumerate(unique_words)}\n",
    "unk_index = max([*word_to_index.values()]) + 1\n",
    "word_to_index['<unk>'] = unk_index  # add unknown token for out of vocab words."
   ]
  },
  {
   "cell_type": "code",
   "execution_count": 0,
   "metadata": {
    "colab": {},
    "colab_type": "code",
    "id": "UYd1Gu8z2E1F"
   },
   "outputs": [],
   "source": [
    "assert len(unique_words) + 1 == len(word_to_index.keys())"
   ]
  },
  {
   "cell_type": "code",
   "execution_count": 0,
   "metadata": {
    "colab": {},
    "colab_type": "code",
    "id": "roD1PLoXpY-u"
   },
   "outputs": [],
   "source": [
    "index_to_word = {val: key for key, val in word_to_index.items()}\n",
    "assert len(word_to_index) == len(index_to_word)"
   ]
  },
  {
   "cell_type": "code",
   "execution_count": 0,
   "metadata": {
    "colab": {},
    "colab_type": "code",
    "id": "1XZE6TdrElWg"
   },
   "outputs": [],
   "source": [
    "with open('./word_to_index.json', 'w') as f:\n",
    "  json.dump(word_to_index, f)"
   ]
  },
  {
   "cell_type": "code",
   "execution_count": 0,
   "metadata": {
    "colab": {},
    "colab_type": "code",
    "id": "TiH6J13PB9t5"
   },
   "outputs": [],
   "source": [
    "with open('./index_to_word.json', 'w') as f:\n",
    "  json.dump(index_to_word, f)"
   ]
  }
 ],
 "metadata": {
  "accelerator": "GPU",
  "colab": {
   "collapsed_sections": [],
   "include_colab_link": true,
   "machine_shape": "hm",
   "name": "final_capstone_01_build_vocab.ipynb",
   "provenance": []
  },
  "kernelspec": {
   "display_name": "Python 3",
   "language": "python",
   "name": "python3"
  },
  "language_info": {
   "codemirror_mode": {
    "name": "ipython",
    "version": 3
   },
   "file_extension": ".py",
   "mimetype": "text/x-python",
   "name": "python",
   "nbconvert_exporter": "python",
   "pygments_lexer": "ipython3",
   "version": "3.7.5"
  }
 },
 "nbformat": 4,
 "nbformat_minor": 1
}
